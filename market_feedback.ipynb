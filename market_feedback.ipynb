{
 "cells": [
  {
   "cell_type": "code",
   "execution_count": 1,
   "metadata": {},
   "outputs": [],
   "source": [
    "from typing import Optional, List\n",
    "from itertools import product\n",
    "from importlib import reload\n",
    "\n",
    "from numpy import sqrt\n",
    "import pandas as pd\n",
    "import xarray as xr\n",
    "xr.set_options(keep_attrs=True,\n",
    "               display_expand_data=False)\n",
    "\n",
    "import plotly.express as px\n",
    "import plotly.io as pio\n",
    "\n",
    "from data import build_dataset_with_composites, get_factor_master, build_factor_data2\n",
    "from stats import total_return\n",
    "from util import format_date\n",
    "\n",
    "from market_feedback import  draw_market_feedback_scatter #px_scatter,\n",
    "\n"
   ]
  },
  {
   "cell_type": "code",
   "execution_count": 2,
   "metadata": {},
   "outputs": [],
   "source": [
    "# factor_data.to_pickle('factor_data.pkl')"
   ]
  },
  {
   "cell_type": "code",
   "execution_count": null,
   "metadata": {},
   "outputs": [],
   "source": [
    "halflifes = [21, 63, 126, 252]\n",
    "factor_data = build_factor_data2(halflifes, factor_set='read')"
   ]
  },
  {
   "cell_type": "code",
   "execution_count": null,
   "metadata": {},
   "outputs": [],
   "source": [
    "return_start = '2024-12-31'\n",
    "return_end = '2025-01-28'\n",
    "return_title = f'Month-to-Date Return (std, as of {format_date(return_end)})'\n",
    "\n",
    "# return_start = '2025-01-21'\n",
    "# return_end = '2025-01-28'\n",
    "# return_title = f'5-day Return (std, {format_date(return_start)} - {format_date(return_end)})'\n",
    "\n",
    "vol_type = 63\n",
    "corr_type = 63\n",
    "corr_asset = 'IEF'\n",
    "\n",
    "fig = draw_market_feedback_scatter(factor_data, return_start, return_end, vol_type, corr_type, corr_asset, return_title)\n",
    "fig.show(renderer='png')\n",
    "# fig.write_html('fed_feedback.html')\n",
    "# fig.write_image('fed_feedback.png')\n"
   ]
  },
  {
   "cell_type": "markdown",
   "metadata": {},
   "source": [
    "# Loop through market feedback"
   ]
  },
  {
   "cell_type": "code",
   "execution_count": 51,
   "metadata": {},
   "outputs": [],
   "source": [
    "def get_intervals(ds: xr.Dataset) -> pd.DataFrame:\n",
    "    # TODO: Accept list of intervals, say [5, 21, 63]\n",
    "    dates = factor_data.indexes['date']\n",
    "    date_latest = dates.max()\n",
    "    year_start = pd.Timestamp(date_latest.year, 1, 1)\n",
    "    month_start = pd.Timestamp(date_latest.year, date_latest.month, 1)\n",
    "    ytd_start = dates[dates < year_start].max()  # prior_year_end\n",
    "    mtd_start = dates[dates < month_start].max() # prior_month_end\n",
    "    wow_start = dates[-5-1]                        # week_over_week\n",
    "    \n",
    "    return (pd.DataFrame(\n",
    "                columns = ['name', 'start_date', 'end_date',   'chart_title'],\n",
    "                data =   [['ytd',   ytd_start,    date_latest, 'Year-to-Date Return (std)'],\n",
    "                          ['mtd',   mtd_start,    date_latest, 'Month-to-Date Return (std)'],\n",
    "                          ['5d',    wow_start,    date_latest, '5-Day Return (std)'],\n",
    "                          ])\n",
    "            .set_index('name'))\n"
   ]
  },
  {
   "cell_type": "code",
   "execution_count": null,
   "metadata": {},
   "outputs": [],
   "source": [
    "def draw_market_feedback_scatter_set(factor_data, corr_asset_list, vol_type, corr_type):\n",
    "    # TODO: Add output path\n",
    "    # TODO: Add dates (and source) to chart\n",
    "    intervals = get_intervals(factor_data)\n",
    "    interval_list = intervals.index.to_list()\n",
    "\n",
    "    for corr_asset, interval in product(corr_asset_list, interval_list):\n",
    "        i = intervals.loc[interval]\n",
    "        fig = draw_market_feedback_scatter(factor_data, i['start_date'], i['end_date'], vol_type, corr_type, corr_asset, i['chart_title'])\n",
    "        fig.show(renderer='png')\n",
    "        fig.write_image(f'feedback_{corr_asset}_{interval}.png')\n",
    "        # fig.write_html(f'feedback_{corr_asset}_{interval}.html')\n",
    "\n",
    "corr_asset_list = ['SPY', 'IEF', 'GLD']\n",
    "vol_type = 63\n",
    "corr_type = 63\n",
    "draw_market_feedback_scatter_set(factor_data, corr_asset_list, vol_type, corr_type)"
   ]
  },
  {
   "cell_type": "markdown",
   "metadata": {},
   "source": [
    "# Correlation Matrix"
   ]
  },
  {
   "cell_type": "code",
   "execution_count": 7,
   "metadata": {},
   "outputs": [],
   "source": [
    "def sort_assets(corr: pd.DataFrame, sorting_factor: str, factor_master: pd.DataFrame) -> pd.Index:\n",
    "    df = (corr[[sorting_factor]]\n",
    "          .join(factor_master[['asset_class', 'hyper_factor']])\n",
    "          .assign(is_theme=lambda df: df['asset_class'] == 'Theme')\n",
    "          .assign(is_sorting_factor=lambda df: df.index == sorting_factor)\n",
    "          )\n",
    "    sorted_index = df.sort_values(by=['is_sorting_factor', 'hyper_factor', 'is_theme', sorting_factor], \n",
    "                                  ascending=[False, False, True, False], key=abs).index\n",
    "    return sorted_index\n"
   ]
  },
  {
   "cell_type": "code",
   "execution_count": null,
   "metadata": {},
   "outputs": [],
   "source": [
    "date_latest = factor_data.date.max().values\n",
    "corr = factor_data.corr.sel(corr_type=corr_type, date=date_latest).to_pandas()\n",
    "\n",
    "corr\n",
    "\n",
    "\n",
    "\n",
    "def format_corr_matrix(corr: pd.DataFrame): # -> pd.io.formats.style.Styler:\n",
    "    \"\"\"\n",
    "    Format the correlation matrix by adding asset class information and sorting.\n",
    "    \n",
    "    Parameters\n",
    "    ----------\n",
    "    corr : pd.DataFrame\n",
    "        The correlation matrix with assets as both rows and columns.\n",
    "    \n",
    "    Returns\n",
    "    -------\n",
    "    pd.io.formats.style.Styler\n",
    "        The formatted correlation matrix as a pandas Styler object.\n",
    "    \"\"\"\n",
    "    # Sort the correlation matrix by asset class\n",
    "    corr = corr\n",
    "    \n",
    "    # Style the correlation matrix\n",
    "    styled_corr = corr.style.background_gradient(cmap='coolwarm', vmin=-1, vmax=1).format(precision=2)\n",
    "    \n",
    "    return styled_corr\n",
    "\n",
    "# Apply the function to format the correlation matrix\n",
    "formatted_corr = format_corr_matrix(corr) #, factor_master['asset_class'])\n",
    "formatted_corr\n",
    "\n"
   ]
  },
  {
   "cell_type": "code",
   "execution_count": null,
   "metadata": {},
   "outputs": [],
   "source": [
    "factor_master = get_factor_master()\n",
    "\n",
    "date_t0 = factor_data.date.max().values\n",
    "date_t1  =factor_data.date[-63].values\n",
    "\n",
    "corr_t0 = factor_data.corr.sel(corr_type=corr_type, date=date_t0).to_pandas()\n",
    "corr_t1 = factor_data.corr.sel(corr_type=corr_type, date=date_t1).to_pandas()\n",
    "corr_diff = corr_t0 - corr_t1\n",
    "sorted_index = sort_assets(corr_t0, '2s10s', factor_master)\n",
    "sorted_index_chg = sort_assets(corr_diff, '2s10s', factor_master)\n",
    "\n",
    "format_corr_matrix(corr.loc[sorted_index, sorted_index])\n",
    "format_corr_matrix(corr_diff.loc[sorted_index_chg, sorted_index_chg])"
   ]
  },
  {
   "cell_type": "markdown",
   "metadata": {},
   "source": [
    "# Draw correlation time series"
   ]
  },
  {
   "cell_type": "code",
   "execution_count": null,
   "metadata": {},
   "outputs": [],
   "source": [
    "factor_data"
   ]
  },
  {
   "cell_type": "code",
   "execution_count": null,
   "metadata": {},
   "outputs": [],
   "source": [
    "asset1 = 'SPY'\n",
    "asset2 = 'IEF'\n",
    "start_date = '2020'\n",
    "start_date = None\n",
    "\n",
    "\n",
    "df1  = factor_data.sel(factor_name=asset1, factor_name_1=asset2, date=slice('2024', None)).corr.to_pandas().T.stack()\n",
    "\n",
    "from chart import draw_correlation, draw_volatility\n",
    "\n",
    "fig1 = draw_correlation(factor_data.corr.sel(date=slice(start_date, None)), asset1, asset2, [21, 63, 126, 252])\n",
    "fig1.show(renderer='png')\n",
    "\n",
    "fig2 = draw_volatility(factor_data.vol.sel(date=slice(start_date, None)), asset1, [21, 63, 126, 252])\n",
    "fig3 = draw_volatility(factor_data.vol.sel(date=slice(start_date, None)), asset2, [21, 63, 126, 252])\n",
    "\n",
    "fig2.show()\n",
    "fig3.show()\n",
    "\n",
    "fig1.show(renderer='png')\n",
    "# fig1.write_html('corr_ts.html')\n",
    "# fig1.write_image('corr_ts.png')\n"
   ]
  },
  {
   "cell_type": "code",
   "execution_count": null,
   "metadata": {},
   "outputs": [],
   "source": [
    "start_date = '2015'\n",
    "start_date = None\n",
    "\n",
    "corr_pairs = [('SPY', 'IEF'),\n",
    "            #   ('SHY', 'IEF'), \n",
    "            #   ('2s10s', 'SPY'), \n",
    "            #   ('2s10s', 'IEF'), \n",
    "            #   ('2s10s', 'HYGH'), \n",
    "            #   ('2s10s', 'HYG'), \n",
    "            #   ('2s10s', 'LQD'), \n",
    "              ('2s10s', 'LQDH'), \n",
    "            #   ('2s10s', 'VMBS'), \n",
    "            #   ('2s10s', 'AGNC')\n",
    "              ]\n",
    "\n",
    "for asset1, asset2 in corr_pairs:\n",
    "    fig = draw_correlation(factor_data.corr.sel(date=slice(start_date, None)), asset1, asset2, [21, 63, 126, 252])\n",
    "    fig.show(renderer='png')\n",
    "    # fig.write_html(f'corr_{asset1}_{asset2}.html')\n",
    "    # fig.write_image(f'corr_{asset1}_{asset2}.png')"
   ]
  },
  {
   "cell_type": "code",
   "execution_count": 12,
   "metadata": {},
   "outputs": [],
   "source": [
    "fig1.write_html('corr_ts.html')\n",
    "fig1.write_image('corr_ts.png')\n",
    "\n",
    "fig.write_html('fed_feedback.html')\n",
    "fig.write_image('fed_feedback.png')"
   ]
  },
  {
   "cell_type": "code",
   "execution_count": null,
   "metadata": {},
   "outputs": [],
   "source": [
    "# factor_data.ret.sel(asset=[asset1, asset2]).plot(hue='asset')\n",
    "factor_data.ret.sel(asset='IWM').plot()\n",
    "factor_data.ret.sel(asset='IEF').plot()\n",
    "factor_data.ret.sel(asset='SHY').plot()\n",
    "\n",
    "factor_data.ret.sel(asset='2s10s').plot()"
   ]
  }
 ],
 "metadata": {
  "kernelspec": {
   "display_name": "venv-bklm",
   "language": "python",
   "name": "python3"
  },
  "language_info": {
   "codemirror_mode": {
    "name": "ipython",
    "version": 3
   },
   "file_extension": ".py",
   "mimetype": "text/x-python",
   "name": "python",
   "nbconvert_exporter": "python",
   "pygments_lexer": "ipython3",
   "version": "3.11.9"
  }
 },
 "nbformat": 4,
 "nbformat_minor": 2
}
