{
 "cells": [
  {
   "cell_type": "code",
   "execution_count": null,
   "metadata": {},
   "outputs": [],
   "source": [
    "import psutil\n",
    "memory_info = psutil.Process().memory_info()\n",
    "print(f\"Memory usage: {memory_info.rss / 1024 ** 2:.2f} MB\")"
   ]
  },
  {
   "cell_type": "code",
   "execution_count": null,
   "metadata": {},
   "outputs": [],
   "source": [
    "memory_info.rss / (1024**2)"
   ]
  },
  {
   "cell_type": "code",
   "execution_count": null,
   "metadata": {},
   "outputs": [],
   "source": [
    "print(f'{memory_info.rss / (1024**2):.2f}')"
   ]
  },
  {
   "cell_type": "code",
   "execution_count": null,
   "metadata": {},
   "outputs": [],
   "source": [
    "import psutil\n",
    "import os\n",
    "\n",
    "# Get current process ID\n",
    "pid = os.getpid()\n",
    "process = psutil.Process(pid)\n",
    "\n",
    "# Check memory usage (in MB)\n",
    "memory_info = process.memory_info()\n",
    "print(f\"Memory usage: {memory_info.rss / 1024 ** 2:.2f} MB\")"
   ]
  },
  {
   "cell_type": "code",
   "execution_count": null,
   "metadata": {},
   "outputs": [],
   "source": [
    "from risk_lib.data import build_factor_data\n",
    "\n",
    "halflifes = [63, 252]\n",
    "ds = build_factor_data(halflifes)\n",
    "ds.cret.to_pandas()['SPY'].sort_values(ascending=False).head(10)"
   ]
  },
  {
   "cell_type": "code",
   "execution_count": null,
   "metadata": {},
   "outputs": [],
   "source": [
    "# data\n",
    "# px.line(data)"
   ]
  },
  {
   "cell_type": "code",
   "execution_count": null,
   "metadata": {},
   "outputs": [],
   "source": [
    "import streamlit as st\n",
    "import plotly.express as px\n",
    "import pandas as pd\n",
    "import yfinance as yf\n",
    "from risk_lib.data import get_factor_master\n",
    "\n",
    "factor_master = get_factor_master()\n",
    "factor_list = factor_master.index.values.tolist()\n",
    "data = yf.download(factor_list[:5], start='2020-01-01', end='2023-01-01')['Close']\n",
    "fig = px.line(data)\n",
    "fig.show()\n",
    "# st.write(fig)"
   ]
  },
  {
   "cell_type": "code",
   "execution_count": null,
   "metadata": {},
   "outputs": [],
   "source": [
    "import matplotlib.pyplot as plt\n",
    "data.plot()\n",
    "plt.show()"
   ]
  },
  {
   "cell_type": "code",
   "execution_count": null,
   "metadata": {},
   "outputs": [],
   "source": [
    "import matplotlib.pyplot as plt\n",
    "data.stack().to_xarray().sel(Ticker='SPY').plot()\n",
    "plt.show()"
   ]
  },
  {
   "cell_type": "code",
   "execution_count": null,
   "metadata": {},
   "outputs": [],
   "source": [
    "data['SPY'].plot()"
   ]
  },
  {
   "cell_type": "code",
   "execution_count": null,
   "metadata": {},
   "outputs": [],
   "source": [
    "import numpy as np\n",
    "import pandas as pd\n",
    "import matplotlib.pyplot as plt\n",
    "import xarray as xr"
   ]
  },
  {
   "cell_type": "code",
   "execution_count": null,
   "metadata": {},
   "outputs": [],
   "source": [
    "import numpy as np\n",
    "import xarray as xr\n",
    "import matplotlib.pyplot as plt\n",
    "\n",
    "# Create an example DataArray with time as a dimension\n",
    "time = np.arange(0, 10, 1)  # 10 time steps\n",
    "data = np.sin(time)  # Example sine wave data\n",
    "\n",
    "# Create DataArray\n",
    "da = xr.DataArray(data, coords=[time], dims=[\"time\"], name=\"Sine Wave\")\n",
    "\n",
    "# Plot using Matplotlib\n",
    "plt.figure(figsize=(8, 4))\n",
    "da.plot(marker='o', linestyle='-', color='b', label=\"Sine Wave\")\n",
    "\n",
    "plt.title(\"Example Matplotlib Chart from xarray.DataArray\")\n",
    "plt.xlabel(\"Time\")\n",
    "plt.ylabel(\"Value\")\n",
    "plt.legend()\n",
    "plt.grid(True)\n",
    "plt.show()"
   ]
  },
  {
   "cell_type": "code",
   "execution_count": null,
   "metadata": {},
   "outputs": [],
   "source": [
    "import numpy as np\n",
    "import pandas as pd\n",
    "import matplotlib.pyplot as plt\n",
    "\n",
    "# Create an example DataFrame with time as an index\n",
    "time = np.arange(0, 10, 1)  # 10 time steps\n",
    "data = np.sin(time)  # Example sine wave data\n",
    "\n",
    "# Create DataFrame\n",
    "df = pd.DataFrame({\"Time\": time, \"Sine Wave\": data}).set_index(\"Time\")\n",
    "\n",
    "# Plot using Matplotlib\n",
    "plt.figure(figsize=(8, 4))\n",
    "df.plot(marker='o', linestyle='-', color='b', legend=True)\n",
    "\n",
    "plt.title(\"Example Matplotlib Chart from pandas.DataFrame\")\n",
    "plt.xlabel(\"Time\")\n",
    "plt.ylabel(\"Value\")\n",
    "plt.grid(True)\n",
    "plt.show()\n"
   ]
  },
  {
   "cell_type": "code",
   "execution_count": null,
   "metadata": {},
   "outputs": [],
   "source": [
    "import matplotlib.pyplot as plt\n",
    "plt.switch_backend('module://matplotlib_inline.backend_inline')\n",
    "print(plt.get_backend())\n"
   ]
  }
 ],
 "metadata": {
  "kernelspec": {
   "display_name": "venv-bklm",
   "language": "python",
   "name": "python3"
  },
  "language_info": {
   "codemirror_mode": {
    "name": "ipython",
    "version": 3
   },
   "file_extension": ".py",
   "mimetype": "text/x-python",
   "name": "python",
   "nbconvert_exporter": "python",
   "pygments_lexer": "ipython3",
   "version": "3.11.9"
  }
 },
 "nbformat": 4,
 "nbformat_minor": 2
}
