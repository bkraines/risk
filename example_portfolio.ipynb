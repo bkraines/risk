{
 "cells": [
  {
   "cell_type": "code",
   "execution_count": null,
   "id": "ca82c930",
   "metadata": {},
   "outputs": [],
   "source": [
    "import pandas as pd\n",
    "import xarray as xr\n",
    "xr.set_options(keep_attrs=True,\n",
    "               display_expand_data=False)\n",
    "\n",
    "import plotly.express as px\n",
    "\n",
    "from risk_data import get_factor_data\n",
    "from risk_config_port import portfolios\n",
    "import risk_portfolios as p\n",
    "from risk_chart import px_format\n",
    "from risk_chart_port import draw_portfolio_cumret, draw_portfolio_weights, get_portfolio_summary\n",
    "\n",
    "from importlib import reload\n",
    "reload(p)\n",
    "\n"
   ]
  },
  {
   "cell_type": "markdown",
   "id": "4d6a4228",
   "metadata": {},
   "source": [
    "# Initialize parameters"
   ]
  },
  {
   "cell_type": "code",
   "execution_count": null,
   "id": "1cf627f1",
   "metadata": {},
   "outputs": [],
   "source": [
    "factor_data = get_factor_data()\n",
    "returns = factor_data.ret.to_pandas()\n",
    "\n",
    "# tickers = [ 'MWTIX', 'SPY', 'IWM', 'MDY', 'RSP', 'QQQ', 'XLK', 'XLI', 'XLF', 'XLC', 'XLE', 'XLY', 'XLB', 'XLV', 'XLU', 'XLP', 'VNQ', 'AIQ', 'ICLN', 'PFF', 'FEZ', 'EEM', 'FXI', 'ASHR',  'LQD', 'HYG', 'LQDH', 'HYGH', 'AGG',  'SHY', 'IEI', 'IEF', 'TLT', 'TIP', 'VTIP', 'AGNC', 'VMBS', 'CMBS', 'EMB', 'EMHY', 'GLD', 'SLV', 'USO', 'DBC', 'UUP', 'FXE', 'FXY' ]\n",
    "# returns_lm = p.get_returns_basic(tickers)\n",
    "rebalancing_dates = returns.resample('M').last().index\n"
   ]
  },
  {
   "cell_type": "markdown",
   "id": "0c7b9c0e",
   "metadata": {},
   "source": [
    "# Run portfolio construction"
   ]
  },
  {
   "cell_type": "code",
   "execution_count": null,
   "id": "cd2b47c3",
   "metadata": {},
   "outputs": [],
   "source": [
    "portfolio_tuple = p.build_all_portfolios(portfolios, returns, rebalancing_dates)\n",
    "returns, portfolio_weights_long = portfolio_tuple"
   ]
  },
  {
   "cell_type": "markdown",
   "id": "4703cf10",
   "metadata": {},
   "source": [
    "# Observe output"
   ]
  },
  {
   "cell_type": "code",
   "execution_count": null,
   "id": "96cead24",
   "metadata": {},
   "outputs": [],
   "source": [
    "display(get_portfolio_summary(returns).style)\n",
    "draw_portfolio_cumret(returns).show()\n",
    "draw_portfolio_weights(portfolio_weights_long)\n"
   ]
  }
 ],
 "metadata": {
  "kernelspec": {
   "display_name": "venv-bklm",
   "language": "python",
   "name": "python3"
  },
  "language_info": {
   "codemirror_mode": {
    "name": "ipython",
    "version": 3
   },
   "file_extension": ".py",
   "mimetype": "text/x-python",
   "name": "python",
   "nbconvert_exporter": "python",
   "pygments_lexer": "ipython3",
   "version": "3.11.9"
  }
 },
 "nbformat": 4,
 "nbformat_minor": 5
}
