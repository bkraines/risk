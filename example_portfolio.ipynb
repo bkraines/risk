{
 "cells": [
  {
   "cell_type": "code",
   "execution_count": null,
   "id": "ca82c930",
   "metadata": {},
   "outputs": [],
   "source": [
    "import pandas as pd\n",
    "import xarray as xr\n",
    "xr.set_options(keep_attrs=True,\n",
    "               display_expand_data=False)\n",
    "\n",
    "import plotly.express as px\n",
    "\n",
    "from risk_config_port import portfolios\n",
    "import risk_portfolios as p\n",
    "from risk_chart import px_format\n"
   ]
  },
  {
   "cell_type": "markdown",
   "id": "4d6a4228",
   "metadata": {},
   "source": [
    "# Initialize parameters"
   ]
  },
  {
   "cell_type": "code",
   "execution_count": null,
   "id": "1cf627f1",
   "metadata": {},
   "outputs": [],
   "source": [
    "tickers = [ 'MWTIX', 'SPY', 'IWM', 'MDY', 'RSP', 'QQQ', 'XLK', 'XLI', 'XLF', 'XLC', 'XLE', 'XLY', 'XLB', 'XLV', 'XLU', 'XLP', 'VNQ', 'AIQ', 'ICLN', 'PFF', 'FEZ', 'EEM', 'FXI', 'ASHR',  'LQD', 'HYG', 'LQDH', 'HYGH', 'AGG',  'SHY', 'IEI', 'IEF', 'TLT', 'TIP', 'VTIP', 'AGNC', 'VMBS', 'CMBS', 'EMB', 'EMHY', 'GLD', 'SLV', 'USO', 'DBC', 'UUP', 'FXE', 'FXY' ]\n",
    "returns = p.get_returns_basic(tickers)\n",
    "rebalancing_dates = returns.resample('M').last().index\n",
    "\n",
    "# Initialize a DataFrame to store portfolio weights in long format\n",
    "portfolio_weights_long = pd.DataFrame(columns=[\"portfolio_name\", \"date\", \"ticker\", \"weight\"])\n"
   ]
  },
  {
   "cell_type": "markdown",
   "id": "0c7b9c0e",
   "metadata": {},
   "source": [
    "# Run portfolio construction"
   ]
  },
  {
   "cell_type": "code",
   "execution_count": null,
   "id": "6c554251",
   "metadata": {},
   "outputs": [],
   "source": [
    "from importlib import reload\n",
    "reload(p)\n",
    "from risk_portfolios import PORTFOLIO_FUNCTIONS\n",
    "\n",
    "portfolio_tuple = p.build_all_portfolios(portfolios, returns, rebalancing_dates)\n",
    "returns, portfolio_weights_long = portfolio_tuple"
   ]
  },
  {
   "cell_type": "markdown",
   "id": "4703cf10",
   "metadata": {},
   "source": [
    "# Observe output"
   ]
  },
  {
   "cell_type": "code",
   "execution_count": null,
   "id": "2532a406",
   "metadata": {},
   "outputs": [],
   "source": [
    "df = returns[portfolios.keys()].cumsum() \n",
    "px.line(df, template='plotly_white')"
   ]
  },
  {
   "cell_type": "code",
   "execution_count": null,
   "id": "50b2121b",
   "metadata": {},
   "outputs": [],
   "source": [
    "\n",
    "\n",
    "def draw_portfolio_weights(portfolio_weights_long):\n",
    "    ser = portfolio_weights_long.set_index(['date', 'portfolio_name', 'ticker'])\n",
    "    da = ser.to_xarray()['weight']\n",
    "\n",
    "    fig = (px.imshow(da.transpose(),\n",
    "                     facet_col='portfolio_name',\n",
    "                     facet_col_wrap=1,\n",
    "                     height=1200,\n",
    "                     zmin=-1,\n",
    "                     zmax=+1,\n",
    "                     color_continuous_scale='RdBu',\n",
    "                     template='plotly_white')\n",
    "           .for_each_annotation(lambda a: a.update(text=a.text.split(\"=\")[-1].strip()))\n",
    "           .for_each_annotation(lambda a: a.update(text='') if a.x == 0 else None)\n",
    "           .update_layout(coloraxis_showscale=False,\n",
    "                          xaxis_title=None,\n",
    "                          yaxis_title=None))\n",
    "    return fig\n",
    "\n",
    "fig = draw_portfolio_weights(portfolio_weights_long)\n",
    "fig"
   ]
  }
 ],
 "metadata": {
  "kernelspec": {
   "display_name": "venv-bklm",
   "language": "python",
   "name": "python3"
  },
  "language_info": {
   "codemirror_mode": {
    "name": "ipython",
    "version": 3
   },
   "file_extension": ".py",
   "mimetype": "text/x-python",
   "name": "python",
   "nbconvert_exporter": "python",
   "pygments_lexer": "ipython3",
   "version": "3.11.9"
  }
 },
 "nbformat": 4,
 "nbformat_minor": 5
}
