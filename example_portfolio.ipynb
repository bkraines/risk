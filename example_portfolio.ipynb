{
 "cells": [
  {
   "cell_type": "code",
   "execution_count": null,
   "id": "ca82c930",
   "metadata": {},
   "outputs": [],
   "source": [
    "import pandas as pd\n",
    "import xarray as xr\n",
    "xr.set_options(keep_attrs=True,\n",
    "               display_expand_data=False)\n",
    "\n",
    "import plotly.express as px\n",
    "\n",
    "from risk_data import get_factor_data\n",
    "from risk_config_port import portfolios\n",
    "import risk_portfolios as p\n",
    "from risk_chart import px_format\n",
    "from risk_chart_port import draw_portfolio_cumret, draw_portfolio_weights, get_portfolio_summary\n",
    "\n",
    "from importlib import reload\n",
    "reload(p)\n",
    "\n"
   ]
  },
  {
   "cell_type": "markdown",
   "id": "4d6a4228",
   "metadata": {},
   "source": [
    "# Run portfolio construction"
   ]
  },
  {
   "cell_type": "code",
   "execution_count": null,
   "id": "1cf627f1",
   "metadata": {},
   "outputs": [],
   "source": [
    "factor_data = get_factor_data()\n",
    "factor_returns = factor_data.ret.to_pandas()\n",
    "rebalancing_dates = factor_returns.resample('M').last().index\n",
    "\n",
    "portfolio_returns, portfolio_weights_long = p.build_all_portfolios(portfolios, factor_returns, rebalancing_dates)"
   ]
  },
  {
   "cell_type": "markdown",
   "id": "4703cf10",
   "metadata": {},
   "source": [
    "# Observe output"
   ]
  },
  {
   "cell_type": "code",
   "execution_count": null,
   "id": "96cead24",
   "metadata": {},
   "outputs": [],
   "source": [
    "display(get_portfolio_summary(portfolio_returns).style)\n",
    "draw_portfolio_cumret(portfolio_returns).show()\n",
    "draw_portfolio_weights(portfolio_weights_long)\n"
   ]
  },
  {
   "cell_type": "markdown",
   "id": "33818c6c",
   "metadata": {},
   "source": [
    "# Append to factor_data"
   ]
  },
  {
   "cell_type": "code",
   "execution_count": null,
   "id": "bbd44412",
   "metadata": {},
   "outputs": [],
   "source": [
    "# TODO: Append new portfolios to factor_data"
   ]
  }
 ],
 "metadata": {
  "kernelspec": {
   "display_name": "venv-bklm",
   "language": "python",
   "name": "python3"
  },
  "language_info": {
   "codemirror_mode": {
    "name": "ipython",
    "version": 3
   },
   "file_extension": ".py",
   "mimetype": "text/x-python",
   "name": "python",
   "nbconvert_exporter": "python",
   "pygments_lexer": "ipython3",
   "version": "3.11.9"
  }
 },
 "nbformat": 4,
 "nbformat_minor": 5
}
