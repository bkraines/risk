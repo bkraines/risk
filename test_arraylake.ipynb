{
 "cells": [
  {
   "cell_type": "code",
   "execution_count": 1,
   "metadata": {},
   "outputs": [],
   "source": [
    "from data import get_factor_data\n",
    "import xarray as xr\n",
    "import arraylake as al"
   ]
  },
  {
   "cell_type": "code",
   "execution_count": null,
   "metadata": {},
   "outputs": [],
   "source": [
    "# xr.open_zarr('cache/build_factor_data.zarr', consolidated=False)"
   ]
  },
  {
   "cell_type": "code",
   "execution_count": 2,
   "metadata": {},
   "outputs": [
    {
     "name": "stderr",
     "output_type": "stream",
     "text": [
      "c:\\Users\\bkrai\\Source\\venv-bklm\\Lib\\site-packages\\zarr\\codecs\\vlen_utf8.py:44: UserWarning: The codec `vlen-utf8` is currently not part in the Zarr format 3 specification. It may not be supported by other zarr implementations and may change in the future.\n",
      "  return cls(**configuration_parsed)\n",
      "c:\\Users\\bkrai\\Source\\venv-bklm\\Lib\\site-packages\\zarr\\codecs\\vlen_utf8.py:44: UserWarning: The codec `vlen-utf8` is currently not part in the Zarr format 3 specification. It may not be supported by other zarr implementations and may change in the future.\n",
      "  return cls(**configuration_parsed)\n"
     ]
    }
   ],
   "source": [
    "halflifes = [21, 63, 126, 252, 512]\n",
    "factor_data = get_factor_data(halflifes=halflifes)"
   ]
  },
  {
   "cell_type": "code",
   "execution_count": 3,
   "metadata": {},
   "outputs": [
    {
     "ename": "ValueError",
     "evalue": "Error response 403 while requesting URL('https://api.earthmover.io/repos/earthmover-demos/stocks-icechunk-bk'). <Response [403 Forbidden]>: {\"detail\":\"Access Denied\"}",
     "output_type": "error",
     "traceback": [
      "\u001b[1;31m---------------------------------------------------------------------------\u001b[0m",
      "\u001b[1;31mHTTPStatusError\u001b[0m                           Traceback (most recent call last)",
      "File \u001b[1;32mc:\\Users\\bkrai\\Source\\venv-bklm\\Lib\\site-packages\\arraylake\\api_utils.py:348\u001b[0m, in \u001b[0;36mhandle_response\u001b[1;34m(response)\u001b[0m\n\u001b[0;32m    347\u001b[0m \u001b[38;5;28;01mtry\u001b[39;00m:\n\u001b[1;32m--> 348\u001b[0m     \u001b[43mresponse\u001b[49m\u001b[38;5;241;43m.\u001b[39;49m\u001b[43mraise_for_status\u001b[49m\u001b[43m(\u001b[49m\u001b[43m)\u001b[49m\n\u001b[0;32m    349\u001b[0m \u001b[38;5;28;01mexcept\u001b[39;00m httpx\u001b[38;5;241m.\u001b[39mRequestError \u001b[38;5;28;01mas\u001b[39;00m exc:\n",
      "File \u001b[1;32mc:\\Users\\bkrai\\Source\\venv-bklm\\Lib\\site-packages\\httpx\\_models.py:763\u001b[0m, in \u001b[0;36mResponse.raise_for_status\u001b[1;34m(self)\u001b[0m\n\u001b[0;32m    762\u001b[0m message \u001b[38;5;241m=\u001b[39m message\u001b[38;5;241m.\u001b[39mformat(\u001b[38;5;28mself\u001b[39m, error_type\u001b[38;5;241m=\u001b[39merror_type)\n\u001b[1;32m--> 763\u001b[0m \u001b[38;5;28;01mraise\u001b[39;00m HTTPStatusError(message, request\u001b[38;5;241m=\u001b[39mrequest, response\u001b[38;5;241m=\u001b[39m\u001b[38;5;28mself\u001b[39m)\n",
      "\u001b[1;31mHTTPStatusError\u001b[0m: Client error '403 Forbidden' for url 'https://api.earthmover.io/repos/earthmover-demos/stocks-icechunk-bk'\nFor more information check: https://developer.mozilla.org/en-US/docs/Web/HTTP/Status/403",
      "\nDuring handling of the above exception, another exception occurred:\n",
      "\u001b[1;31mValueError\u001b[0m                                Traceback (most recent call last)",
      "Cell \u001b[1;32mIn[3], line 2\u001b[0m\n\u001b[0;32m      1\u001b[0m client \u001b[38;5;241m=\u001b[39m al\u001b[38;5;241m.\u001b[39mClient()\n\u001b[1;32m----> 2\u001b[0m repo \u001b[38;5;241m=\u001b[39m \u001b[43mclient\u001b[49m\u001b[38;5;241;43m.\u001b[39;49m\u001b[43mget_repo\u001b[49m\u001b[43m(\u001b[49m\u001b[38;5;124;43m\"\u001b[39;49m\u001b[38;5;124;43mearthmover-demos/stocks-icechunk-bk\u001b[39;49m\u001b[38;5;124;43m\"\u001b[39;49m\u001b[43m)\u001b[49m\n\u001b[0;32m      3\u001b[0m \u001b[38;5;66;03m# repo = client.get_repo(\"earthmover-demos/stocks-icechunk\")\u001b[39;00m\n\u001b[0;32m      4\u001b[0m \u001b[38;5;66;03m# ds = repo.to_xarray(\"NYSE/daily\")\u001b[39;00m\n\u001b[0;32m      5\u001b[0m \u001b[38;5;66;03m# ds\u001b[39;00m\n\u001b[0;32m      6\u001b[0m repo\n",
      "File \u001b[1;32mc:\\Users\\bkrai\\Source\\venv-bklm\\Lib\\site-packages\\arraylake\\client.py:984\u001b[0m, in \u001b[0;36mClient.get_repo\u001b[1;34m(self, name, checkout, read_only, config, virtual_container_nicknames)\u001b[0m\n\u001b[0;32m    961\u001b[0m \u001b[38;5;28;01mdef\u001b[39;00m\u001b[38;5;250m \u001b[39m\u001b[38;5;21mget_repo\u001b[39m(\n\u001b[0;32m    962\u001b[0m     \u001b[38;5;28mself\u001b[39m,\n\u001b[0;32m    963\u001b[0m     name: \u001b[38;5;28mstr\u001b[39m,\n\u001b[1;32m   (...)\u001b[0m\n\u001b[0;32m    968\u001b[0m     virtual_container_nicknames: \u001b[38;5;28mdict\u001b[39m[\u001b[38;5;28mstr\u001b[39m, \u001b[38;5;28mstr\u001b[39m] \u001b[38;5;241m|\u001b[39m \u001b[38;5;28;01mNone\u001b[39;00m \u001b[38;5;241m=\u001b[39m \u001b[38;5;28;01mNone\u001b[39;00m,\n\u001b[0;32m    969\u001b[0m ) \u001b[38;5;241m-\u001b[39m\u001b[38;5;241m>\u001b[39m repo_v1\u001b[38;5;241m.\u001b[39mRepo \u001b[38;5;241m|\u001b[39m IcechunkRepository:  \u001b[38;5;66;03m# noqa\u001b[39;00m\n\u001b[0;32m    970\u001b[0m \u001b[38;5;250m    \u001b[39m\u001b[38;5;124;03m\"\"\"Get a repo by name\u001b[39;00m\n\u001b[0;32m    971\u001b[0m \n\u001b[0;32m    972\u001b[0m \u001b[38;5;124;03m    Args:\u001b[39;00m\n\u001b[1;32m   (...)\u001b[0m\n\u001b[0;32m    981\u001b[0m \u001b[38;5;124;03m            and used for the virtual containers. Used for Icechunk repos only.\u001b[39;00m\n\u001b[0;32m    982\u001b[0m \u001b[38;5;124;03m    \"\"\"\u001b[39;00m\n\u001b[1;32m--> 984\u001b[0m     arepo \u001b[38;5;241m=\u001b[39m \u001b[43msync\u001b[49m\u001b[43m(\u001b[49m\n\u001b[0;32m    985\u001b[0m \u001b[43m        \u001b[49m\u001b[38;5;28;43mself\u001b[39;49m\u001b[38;5;241;43m.\u001b[39;49m\u001b[43maclient\u001b[49m\u001b[38;5;241;43m.\u001b[39;49m\u001b[43mget_repo\u001b[49m\u001b[43m,\u001b[49m\n\u001b[0;32m    986\u001b[0m \u001b[43m        \u001b[49m\u001b[43mname\u001b[49m\u001b[43m,\u001b[49m\n\u001b[0;32m    987\u001b[0m \u001b[43m        \u001b[49m\u001b[43mcheckout\u001b[49m\u001b[38;5;241;43m=\u001b[39;49m\u001b[43mcheckout\u001b[49m\u001b[43m,\u001b[49m\n\u001b[0;32m    988\u001b[0m \u001b[43m        \u001b[49m\u001b[43mread_only\u001b[49m\u001b[38;5;241;43m=\u001b[39;49m\u001b[43mread_only\u001b[49m\u001b[43m,\u001b[49m\n\u001b[0;32m    989\u001b[0m \u001b[43m        \u001b[49m\u001b[43mconfig\u001b[49m\u001b[38;5;241;43m=\u001b[39;49m\u001b[43mconfig\u001b[49m\u001b[43m,\u001b[49m\n\u001b[0;32m    990\u001b[0m \u001b[43m        \u001b[49m\u001b[43mvirtual_container_nicknames\u001b[49m\u001b[38;5;241;43m=\u001b[39;49m\u001b[43mvirtual_container_nicknames\u001b[49m\u001b[43m,\u001b[49m\n\u001b[0;32m    991\u001b[0m \u001b[43m    \u001b[49m\u001b[43m)\u001b[49m\n\u001b[0;32m    992\u001b[0m     \u001b[38;5;66;03m# We don't have access to the repo kind and we must be environment agnostic\u001b[39;00m\n\u001b[0;32m    993\u001b[0m     \u001b[38;5;28;01mtry\u001b[39;00m:\n",
      "File \u001b[1;32mc:\\Users\\bkrai\\Source\\venv-bklm\\Lib\\site-packages\\arraylake\\asyn.py:189\u001b[0m, in \u001b[0;36msync\u001b[1;34m(func, timeout, *args, **kwargs)\u001b[0m\n\u001b[0;32m    186\u001b[0m return_result \u001b[38;5;241m=\u001b[39m result[\u001b[38;5;241m0\u001b[39m]\n\u001b[0;32m    187\u001b[0m \u001b[38;5;28;01mif\u001b[39;00m \u001b[38;5;28misinstance\u001b[39m(return_result, \u001b[38;5;167;01mBaseException\u001b[39;00m):\n\u001b[0;32m    188\u001b[0m     \u001b[38;5;66;03m# note: fsspec has special handling for asyncio.TimeoutError; here we just raise it\u001b[39;00m\n\u001b[1;32m--> 189\u001b[0m     \u001b[38;5;28;01mraise\u001b[39;00m return_result\n\u001b[0;32m    190\u001b[0m \u001b[38;5;28;01melse\u001b[39;00m:\n\u001b[0;32m    191\u001b[0m     \u001b[38;5;28;01mreturn\u001b[39;00m return_result\n",
      "File \u001b[1;32mc:\\Users\\bkrai\\Source\\venv-bklm\\Lib\\site-packages\\arraylake\\asyn.py:136\u001b[0m, in \u001b[0;36m_runner\u001b[1;34m(event, coro, result, timeout)\u001b[0m\n\u001b[0;32m    134\u001b[0m     coro \u001b[38;5;241m=\u001b[39m asyncio\u001b[38;5;241m.\u001b[39mwait_for(coro, timeout\u001b[38;5;241m=\u001b[39mtimeout)\n\u001b[0;32m    135\u001b[0m \u001b[38;5;28;01mtry\u001b[39;00m:\n\u001b[1;32m--> 136\u001b[0m     result[\u001b[38;5;241m0\u001b[39m] \u001b[38;5;241m=\u001b[39m \u001b[38;5;28;01mawait\u001b[39;00m coro\n\u001b[0;32m    137\u001b[0m \u001b[38;5;28;01mexcept\u001b[39;00m \u001b[38;5;167;01mException\u001b[39;00m \u001b[38;5;28;01mas\u001b[39;00m ex:\n\u001b[0;32m    138\u001b[0m     result[\u001b[38;5;241m0\u001b[39m] \u001b[38;5;241m=\u001b[39m ex\n",
      "File \u001b[1;32mc:\\Users\\bkrai\\Source\\venv-bklm\\Lib\\site-packages\\arraylake\\client.py:440\u001b[0m, in \u001b[0;36mAsyncClient.get_repo\u001b[1;34m(self, name, checkout, read_only, config, virtual_container_nicknames)\u001b[0m\n\u001b[0;32m    413\u001b[0m \u001b[38;5;28;01masync\u001b[39;00m \u001b[38;5;28;01mdef\u001b[39;00m\u001b[38;5;250m \u001b[39m\u001b[38;5;21mget_repo\u001b[39m(\n\u001b[0;32m    414\u001b[0m     \u001b[38;5;28mself\u001b[39m,\n\u001b[0;32m    415\u001b[0m     name: \u001b[38;5;28mstr\u001b[39m,\n\u001b[1;32m   (...)\u001b[0m\n\u001b[0;32m    420\u001b[0m     virtual_container_nicknames: \u001b[38;5;28mdict\u001b[39m[\u001b[38;5;28mstr\u001b[39m, \u001b[38;5;28mstr\u001b[39m] \u001b[38;5;241m|\u001b[39m \u001b[38;5;28;01mNone\u001b[39;00m \u001b[38;5;241m=\u001b[39m \u001b[38;5;28;01mNone\u001b[39;00m,\n\u001b[0;32m    421\u001b[0m ) \u001b[38;5;241m-\u001b[39m\u001b[38;5;241m>\u001b[39m repo_v1\u001b[38;5;241m.\u001b[39mAsyncRepo \u001b[38;5;241m|\u001b[39m IcechunkRepository:  \u001b[38;5;66;03m# noqa\u001b[39;00m\n\u001b[0;32m    422\u001b[0m \u001b[38;5;250m    \u001b[39m\u001b[38;5;124;03m\"\"\"Get a repo by name\u001b[39;00m\n\u001b[0;32m    423\u001b[0m \n\u001b[0;32m    424\u001b[0m \u001b[38;5;124;03m    Args:\u001b[39;00m\n\u001b[1;32m   (...)\u001b[0m\n\u001b[0;32m    438\u001b[0m \u001b[38;5;124;03m        A V1 AsyncRepo object or an IcechunkRepository object.\u001b[39;00m\n\u001b[0;32m    439\u001b[0m \u001b[38;5;124;03m    \"\"\"\u001b[39;00m\n\u001b[1;32m--> 440\u001b[0m     repo_model \u001b[38;5;241m=\u001b[39m \u001b[38;5;28;01mawait\u001b[39;00m \u001b[38;5;28mself\u001b[39m\u001b[38;5;241m.\u001b[39mget_repo_object(name)\n\u001b[0;32m    442\u001b[0m     \u001b[38;5;28;01mif\u001b[39;00m repo_model\u001b[38;5;241m.\u001b[39mkind \u001b[38;5;241m==\u001b[39m RepoKind\u001b[38;5;241m.\u001b[39mV1:\n\u001b[0;32m    443\u001b[0m         org, repo_name \u001b[38;5;241m=\u001b[39m _parse_org_and_repo(name)\n",
      "File \u001b[1;32mc:\\Users\\bkrai\\Source\\venv-bklm\\Lib\\site-packages\\arraylake\\client.py:410\u001b[0m, in \u001b[0;36mAsyncClient.get_repo_object\u001b[1;34m(self, name)\u001b[0m\n\u001b[0;32m    407\u001b[0m org, repo_name \u001b[38;5;241m=\u001b[39m _parse_org_and_repo(name)\n\u001b[0;32m    408\u001b[0m mstore \u001b[38;5;241m=\u001b[39m \u001b[38;5;28mself\u001b[39m\u001b[38;5;241m.\u001b[39m_metastore_for_org(org)\n\u001b[1;32m--> 410\u001b[0m repo_model \u001b[38;5;241m=\u001b[39m \u001b[38;5;28;01mawait\u001b[39;00m mstore\u001b[38;5;241m.\u001b[39mget_database(repo_name)\n\u001b[0;32m    411\u001b[0m \u001b[38;5;28;01mreturn\u001b[39;00m repo_model\n",
      "File \u001b[1;32mc:\\Users\\bkrai\\Source\\venv-bklm\\Lib\\site-packages\\arraylake\\repos\\v1\\metastore\\http_metastore.py:120\u001b[0m, in \u001b[0;36mHttpMetastore.get_database\u001b[1;34m(self, name)\u001b[0m\n\u001b[0;32m    118\u001b[0m \u001b[38;5;28;01masync\u001b[39;00m \u001b[38;5;28;01mdef\u001b[39;00m\u001b[38;5;250m \u001b[39m\u001b[38;5;21mget_database\u001b[39m(\u001b[38;5;28mself\u001b[39m, name: \u001b[38;5;28mstr\u001b[39m) \u001b[38;5;241m-\u001b[39m\u001b[38;5;241m>\u001b[39m Repo:\n\u001b[0;32m    119\u001b[0m     response \u001b[38;5;241m=\u001b[39m \u001b[38;5;28;01mawait\u001b[39;00m \u001b[38;5;28mself\u001b[39m\u001b[38;5;241m.\u001b[39m_request(\u001b[38;5;124m\"\u001b[39m\u001b[38;5;124mGET\u001b[39m\u001b[38;5;124m\"\u001b[39m, \u001b[38;5;124mf\u001b[39m\u001b[38;5;124m\"\u001b[39m\u001b[38;5;124m/repos/\u001b[39m\u001b[38;5;132;01m{\u001b[39;00m\u001b[38;5;28mself\u001b[39m\u001b[38;5;241m.\u001b[39m_config\u001b[38;5;241m.\u001b[39morg\u001b[38;5;132;01m}\u001b[39;00m\u001b[38;5;124m/\u001b[39m\u001b[38;5;132;01m{\u001b[39;00mname\u001b[38;5;132;01m}\u001b[39;00m\u001b[38;5;124m\"\u001b[39m)\n\u001b[1;32m--> 120\u001b[0m     \u001b[43mhandle_response\u001b[49m\u001b[43m(\u001b[49m\u001b[43mresponse\u001b[49m\u001b[43m)\u001b[49m\n\u001b[0;32m    121\u001b[0m     \u001b[38;5;28;01mreturn\u001b[39;00m Repo\u001b[38;5;241m.\u001b[39mmodel_validate_json(response\u001b[38;5;241m.\u001b[39mcontent)\n",
      "File \u001b[1;32mc:\\Users\\bkrai\\Source\\venv-bklm\\Lib\\site-packages\\arraylake\\api_utils.py:360\u001b[0m, in \u001b[0;36mhandle_response\u001b[1;34m(response)\u001b[0m\n\u001b[0;32m    358\u001b[0m     \u001b[38;5;28;01mraise\u001b[39;00m \u001b[38;5;167;01mValueError\u001b[39;00m(response\u001b[38;5;241m.\u001b[39mjson()[\u001b[38;5;124m\"\u001b[39m\u001b[38;5;124mdetail\u001b[39m\u001b[38;5;124m\"\u001b[39m])\n\u001b[0;32m    359\u001b[0m \u001b[38;5;28;01melse\u001b[39;00m:\n\u001b[1;32m--> 360\u001b[0m     \u001b[38;5;28;01mraise\u001b[39;00m \u001b[38;5;167;01mValueError\u001b[39;00m(\u001b[38;5;124mf\u001b[39m\u001b[38;5;124m\"\u001b[39m\u001b[38;5;124mError response \u001b[39m\u001b[38;5;132;01m{\u001b[39;00mexc\u001b[38;5;241m.\u001b[39mresponse\u001b[38;5;241m.\u001b[39mstatus_code\u001b[38;5;132;01m}\u001b[39;00m\u001b[38;5;124m while requesting \u001b[39m\u001b[38;5;132;01m{\u001b[39;00mexc\u001b[38;5;241m.\u001b[39mrequest\u001b[38;5;241m.\u001b[39murl\u001b[38;5;132;01m!r}\u001b[39;00m\u001b[38;5;124m. \u001b[39m\u001b[38;5;132;01m{\u001b[39;00mresponse\u001b[38;5;132;01m}\u001b[39;00m\u001b[38;5;124m: \u001b[39m\u001b[38;5;132;01m{\u001b[39;00mresponse\u001b[38;5;241m.\u001b[39mtext\u001b[38;5;132;01m}\u001b[39;00m\u001b[38;5;124m\"\u001b[39m)\n",
      "\u001b[1;31mValueError\u001b[0m: Error response 403 while requesting URL('https://api.earthmover.io/repos/earthmover-demos/stocks-icechunk-bk'). <Response [403 Forbidden]>: {\"detail\":\"Access Denied\"}"
     ]
    }
   ],
   "source": [
    "client = al.Client()\n",
    "repo = client.get_repo(\"earthmover-demos/stocks-icechunk-bk\")\n",
    "# repo = client.get_repo(\"earthmover-demos/stocks-icechunk\")\n",
    "# ds = repo.to_xarray(\"NYSE/daily\")\n",
    "# ds\n",
    "repo"
   ]
  },
  {
   "cell_type": "code",
   "execution_count": null,
   "metadata": {},
   "outputs": [],
   "source": [
    "repo"
   ]
  }
 ],
 "metadata": {
  "kernelspec": {
   "display_name": "venv-bklm",
   "language": "python",
   "name": "python3"
  },
  "language_info": {
   "codemirror_mode": {
    "name": "ipython",
    "version": 3
   },
   "file_extension": ".py",
   "mimetype": "text/x-python",
   "name": "python",
   "nbconvert_exporter": "python",
   "pygments_lexer": "ipython3",
   "version": "3.11.9"
  }
 },
 "nbformat": 4,
 "nbformat_minor": 2
}
