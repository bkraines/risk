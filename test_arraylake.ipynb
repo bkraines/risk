{
 "cells": [
  {
   "cell_type": "code",
   "execution_count": null,
   "metadata": {},
   "outputs": [],
   "source": [
    "from data import get_factor_data\n",
    "import xarray as xr\n",
    "import arraylake as al"
   ]
  },
  {
   "cell_type": "code",
   "execution_count": null,
   "metadata": {},
   "outputs": [],
   "source": [
    "factor_data = get_factor_data()"
   ]
  },
  {
   "cell_type": "code",
   "execution_count": null,
   "metadata": {},
   "outputs": [],
   "source": [
    "client = al.Client()\n",
    "repo = client.get_repo(\"finance-demos/demo-icechunk\")\n",
    "# session = repo.writable_session(\"main\")\n",
    "session = repo.readonly_session(\"main\")\n",
    "# ds = repo.to_xarray(\"my_group\")\n",
    "xr.open_zarr(session.store, consolidated=False)"
   ]
  },
  {
   "cell_type": "code",
   "execution_count": null,
   "metadata": {},
   "outputs": [],
   "source": [
    "def test_str(ttt: str | None = None) -> str | None:\n",
    "    return ttt\n",
    "\n",
    "print(test_str())"
   ]
  },
  {
   "cell_type": "code",
   "execution_count": null,
   "metadata": {},
   "outputs": [],
   "source": [
    "session = repo.writable_session(\"main\")\n",
    "factor_data.to_zarr(session.store, mode='a', consolidated=False)"
   ]
  },
  {
   "cell_type": "code",
   "execution_count": null,
   "metadata": {},
   "outputs": [],
   "source": [
    "session.commit('add back factor data')"
   ]
  },
  {
   "cell_type": "code",
   "execution_count": null,
   "metadata": {},
   "outputs": [],
   "source": [
    "# client = al.Client()\n",
    "repo = client.get_repo(\"finance-demos/demo-icechunk\")\n",
    "# session = repo.writable_session(\"main\")\n",
    "session = repo.readonly_session(\"main\")\n",
    "# ds = repo.to_xarray(\"my_group\")\n",
    "xr.open_zarr(session.store, consolidated=False)"
   ]
  },
  {
   "cell_type": "code",
   "execution_count": null,
   "metadata": {},
   "outputs": [],
   "source": [
    "repo"
   ]
  }
 ],
 "metadata": {
  "kernelspec": {
   "display_name": "venv-bklm",
   "language": "python",
   "name": "python3"
  },
  "language_info": {
   "codemirror_mode": {
    "name": "ipython",
    "version": 3
   },
   "file_extension": ".py",
   "mimetype": "text/x-python",
   "name": "python",
   "nbconvert_exporter": "python",
   "pygments_lexer": "ipython3",
   "version": "3.11.9"
  }
 },
 "nbformat": 4,
 "nbformat_minor": 2
}
