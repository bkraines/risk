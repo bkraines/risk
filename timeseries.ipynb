{
 "cells": [
  {
   "cell_type": "code",
   "execution_count": null,
   "metadata": {},
   "outputs": [],
   "source": [
    "from numpy import sqrt\n",
    "import pandas as pd\n",
    "\n",
    "from risk_data import get_factor_data, calculate_returns_set, get_factor_master\n",
    "from risk_chart import draw_volatility, draw_correlation, draw_beta, draw_distance_from_ma\n",
    "from risk_config import HALFLIFES\n"
   ]
  },
  {
   "cell_type": "code",
   "execution_count": null,
   "metadata": {},
   "outputs": [],
   "source": []
  },
  {
   "cell_type": "code",
   "execution_count": null,
   "metadata": {},
   "outputs": [],
   "source": [
    "# halflifes = [21, 63, 126, 252, 512]\n",
    "data = get_factor_data()\n",
    "# factor_master = pd.DataFrame(data['factor_name'].attrs).T\n",
    "# factor_list = factor_master.index.to_list()\n",
    "\n",
    "factor_name = 'QQQ'\n",
    "factor_name_1 = 'IWM'\n",
    "data"
   ]
  },
  {
   "cell_type": "code",
   "execution_count": null,
   "metadata": {},
   "outputs": [],
   "source": [
    "factor_name = 'QQQ'\n",
    "factor_name_1 = 'IWM'"
   ]
  },
  {
   "cell_type": "code",
   "execution_count": null,
   "metadata": {},
   "outputs": [],
   "source": [
    "from risk_chart import px_line\n",
    "da = data.cret.sel(factor_name=['SPY', 'IWM'])\n",
    "px_line(da, title='SPY vs IWM', x='date', y='cret', color='factor_name')"
   ]
  },
  {
   "cell_type": "code",
   "execution_count": null,
   "metadata": {},
   "outputs": [],
   "source": [
    "halflifes = HALFLIFES\n",
    "\n",
    "draw_correlation(data.corr, factor_name=factor_name, factor_name_1=factor_name_1, corr_type=halflifes).show()\n",
    "draw_volatility(data.vol, factor_name=factor_name, vol_type=halflifes).show()\n",
    "draw_volatility(data.vol, factor_name=factor_name_1, vol_type=halflifes).show()"
   ]
  },
  {
   "cell_type": "markdown",
   "metadata": {},
   "source": [
    "# Calculate week-over-week returns"
   ]
  },
  {
   "cell_type": "code",
   "execution_count": null,
   "metadata": {},
   "outputs": [],
   "source": [
    "cret = data.cret.to_pandas()\n",
    "# cret.sort_index(ascending=False).to_clipboard()"
   ]
  },
  {
   "cell_type": "code",
   "execution_count": null,
   "metadata": {},
   "outputs": [],
   "source": [
    "factor_master = get_factor_master()"
   ]
  },
  {
   "cell_type": "code",
   "execution_count": null,
   "metadata": {},
   "outputs": [],
   "source": [
    "factor_master['multiplier']"
   ]
  },
  {
   "cell_type": "code",
   "execution_count": null,
   "metadata": {},
   "outputs": [],
   "source": [
    "ret_1d = calculate_returns_set(cret, periods=1, \n",
    "                      diffusion_map=factor_master['diffusion_type'], \n",
    "                      multiplier_map=factor_master['multiplier'])\n",
    "\n",
    "ret_5d = calculate_returns_set(cret, periods=5, \n",
    "                      diffusion_map=factor_master['diffusion_type'], \n",
    "                      multiplier_map=factor_master['multiplier'])\n"
   ]
  },
  {
   "cell_type": "code",
   "execution_count": null,
   "metadata": {},
   "outputs": [],
   "source": [
    "from risk_data import get_factor_master, get_factor_data\n",
    "data = get_factor_data()\n",
    "factor_master = get_factor_master() #data)\n",
    "factor_master"
   ]
  },
  {
   "cell_type": "code",
   "execution_count": null,
   "metadata": {},
   "outputs": [],
   "source": [
    "# from risk_stats import get_volatility_set_new\n",
    "# from risk_config import HALFLIFES\n",
    "# vol_1d = get_volatility_set_new(cret, halflifes=HALFLIFES)"
   ]
  },
  {
   "cell_type": "markdown",
   "metadata": {},
   "source": [
    "# Betas"
   ]
  },
  {
   "cell_type": "code",
   "execution_count": null,
   "metadata": {},
   "outputs": [],
   "source": [
    "COV_TYPES = {str(h): {'vol_type': h,\n",
    "                      'corr_type': h}\n",
    "             for h in HALFLIFES}\n",
    "COV_TYPES\n",
    "\n",
    "[(v['vol_type'], v['corr_type']) for k, v in COV_TYPES.items()]"
   ]
  },
  {
   "cell_type": "code",
   "execution_count": null,
   "metadata": {},
   "outputs": [],
   "source": [
    "vol_0 = data.vol.sel(factor_name=factor_name).rename({'vol_type': 'cov_type'})\n",
    "vol_1 = data.vol.sel(factor_name=factor_name_1).rename({'vol_type': 'cov_type'})\n",
    "corr  = data.corr.sel(factor_name=factor_name, factor_name_1=factor_name_1).rename({'corr_type': 'cov_type'})\n",
    "beta = (corr * vol_1 / vol_0).rename('beta')\n",
    "beta\n",
    "\n",
    "draw_beta(data, factor_name=factor_name, factor_name_1=factor_name_1).update_yaxes(type=\"log\")"
   ]
  },
  {
   "cell_type": "markdown",
   "metadata": {},
   "source": [
    "# Returns chart"
   ]
  },
  {
   "cell_type": "code",
   "execution_count": null,
   "metadata": {},
   "outputs": [],
   "source": [
    "factor_data = get_factor_data()"
   ]
  },
  {
   "cell_type": "code",
   "execution_count": null,
   "metadata": {},
   "outputs": [],
   "source": [
    "def draw_returns(ret, factor_1, factor_2):\n",
    "    df = ret[[factor_1, factor_2]].reset_index()\n",
    "    return px.bar(df, template='plotly_white', barmode='group')"
   ]
  },
  {
   "cell_type": "code",
   "execution_count": null,
   "metadata": {},
   "outputs": [],
   "source": [
    "import plotly.express as px\n",
    "factor_1 = 'QQQ'\n",
    "factor_2 = 'IWM'\n",
    "\n",
    "ret = factor_data.ret.to_pandas()[[factor_1, factor_2]]\n",
    "\n",
    "df = ret.reset_index()\n",
    "df\n",
    "# px.bar(df, x='date', y=factor_1)\n",
    "# px.bar(df, x='date', y=factor_2)\n",
    "\n",
    "px.bar(ret[[factor_1, factor_2]].loc['2025':], template='plotly_white', barmode='group').update_traces(marker_line_width=0)\n",
    "# px.bar(df, x='date', y=factor_1)"
   ]
  },
  {
   "cell_type": "code",
   "execution_count": null,
   "metadata": {},
   "outputs": [],
   "source": [
    "df = factor_data.ret.to_pandas()[[factor_name, factor_name_1]] #.loc['2020':]\n",
    "px.bar(df, template='plotly_white', barmode='group').show()\n",
    "\n",
    "df2 = factor_data.ret.to_pandas()[[factor_name, factor_name_1]].reset_index() #.loc['2025':]\n",
    "px.bar(df2, x='date', y=[factor_name, factor_name_1], template='plotly_white', barmode='group').update_traces(marker_line_width=0).show()\n"
   ]
  },
  {
   "cell_type": "markdown",
   "metadata": {},
   "source": [
    "# Calcuate zscore"
   ]
  },
  {
   "cell_type": "code",
   "execution_count": null,
   "metadata": {},
   "outputs": [],
   "source": [
    "data.vol.sel(vol_type=21).to_pandas()"
   ]
  },
  {
   "cell_type": "code",
   "execution_count": null,
   "metadata": {},
   "outputs": [],
   "source": [
    "data.vol.sel(vol_type=21).shift({'date': 1}).to_pandas()"
   ]
  },
  {
   "cell_type": "code",
   "execution_count": null,
   "metadata": {},
   "outputs": [],
   "source": [
    "data.ret.to_pandas().div(100)"
   ]
  },
  {
   "cell_type": "code",
   "execution_count": null,
   "metadata": {},
   "outputs": [],
   "source": [
    "data.vol.sel(vol_type=63).to_pandas() / sqrt(252)"
   ]
  },
  {
   "cell_type": "code",
   "execution_count": null,
   "metadata": {},
   "outputs": [],
   "source": [
    "zscore = data.ret / data.vol.shift({'date': 1})\n",
    "zscore\n",
    "# zscore.to_pandas()"
   ]
  },
  {
   "cell_type": "markdown",
   "metadata": {},
   "source": [
    "# Calculate 200dMA"
   ]
  },
  {
   "cell_type": "code",
   "execution_count": null,
   "metadata": {},
   "outputs": [],
   "source": [
    "cret_200dMA = data.cret.rolling({'date': 200}).mean()\n",
    "cret  = data.cret\n",
    "\n",
    "dist_ma = ((cret / cret_200dMA) - 1).rename('200dMA')"
   ]
  },
  {
   "cell_type": "code",
   "execution_count": null,
   "metadata": {},
   "outputs": [],
   "source": [
    "import plotly.express as px\n",
    "import matplotlib.pyplot as plt\n",
    "df = dist_ma.to_pandas()[['SPY', 'IWM']]\n",
    "px.line(df, template='plotly_white')\n",
    "# px.line(df)\n",
    "# plt.show()"
   ]
  },
  {
   "cell_type": "code",
   "execution_count": null,
   "metadata": {},
   "outputs": [],
   "source": [
    "from risk_chart import draw_distance_from_ma\n",
    "factor_1 = 'SPY'\n",
    "factor_2 = 'IWM'\n",
    "draw_distance_from_ma(data.cret, factor_name=factor_1, factor_name_1=factor_2)"
   ]
  },
  {
   "cell_type": "code",
   "execution_count": null,
   "metadata": {},
   "outputs": [],
   "source": [
    "from risk_data import get_factor_data\n",
    "import risk_lib.stats as s\n",
    "from importlib import reload\n",
    "reload(s)\n",
    "\n",
    "data = get_factor_data()\n",
    "data['dist_ma'] = s.get_dist_ma_set(data.cret, [60, 200])\n",
    "df = data.dist_ma.to_series().reset_index()\n",
    "df\n"
   ]
  },
  {
   "cell_type": "code",
   "execution_count": null,
   "metadata": {},
   "outputs": [],
   "source": [
    "from risk_chart import px_line\n",
    "px_line(data.dist_ma.sel(factor_name=['SPY', 'IWM'], ma_type=200), \n",
    "        x='date', y='dist_ma', color='factor_name')"
   ]
  },
  {
   "cell_type": "code",
   "execution_count": null,
   "metadata": {},
   "outputs": [],
   "source": [
    "window = 200\n",
    "factor_name = 'SPY'\n",
    "factor_name_1 = 'IWM'\n",
    "_dist_ma = data.dist_ma.sel(factor_name=[factor_name, factor_name_1], ma_type=window)\n",
    "fig = px_line(_dist_ma, x='date', y='dist_ma', color='factor_name', \n",
    "                title=f'Distance from {window}-day Moving Average (%)')\n",
    "fig.show()"
   ]
  }
 ],
 "metadata": {
  "kernelspec": {
   "display_name": "venv-bklm",
   "language": "python",
   "name": "python3"
  },
  "language_info": {
   "codemirror_mode": {
    "name": "ipython",
    "version": 3
   },
   "file_extension": ".py",
   "mimetype": "text/x-python",
   "name": "python",
   "nbconvert_exporter": "python",
   "pygments_lexer": "ipython3",
   "version": "3.11.9"
  }
 },
 "nbformat": 4,
 "nbformat_minor": 2
}
