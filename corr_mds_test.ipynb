{
 "cells": [
  {
   "cell_type": "code",
   "execution_count": null,
   "metadata": {},
   "outputs": [],
   "source": [
    "# Define the vertices of the rectangle\n",
    "rectangle_vertices = 3+2*np.array([\n",
    "    [0, 0],  # Bottom left vertex\n",
    "    [2, 0],  # Bottom right vertex\n",
    "    [2, 1],  # Top right vertex\n",
    "    [0, 1]   # Top left vertex\n",
    "])\n",
    "\n",
    "print(rectangle_vertices)"
   ]
  },
  {
   "cell_type": "code",
   "execution_count": null,
   "metadata": {},
   "outputs": [],
   "source": [
    "import matplotlib.pyplot as plt\n",
    "import numpy as np\n",
    "\n",
    "# Define the vertices of the equilateral triangle\n",
    "triangle_vertices = 2 + 10*np.array([\n",
    "    [0, np.sqrt(3)/3],  # Top vertex\n",
    "    [-0.5, -np.sqrt(3)/6],  # Bottom left vertex\n",
    "    [0.5, -np.sqrt(3)/6]  # Bottom right vertex\n",
    "])\n",
    "\n",
    "\n",
    "def plot_points(arr):\n",
    "    # Plot the points\n",
    "    plt.scatter(arr[:, 0], arr[:, 1])\n",
    "\n",
    "    # Set the aspect ratio to be equal\n",
    "    plt.gca().set_aspect('equal', adjustable='box')\n",
    "\n",
    "    # Add grid and labels\n",
    "    plt.grid(True)\n",
    "    plt.xlabel('X-axis')\n",
    "    plt.ylabel('Y-axis')\n",
    "    plt.title('Equilateral Triangle Centered at (0, 0)')\n",
    "\n",
    "    # Show the plot\n",
    "    plt.show()\n",
    "    \n",
    "    \n"
   ]
  },
  {
   "cell_type": "code",
   "execution_count": null,
   "metadata": {},
   "outputs": [],
   "source": [
    "vertices = triangle_vertices # rectangle_vertices\n",
    "\n",
    "plot_points(vertices)\n",
    "print(vertices)\n",
    "dist_matrix = distance_matrix(vertices, vertices)\n",
    "print(dist_matrix)"
   ]
  },
  {
   "cell_type": "code",
   "execution_count": null,
   "metadata": {},
   "outputs": [],
   "source": [
    "from scipy.spatial import distance_matrix\n",
    "\n",
    "# Calculate the distance matrix\n",
    "# dist_matrix = distance_matrix(triangle_vertices, triangle_vertices)\n",
    "\n",
    "# print(dist_matrix)"
   ]
  },
  {
   "cell_type": "code",
   "execution_count": null,
   "metadata": {},
   "outputs": [],
   "source": [
    "random_matrix = np.random.rand(4, 2)\n",
    "print(random_matrix)"
   ]
  },
  {
   "cell_type": "code",
   "execution_count": null,
   "metadata": {},
   "outputs": [],
   "source": [
    "vertices"
   ]
  },
  {
   "cell_type": "code",
   "execution_count": null,
   "metadata": {},
   "outputs": [],
   "source": [
    "from sklearn.manifold import MDS\n",
    "\n",
    "dissimilarity_matrix = dist_matrix\n",
    "\n",
    "\n",
    "# n_init = 4 if init is None else 1 \n",
    "\n",
    "\n",
    "embedding = MDS(dissimilarity='precomputed', random_state=42) #, n_init=n_init)\n",
    "coordinates = embedding.fit_transform(dissimilarity_matrix, init=vertices*3+2) # + np.random.rand(4, 2))\n",
    "\n",
    "# return pd.DataFrame(coordinates, \n",
    "#                     index=dissimilarity_matrix.index, \n",
    "#                     columns=pd.Index(['dim1', 'dim2'], name='dimension'))\n",
    "plot_points(coordinates)\n",
    "print(distance_matrix(coordinates, coordinates))"
   ]
  },
  {
   "cell_type": "code",
   "execution_count": null,
   "metadata": {},
   "outputs": [],
   "source": [
    "from sklearn.manifold import MDS\n",
    "\n",
    "dissimilarity_matrix = dist_matrix\n",
    "\n",
    "\n",
    "# n_init = 4 if init is None else 1 \n",
    "\n",
    "\n",
    "embedding = MDS(dissimilarity='euclidean', random_state=42) #, n_init=n_init)\n",
    "coordinates = embedding.fit_transform(vertices, init=vertices*3+2) # + np.random.rand(4, 2))\n",
    "\n",
    "# return pd.DataFrame(coordinates, \n",
    "#                     index=dissimilarity_matrix.index, \n",
    "#                     columns=pd.Index(['dim1', 'dim2'], name='dimension'))\n",
    "plot_points(coordinates)\n",
    "print(distance_matrix(coordinates, coordinates))"
   ]
  },
  {
   "cell_type": "code",
   "execution_count": null,
   "metadata": {},
   "outputs": [],
   "source": [
    "correlation_matrix = np.identity(1000)\n",
    "dissimilarity_matrix = np.sqrt(1-correlation_matrix**2)\n",
    "\n",
    "embedding = MDS(dissimilarity='precomputed', random_state=42) #, n_init=n_init)\n",
    "coordinates = embedding.fit_transform(dissimilarity_matrix) #, init=vertices*3+2) # + np.random.rand(4, 2))\n",
    "plot_points(coordinates)\n",
    "# print(distance_matrix(coordinates, coordinates))\n"
   ]
  },
  {
   "cell_type": "code",
   "execution_count": null,
   "metadata": {},
   "outputs": [],
   "source": [
    "max(coordinates[:, 0])\n"
   ]
  }
 ],
 "metadata": {
  "kernelspec": {
   "display_name": "venv-bklm",
   "language": "python",
   "name": "python3"
  },
  "language_info": {
   "codemirror_mode": {
    "name": "ipython",
    "version": 3
   },
   "file_extension": ".py",
   "mimetype": "text/x-python",
   "name": "python",
   "nbconvert_exporter": "python",
   "pygments_lexer": "ipython3",
   "version": "3.11.9"
  }
 },
 "nbformat": 4,
 "nbformat_minor": 2
}
