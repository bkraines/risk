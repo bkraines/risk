{
 "cells": [
  {
   "cell_type": "code",
   "execution_count": null,
   "id": "efa2972a",
   "metadata": {},
   "outputs": [],
   "source": [
    "from risk_data import get_factor_data\n",
    "factor_data = get_factor_data()"
   ]
  },
  {
   "cell_type": "code",
   "execution_count": null,
   "id": "3ae78c5f",
   "metadata": {},
   "outputs": [],
   "source": [
    "from risk_stats import get_zscore\n",
    "\n",
    "factor_data['zscore'] = get_zscore(factor_data.ret, factor_data.vol)\n",
    "factor_data['zscore']"
   ]
  },
  {
   "cell_type": "code",
   "execution_count": null,
   "id": "f008135c",
   "metadata": {},
   "outputs": [],
   "source": [
    "# sample = factor_data['zscore'].sel(vol_type=21, factor_name='QQQ').to_pandas().dropna()\n",
    "# plot_qq(sample)"
   ]
  },
  {
   "cell_type": "code",
   "execution_count": null,
   "id": "5df6f2a4",
   "metadata": {},
   "outputs": [],
   "source": [
    "from risk_chart import plot_qq_df\n",
    "from risk_data import get_factor_data\n",
    "from risk_stats import get_zscore\n",
    "\n",
    "factor_data = get_factor_data()\n",
    "factor_data['zscore'] = get_zscore(factor_data.ret, factor_data.vol)\n",
    "\n",
    "df = factor_data['zscore'].sel(vol_type=63, factor_name=['SPY', 'QQQ', 'IWM']).to_pandas()\n",
    "plot_qq_df(df)\n"
   ]
  },
  {
   "cell_type": "code",
   "execution_count": null,
   "id": "254460cd",
   "metadata": {},
   "outputs": [],
   "source": [
    "import pandas as pd\n",
    "import numpy as np\n",
    "import scipy.stats as stats\n",
    "import plotly.graph_objects as go\n",
    "\n",
    "def qq_plot2(df: pd.DataFrame, title: str = \"QQ Plot\") -> go.Figure:\n",
    "    \"\"\"\n",
    "    Create a QQ-plot for each column in a DataFrame using Plotly.\n",
    "    \n",
    "    Parameters\n",
    "    ----------\n",
    "    df : pd.DataFrame\n",
    "        DataFrame where each column is a data series to compare against the normal distribution.\n",
    "        The index should be datetime-like, used for hover labels.\n",
    "    title : str, optional\n",
    "        Title of the plot, by default \"QQ Plot\"\n",
    "        \n",
    "    Returns\n",
    "    -------\n",
    "    go.Figure\n",
    "        A Plotly Figure object with QQ plots.\n",
    "    \"\"\"\n",
    "    # Drop any rows with missing data\n",
    "    clean_df = df.dropna()\n",
    "    \n",
    "    # Number of observations\n",
    "    n = len(clean_df)\n",
    "    # Theoretical quantiles from standard normal\n",
    "    theoretical_quantiles = stats.norm.ppf(np.linspace(0.5 / n, 1 - 0.5 / n, n))\n",
    "    \n",
    "    fig = go.Figure()\n",
    "\n",
    "    for col in clean_df.columns:\n",
    "        sorted_data = clean_df[col].sort_values()\n",
    "        sorted_dates = clean_df.loc[sorted_data.index].index\n",
    "\n",
    "        fig.add_trace(go.Scatter(\n",
    "            x=theoretical_quantiles,\n",
    "            y=sorted_data.values,\n",
    "            mode='markers',\n",
    "            name=col,\n",
    "            text=[str(d.date()) for d in sorted_dates],\n",
    "            hovertemplate='%{text}<br>x: %{x:.4f}<br>y: %{y:.4f}<extra></extra>'\n",
    "        ))\n",
    "\n",
    "    # Add 45-degree reference line\n",
    "    q_min = min(theoretical_quantiles.min(), clean_df.min().min())\n",
    "    q_max = max(theoretical_quantiles.max(), clean_df.max().max())\n",
    "    fig.add_trace(go.Scatter(\n",
    "        x=[q_min, q_max],\n",
    "        y=[q_min, q_max],\n",
    "        mode='lines',\n",
    "        line=dict(\n",
    "            color='rgba(0,0,0,0.3)',\n",
    "            width=1.5,\n",
    "            dash='dash'\n",
    "        ),\n",
    "        showlegend=False\n",
    "    ))\n",
    "\n",
    "    fig.update_layout(\n",
    "        title=title,\n",
    "        template='plotly_white',\n",
    "        width=600,\n",
    "        height=600,\n",
    "        xaxis=dict(title='Theoretical Quantiles'),\n",
    "        yaxis=dict(title='Sample Quantiles'),\n",
    "    )\n",
    "\n",
    "    return fig\n",
    "\n"
   ]
  },
  {
   "cell_type": "code",
   "execution_count": null,
   "id": "9b23f717",
   "metadata": {},
   "outputs": [],
   "source": [
    "\n",
    "from typing import Optional\n",
    "import numpy as np\n",
    "import pandas as pd\n",
    "import plotly.graph_objects as go\n",
    "import scipy.stats as stats\n",
    "\n",
    "\n",
    "def qq_plot3(\n",
    "    df: pd.DataFrame,\n",
    "    dist: str = \"norm\",\n",
    "    title: str = \"QQ Plot\",\n",
    "    width: int = 600,\n",
    "    height: int = 600,\n",
    ") -> go.Figure:\n",
    "    \"\"\"\n",
    "    Generate a QQ-plot comparing columns of a DataFrame to a theoretical distribution.\n",
    "\n",
    "    Parameters\n",
    "    ----------\n",
    "    df : pd.DataFrame\n",
    "        DataFrame where each column is a variable to be plotted.\n",
    "    dist : str, default \"norm\"\n",
    "        Theoretical distribution to compare against. Passed to scipy.stats.\n",
    "    title : str, default \"QQ Plot\"\n",
    "        Title of the plot.\n",
    "    width : int, default 600\n",
    "        Width of the figure in pixels.\n",
    "    height : int, default 600\n",
    "        Height of the figure in pixels.\n",
    "\n",
    "    Returns\n",
    "    -------\n",
    "    go.Figure\n",
    "        A Plotly figure object showing the QQ plot.\n",
    "    \"\"\"\n",
    "    df = df.dropna()\n",
    "    n = len(df)\n",
    "    if n == 0:\n",
    "        raise ValueError(\"Input DataFrame is empty after dropping missing values.\")\n",
    "\n",
    "    probs = np.linspace(0.5 / n, 1 - 0.5 / n, n)\n",
    "    theoretical_quantiles = getattr(stats, dist).ppf(probs)\n",
    "\n",
    "    fig = go.Figure()\n",
    "\n",
    "    for col in df.columns:\n",
    "        sorted_series = df[col].sort_values()\n",
    "        sorted_values = sorted_series.values\n",
    "        sorted_dates = sorted_series.index.strftime(\"%Y-%m-%d\")\n",
    "\n",
    "        fig.add_trace(\n",
    "            go.Scatter(\n",
    "                x=theoretical_quantiles,\n",
    "                y=sorted_values,\n",
    "                mode=\"markers\",\n",
    "                name=col,\n",
    "                text=sorted_dates,\n",
    "                hovertemplate=(\n",
    "                    f\"<b>{col}</b><br>\"\n",
    "                    \"Date: %{text}<br>\"\n",
    "                    \"Theoretical: %{x:.2f}<br>\"\n",
    "                    \"Observed: %{y:.2f}<extra></extra>\"\n",
    "                ),\n",
    "            )\n",
    "        )\n",
    "\n",
    "    # Add 45-degree reference line\n",
    "    all_values = df.values.flatten()\n",
    "    min_val = np.min(all_values)\n",
    "    max_val = np.max(all_values)\n",
    "    fig.add_trace(\n",
    "        go.Scatter(\n",
    "            x=[min_val, max_val],\n",
    "            y=[min_val, max_val],\n",
    "            mode=\"lines\",\n",
    "            line=dict(color=\"rgba(204, 204, 204, 1)\", width=1),\n",
    "            showlegend=False,\n",
    "            hoverinfo=\"skip\",\n",
    "        )\n",
    "    )\n",
    "\n",
    "    fig.update_layout(\n",
    "        title=title,\n",
    "        xaxis_title=f\"Theoretical Quantiles ({dist})\",\n",
    "        yaxis_title=\"Observed Values\",\n",
    "        template=\"plotly_white\",\n",
    "        width=width,\n",
    "        height=height,\n",
    "    )\n",
    "\n",
    "    fig.update_yaxes(scaleanchor=\"x\", scaleratio=1)\n",
    "\n",
    "    return fig\n"
   ]
  },
  {
   "cell_type": "code",
   "execution_count": null,
   "id": "b5cd6b5c",
   "metadata": {},
   "outputs": [],
   "source": []
  },
  {
   "cell_type": "code",
   "execution_count": null,
   "id": "a6e9babd",
   "metadata": {},
   "outputs": [],
   "source": [
    "qq_plot2(df)"
   ]
  },
  {
   "cell_type": "code",
   "execution_count": null,
   "id": "9ffaa165",
   "metadata": {},
   "outputs": [],
   "source": [
    "qq_plot3(df)"
   ]
  },
  {
   "cell_type": "code",
   "execution_count": null,
   "id": "e89542be",
   "metadata": {},
   "outputs": [],
   "source": [
    "factor_1 = 'SPY'\n",
    "vol_type_1 = 63\n",
    "factor_2 = 'IWM'\n",
    "vol_type_2 = 63\n",
    "\n",
    "\n",
    "df = pd.concat({f'{factor_1}, {vol_type_1}' : factor_data.zscore.sel(factor_name=factor_1, vol_type=vol_type_1).to_pandas(),\n",
    "                f'{factor_2}, {vol_type_2}' : factor_data.zscore.sel(factor_name=factor_2, vol_type=vol_type_2).to_pandas()}\n",
    "               , axis=1).dropna()\n",
    "\n",
    "# pd.concat([factor_data.zscore.sel(factor_name=factor_1, vol_type=vol_type_1).to_pandas(),\n",
    "#            factor_data.zscore.sel(factor_name=factor_2, vol_type=vol_type_2).to_pandas(),\n",
    "# ], axis=1).dropna()\n"
   ]
  },
  {
   "cell_type": "code",
   "execution_count": null,
   "id": "a0e43487",
   "metadata": {},
   "outputs": [],
   "source": [
    "factor_data.zscore.sel(factor_name=factor_1, vol_type=vol_type_1).to_series()\n",
    "factor_data.zscore.sel(factor_name=factor_1, vol_type=vol_type_1).to_pandas()"
   ]
  },
  {
   "cell_type": "code",
   "execution_count": null,
   "id": "2139e5a4",
   "metadata": {},
   "outputs": [],
   "source": [
    "n = 273\n",
    "np.linspace(0.5/n, 1 - 0.5/n, n)"
   ]
  },
  {
   "cell_type": "code",
   "execution_count": null,
   "id": "58a5ea2b",
   "metadata": {},
   "outputs": [],
   "source": [
    "import plotly.graph_objects as go\n",
    "import numpy as np\n",
    "\n",
    "# Sample data\n",
    "np.random.seed(0)\n",
    "x = np.linspace(-3, 3, 100)\n",
    "y = np.random.normal(0, 1, size=100)\n",
    "\n",
    "# Figure with <extra></extra> to suppress the extra box\n",
    "fig1 = go.Figure()\n",
    "fig1.add_trace(go.Scatter(\n",
    "    x=x, y=y, mode='markers',\n",
    "    name='No Extra',\n",
    "    hovertemplate=\"X: %{x:.2f}<br>Y: %{y:.2f}<extra></extra>\"\n",
    "))\n",
    "fig1.update_layout(title='Without <extra>')\n",
    "\n",
    "# Figure with default hovertemplate (includes extra box)\n",
    "fig2 = go.Figure()\n",
    "fig2.add_trace(go.Scatter(\n",
    "    x=x, y=y, mode='markers',\n",
    "    name='Default',\n",
    "    hovertemplate=\"X: %{x:.2f}<br>Y: %{y:.2f}\"  # No <extra>\n",
    "))\n",
    "fig2.update_layout(title='With Default <extra>')\n",
    "\n",
    "fig1.show()\n",
    "fig2.show()\n"
   ]
  },
  {
   "cell_type": "code",
   "execution_count": null,
   "id": "f673b2fa",
   "metadata": {},
   "outputs": [],
   "source": [
    "import scipy.stats as stats\n",
    "\n",
    "def get_dist_name(dist) -> str:\n",
    "    return getattr(dist, \"name\", type(dist).__name__.replace(\"_gen\", \"\")).capitalize()\n",
    "\n",
    "def get_dist_name(dist) -> str:\n",
    "    return type(dist).__name__.replace(\"_gen\", \"\").capitalize()\n",
    "\n",
    "get_dist_name(stats.norm)  # 'norm'"
   ]
  },
  {
   "cell_type": "code",
   "execution_count": null,
   "id": "13d042c7",
   "metadata": {},
   "outputs": [
    {
     "data": {
      "text/plain": [
       "(-1094.2357165991245, 1451.9756745696477)"
      ]
     },
     "metadata": {},
     "output_type": "display_data"
    }
   ],
   "source": [
    "import pandas as pd\n",
    "import numpy as np\n",
    "from numpy import log10\n",
    "from arch import arch_model\n"
   ]
  },
  {
   "cell_type": "code",
   "execution_count": null,
   "id": "24fcd1e8",
   "metadata": {},
   "outputs": [
    {
     "data": {
      "text/plain": [
       "(-1094.2357165991245, 1451.9756745696477)"
      ]
     },
     "metadata": {},
     "output_type": "display_data"
    }
   ],
   "source": [
    "import pandas as pd\n",
    "import numpy as np\n",
    "from numpy import log10\n",
    "from arch import arch_model\n"
   ]
  },
  {
   "cell_type": "code",
   "execution_count": null,
   "id": "e17611fc",
   "metadata": {},
   "outputs": [
    {
     "data": {
      "text/plain": [
       "(-1094.2357165991245, 1451.9756745696477)"
      ]
     },
     "metadata": {},
     "output_type": "display_data"
    }
   ],
   "source": [
    "import pandas as pd\n",
    "import numpy as np\n",
    "from numpy import log10\n",
    "from arch import arch_model\n"
   ]
  },
  {
   "cell_type": "code",
   "execution_count": null,
   "metadata": {},
   "outputs": [
    {
     "data": {
      "text/plain": [
       "(-1094.2357165991245, 1451.9756745696477)"
      ]
     },
     "metadata": {},
     "output_type": "display_data"
    }
   ],
   "source": [
    "import pandas as pd\n",
    "import numpy as np\n",
    "from numpy import log10\n",
    "from arch import arch_model\n"
   ]
  },
  {
   "cell_type": "code",
   "execution_count": null,
   "metadata": {},
   "outputs": [
    {
     "data": {
      "text/plain": [
       "(-1094.2357165991245, 1451.9756745696477)"
      ]
     },
     "metadata": {},
     "output_type": "display_data"
    }
   ],
   "source": [
    "import pandas as pd\n",
    "import numpy as np\n",
    "from numpy import log10\n",
    "from arch import arch_model\n"
   ]
  },
  {
   "cell_type": "code",
   "execution_count": null,
   "metadata": {},
   "outputs": [
    {
     "data": {
      "text/plain": [
       "(-1094.2357165991245, 1451.9756745696477)"
      ]
     },
     "metadata": {},
     "output_type": "display_data"
    }
   ],
   "source": [
    "import pandas as pd\n",
    "import numpy as np\n",
    "from numpy import log10\n",
    "from arch import arch_model\n"
   ]
  },
  {
   "cell_type": "code",
   "execution_count": null,
   "metadata": {},
   "outputs": [
    {
     "data": {
      "text/plain": [
       "(-1094.2357165991245, 1451.9756745696477)"
      ]
     },
     "metadata": {},
     "output_type": "display_data"
    }
   ],
   "source": [
    "import pandas as pd\n",
    "import numpy as np\n",
    "from numpy import log10\n",
    "from arch import arch_model\n"
   ]
  },
  {
   "cell_type": "code",
   "execution_count": null,
   "metadata": {},
   "outputs": [
    {
     "data": {
      "text/plain": [
       "(-1094.2357165991245, 1451.9756745696477)"
      ]
     },
     "metadata": {},
     "output_type": "display_data"
    }
   ],
   "source": [
    "import pandas as pd\n",
    "import numpy as np\n",
    "from numpy import log10\n",
    "from arch import arch_model\n"
   ]
  }
 ],
 "metadata": {
  "kernelspec": {
   "display_name": "venv-bklm",
   "language": "python",
   "name": "python3"
  },
  "language_info": {
   "codemirror_mode": {
    "name": "ipython",
    "version": 3
   },
   "file_extension": ".py",
   "mimetype": "text/x-python",
   "name": "python",
   "nbconvert_exporter": "python",
   "pygments_lexer": "ipython3",
   "version": "3.11.9"
  }
 },
 "nbformat": 4,
 "nbformat_minor": 5
}
