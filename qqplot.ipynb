{
 "cells": [
  {
   "cell_type": "code",
   "execution_count": null,
   "id": "efa2972a",
   "metadata": {},
   "outputs": [],
   "source": [
    "from risk_lib.data import get_factor_data\n",
    "factor_data = get_factor_data()"
   ]
  },
  {
   "cell_type": "code",
   "execution_count": null,
   "id": "3ae78c5f",
   "metadata": {},
   "outputs": [],
   "source": [
    "from risk_lib.stats import get_zscore\n",
    "\n",
    "factor_data['zscore'] = get_zscore(factor_data.ret, factor_data.vol)\n",
    "factor_data['zscore']"
   ]
  },
  {
   "cell_type": "code",
   "execution_count": null,
   "id": "f008135c",
   "metadata": {},
   "outputs": [],
   "source": [
    "sample = factor_data['zscore'].sel(vol_type=21, factor_name='QQQ').to_pandas().dropna()\n",
    "plot_qq(sample)"
   ]
  }
 ],
 "metadata": {
  "kernelspec": {
   "display_name": "venv-bklm",
   "language": "python",
   "name": "python3"
  },
  "language_info": {
   "codemirror_mode": {
    "name": "ipython",
    "version": 3
   },
   "file_extension": ".py",
   "mimetype": "text/x-python",
   "name": "python",
   "nbconvert_exporter": "python",
   "pygments_lexer": "ipython3",
   "version": "3.11.9"
  }
 },
 "nbformat": 4,
 "nbformat_minor": 5
}
