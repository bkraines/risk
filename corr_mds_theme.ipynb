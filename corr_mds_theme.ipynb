{
 "cells": [
  {
   "cell_type": "code",
   "execution_count": 1,
   "metadata": {},
   "outputs": [],
   "source": [
    "# TODO: Try diagonal and uniform correlations (totally uncorrelated and correlated) (think about the circle)\n",
    "# TODO: Make sure we're finding global minimum\n",
    "# TODO: With and without portfolio\n",
    "# TODO: Paramters - factors, dates, correlation\n",
    "\n",
    "# TODO: Remove first principal component... make it beta neutral"
   ]
  },
  {
   "cell_type": "code",
   "execution_count": 2,
   "metadata": {},
   "outputs": [],
   "source": [
    "from typing import Optional, List\n",
    "from importlib import reload\n",
    "\n",
    "import pandas as pd\n",
    "\n",
    "from data import build_dataset_with_composites #, get_yf_returns, get_factor_master, get_portfolios, get_yf_data, cumulate_returns\n",
    "# from stats import get_volatility_set, get_correlation_set\n",
    "from util import xr_pct_change #, safe_reindex\n",
    "\n",
    "from corr_mds import *"
   ]
  },
  {
   "cell_type": "code",
   "execution_count": 3,
   "metadata": {},
   "outputs": [],
   "source": [
    "from importlib import reload\n",
    "import corr_mds\n",
    "reload(corr_mds)\n",
    "from corr_mds import *"
   ]
  },
  {
   "cell_type": "code",
   "execution_count": 4,
   "metadata": {},
   "outputs": [],
   "source": [
    "# # def get_factor_data_port(halflifes: Optional[List[int]] = None) -> xr.Dataset:\n",
    "# # if halflifes == None:\n",
    "# #     halflifes = [21, 63, 126, 252, 512]\n",
    "\n",
    "# factor_master = get_factor_master(sheet_name='read')\n",
    "# asset_list = factor_master.loc[factor_master['composite'] == 0].index.to_list()\n",
    "# portfolios = get_portfolios().pipe(safe_reindex, factor_master).fillna(0).loc[asset_list]\n"
   ]
  },
  {
   "cell_type": "code",
   "execution_count": 5,
   "metadata": {},
   "outputs": [],
   "source": [
    "# def build_dataset_with_composites(halflifes: List[int]) -> xr.Dataset:\n",
    "#     # Here `assets` refer to factors built from single security (basis vectors)\n",
    "#     # Here `portfolios` refer to factors built from `assets`\n",
    "    \n",
    "#     factor_master = get_factor_master(sheet_name='read')\n",
    "#     asset_list = factor_master.loc[factor_master['composite'] == 0].index.to_list()\n",
    "#     asset_data = get_yf_returns(asset_list)\n",
    "#     asset_ret = asset_data['ret'].to_pandas()\n",
    "    \n",
    "#     portfolios_weights = get_portfolios().pipe(safe_reindex, factor_master).fillna(0).loc[asset_list]  \n",
    "#     portfolios_ret = asset_ret @ portfolios_weights\n",
    "\n",
    "#     factor_data = xr.Dataset()\n",
    "#     factor_data['ret'] = pd.concat([asset_ret, portfolios_ret], axis=1).rename_axis(columns='asset')\n",
    "#     # factor_data['ret'] = (pd.concat([asset_ret['MWTIX'], portfolios_ret, asset_ret.drop(columns=['MWTIX'])], axis=1).rename_axis(columns='asset'))\n",
    "#     factor_data['vol']   = get_volatility_set(factor_data['ret'], halflifes)\n",
    "#     factor_data['corr']  = get_correlation_set(factor_data['ret'], halflifes)\n",
    "#     factor_data['cret']  = factor_data['ret'].cumsum(dim='date')\n",
    "\n",
    "#     factor_data['asset'].attrs = factor_master.T.to_dict()\n",
    "\n",
    "#     return factor_data"
   ]
  },
  {
   "cell_type": "code",
   "execution_count": 6,
   "metadata": {},
   "outputs": [
    {
     "name": "stderr",
     "output_type": "stream",
     "text": [
      "[*********************100%%**********************]  57 of 57 completed\n",
      "\n",
      "57 Failed downloads:\n",
      "['CMBS', 'KRE', 'XLY', 'KWEB', 'FEZ', 'XLU', 'LQD', 'EWU', 'XLI', 'XLE', 'IWM', 'AGNC', 'IEF', '^MOVE', 'FXE', 'USO', 'XLK', '^VIX', 'MDY', 'EMB', 'HYGH', 'EWC', 'XLF', 'QQQ', 'ICLN', 'SLV', 'FXI', 'AGG', 'VMBS', 'XLB', 'TIP', 'SHY', 'XLP', 'TLT', 'PFF', 'IEI', 'XLC', 'EWI', 'TPX', 'VTIP', 'BSV', 'DAX', 'GLD', 'UUP', 'VNQ', 'EEM', 'SPY', '^N225', 'XLV', 'HYG', 'AIQ', '^TNX', 'IYR', 'ASHR', 'RSP', 'DIA', 'FXY']: JSONDecodeError('Expecting value: line 1 column 1 (char 0)')\n"
     ]
    },
    {
     "ename": "KeyError",
     "evalue": "\"not all values found in index 'ohlcv_type'. Try setting the `method` keyword argument (example: method='nearest').\"",
     "output_type": "error",
     "traceback": [
      "\u001b[1;31m---------------------------------------------------------------------------\u001b[0m",
      "\u001b[1;31mKeyError\u001b[0m                                  Traceback (most recent call last)",
      "File \u001b[1;32mc:\\Users\\bkrai\\Source\\venv-python312\\Lib\\site-packages\\pandas\\core\\indexes\\base.py:3805\u001b[0m, in \u001b[0;36mIndex.get_loc\u001b[1;34m(self, key)\u001b[0m\n\u001b[0;32m   3804\u001b[0m \u001b[38;5;28;01mtry\u001b[39;00m:\n\u001b[1;32m-> 3805\u001b[0m     \u001b[38;5;28;01mreturn\u001b[39;00m \u001b[38;5;28;43mself\u001b[39;49m\u001b[38;5;241;43m.\u001b[39;49m\u001b[43m_engine\u001b[49m\u001b[38;5;241;43m.\u001b[39;49m\u001b[43mget_loc\u001b[49m\u001b[43m(\u001b[49m\u001b[43mcasted_key\u001b[49m\u001b[43m)\u001b[49m\n\u001b[0;32m   3806\u001b[0m \u001b[38;5;28;01mexcept\u001b[39;00m \u001b[38;5;167;01mKeyError\u001b[39;00m \u001b[38;5;28;01mas\u001b[39;00m err:\n",
      "File \u001b[1;32mindex.pyx:167\u001b[0m, in \u001b[0;36mpandas._libs.index.IndexEngine.get_loc\u001b[1;34m()\u001b[0m\n",
      "File \u001b[1;32mindex.pyx:196\u001b[0m, in \u001b[0;36mpandas._libs.index.IndexEngine.get_loc\u001b[1;34m()\u001b[0m\n",
      "File \u001b[1;32mpandas\\\\_libs\\\\hashtable_class_helper.pxi:7081\u001b[0m, in \u001b[0;36mpandas._libs.hashtable.PyObjectHashTable.get_item\u001b[1;34m()\u001b[0m\n",
      "File \u001b[1;32mpandas\\\\_libs\\\\hashtable_class_helper.pxi:7089\u001b[0m, in \u001b[0;36mpandas._libs.hashtable.PyObjectHashTable.get_item\u001b[1;34m()\u001b[0m\n",
      "\u001b[1;31mKeyError\u001b[0m: 'adj close'",
      "\nThe above exception was the direct cause of the following exception:\n",
      "\u001b[1;31mKeyError\u001b[0m                                  Traceback (most recent call last)",
      "File \u001b[1;32mc:\\Users\\bkrai\\Source\\venv-python312\\Lib\\site-packages\\xarray\\core\\indexes.py:773\u001b[0m, in \u001b[0;36mPandasIndex.sel\u001b[1;34m(self, labels, method, tolerance)\u001b[0m\n\u001b[0;32m    772\u001b[0m \u001b[38;5;28;01mtry\u001b[39;00m:\n\u001b[1;32m--> 773\u001b[0m     indexer \u001b[38;5;241m=\u001b[39m \u001b[38;5;28;43mself\u001b[39;49m\u001b[38;5;241;43m.\u001b[39;49m\u001b[43mindex\u001b[49m\u001b[38;5;241;43m.\u001b[39;49m\u001b[43mget_loc\u001b[49m\u001b[43m(\u001b[49m\u001b[43mlabel_value\u001b[49m\u001b[43m)\u001b[49m\n\u001b[0;32m    774\u001b[0m \u001b[38;5;28;01mexcept\u001b[39;00m \u001b[38;5;167;01mKeyError\u001b[39;00m \u001b[38;5;28;01mas\u001b[39;00m e:\n",
      "File \u001b[1;32mc:\\Users\\bkrai\\Source\\venv-python312\\Lib\\site-packages\\pandas\\core\\indexes\\base.py:3812\u001b[0m, in \u001b[0;36mIndex.get_loc\u001b[1;34m(self, key)\u001b[0m\n\u001b[0;32m   3811\u001b[0m         \u001b[38;5;28;01mraise\u001b[39;00m InvalidIndexError(key)\n\u001b[1;32m-> 3812\u001b[0m     \u001b[38;5;28;01mraise\u001b[39;00m \u001b[38;5;167;01mKeyError\u001b[39;00m(key) \u001b[38;5;28;01mfrom\u001b[39;00m \u001b[38;5;21;01merr\u001b[39;00m\n\u001b[0;32m   3813\u001b[0m \u001b[38;5;28;01mexcept\u001b[39;00m \u001b[38;5;167;01mTypeError\u001b[39;00m:\n\u001b[0;32m   3814\u001b[0m     \u001b[38;5;66;03m# If we have a listlike key, _check_indexing_error will raise\u001b[39;00m\n\u001b[0;32m   3815\u001b[0m     \u001b[38;5;66;03m#  InvalidIndexError. Otherwise we fall through and re-raise\u001b[39;00m\n\u001b[0;32m   3816\u001b[0m     \u001b[38;5;66;03m#  the TypeError.\u001b[39;00m\n",
      "\u001b[1;31mKeyError\u001b[0m: 'adj close'",
      "\nThe above exception was the direct cause of the following exception:\n",
      "\u001b[1;31mKeyError\u001b[0m                                  Traceback (most recent call last)",
      "Cell \u001b[1;32mIn[6], line 2\u001b[0m\n\u001b[0;32m      1\u001b[0m halflifes \u001b[38;5;241m=\u001b[39m [\u001b[38;5;241m21\u001b[39m, \u001b[38;5;241m63\u001b[39m, \u001b[38;5;241m126\u001b[39m, \u001b[38;5;241m512\u001b[39m]\n\u001b[1;32m----> 2\u001b[0m factor_data2 \u001b[38;5;241m=\u001b[39m \u001b[43mbuild_dataset_with_composites\u001b[49m\u001b[43m(\u001b[49m\u001b[43mhalflifes\u001b[49m\u001b[43m)\u001b[49m\n",
      "File \u001b[1;32mc:\\Users\\bkrai\\Source\\risk\\data.py:101\u001b[0m, in \u001b[0;36mbuild_dataset_with_composites\u001b[1;34m(halflifes)\u001b[0m\n\u001b[0;32m     99\u001b[0m factor_master \u001b[38;5;241m=\u001b[39m get_factor_master(sheet_name\u001b[38;5;241m=\u001b[39m\u001b[38;5;124m'\u001b[39m\u001b[38;5;124mread\u001b[39m\u001b[38;5;124m'\u001b[39m)\n\u001b[0;32m    100\u001b[0m asset_list \u001b[38;5;241m=\u001b[39m factor_master\u001b[38;5;241m.\u001b[39mloc[factor_master[\u001b[38;5;124m'\u001b[39m\u001b[38;5;124mcomposite\u001b[39m\u001b[38;5;124m'\u001b[39m] \u001b[38;5;241m==\u001b[39m \u001b[38;5;241m0\u001b[39m]\u001b[38;5;241m.\u001b[39mindex\u001b[38;5;241m.\u001b[39mto_list()\n\u001b[1;32m--> 101\u001b[0m asset_data \u001b[38;5;241m=\u001b[39m \u001b[43mget_yf_returns\u001b[49m\u001b[43m(\u001b[49m\u001b[43masset_list\u001b[49m\u001b[43m)\u001b[49m\n\u001b[0;32m    102\u001b[0m asset_ret \u001b[38;5;241m=\u001b[39m asset_data[\u001b[38;5;124m'\u001b[39m\u001b[38;5;124mret\u001b[39m\u001b[38;5;124m'\u001b[39m]\u001b[38;5;241m.\u001b[39mfillna(\u001b[38;5;241m0\u001b[39m)\u001b[38;5;241m.\u001b[39mto_pandas()\n\u001b[0;32m    104\u001b[0m portfolios_weights \u001b[38;5;241m=\u001b[39m get_portfolios()\u001b[38;5;241m.\u001b[39mpipe(safe_reindex, factor_master)\u001b[38;5;241m.\u001b[39mfillna(\u001b[38;5;241m0\u001b[39m)\u001b[38;5;241m.\u001b[39mloc[asset_list]  \n",
      "File \u001b[1;32mc:\\Users\\bkrai\\Source\\risk\\data.py:65\u001b[0m, in \u001b[0;36mget_yf_returns\u001b[1;34m(asset_list)\u001b[0m\n\u001b[0;32m     63\u001b[0m ds \u001b[38;5;241m=\u001b[39m xr\u001b[38;5;241m.\u001b[39mDataset()\n\u001b[0;32m     64\u001b[0m ds[\u001b[38;5;124m'\u001b[39m\u001b[38;5;124mohlcv\u001b[39m\u001b[38;5;124m'\u001b[39m] \u001b[38;5;241m=\u001b[39m get_yf_data(asset_list)\n\u001b[1;32m---> 65\u001b[0m ds[\u001b[38;5;124m'\u001b[39m\u001b[38;5;124mcret\u001b[39m\u001b[38;5;124m'\u001b[39m]  \u001b[38;5;241m=\u001b[39m \u001b[43mds\u001b[49m\u001b[43m[\u001b[49m\u001b[38;5;124;43m'\u001b[39;49m\u001b[38;5;124;43mohlcv\u001b[39;49m\u001b[38;5;124;43m'\u001b[39;49m\u001b[43m]\u001b[49m\u001b[38;5;241;43m.\u001b[39;49m\u001b[43msel\u001b[49m\u001b[43m(\u001b[49m\u001b[43mohlcv_type\u001b[49m\u001b[38;5;241;43m=\u001b[39;49m\u001b[38;5;124;43m'\u001b[39;49m\u001b[38;5;124;43madj close\u001b[39;49m\u001b[38;5;124;43m'\u001b[39;49m\u001b[43m)\u001b[49m\n\u001b[0;32m     66\u001b[0m ds[\u001b[38;5;124m'\u001b[39m\u001b[38;5;124mret\u001b[39m\u001b[38;5;124m'\u001b[39m]   \u001b[38;5;241m=\u001b[39m ds[\u001b[38;5;124m'\u001b[39m\u001b[38;5;124mcret\u001b[39m\u001b[38;5;124m'\u001b[39m]\u001b[38;5;241m.\u001b[39mffill(dim\u001b[38;5;241m=\u001b[39m\u001b[38;5;124m'\u001b[39m\u001b[38;5;124mdate\u001b[39m\u001b[38;5;124m'\u001b[39m)\u001b[38;5;241m.\u001b[39mpipe(xr_pct_change, \u001b[38;5;124m'\u001b[39m\u001b[38;5;124mdate\u001b[39m\u001b[38;5;124m'\u001b[39m)\n\u001b[0;32m     67\u001b[0m \u001b[38;5;28;01mreturn\u001b[39;00m ds\n",
      "File \u001b[1;32mc:\\Users\\bkrai\\Source\\venv-python312\\Lib\\site-packages\\xarray\\core\\dataarray.py:1643\u001b[0m, in \u001b[0;36mDataArray.sel\u001b[1;34m(self, indexers, method, tolerance, drop, **indexers_kwargs)\u001b[0m\n\u001b[0;32m   1527\u001b[0m \u001b[38;5;28;01mdef\u001b[39;00m \u001b[38;5;21msel\u001b[39m(\n\u001b[0;32m   1528\u001b[0m     \u001b[38;5;28mself\u001b[39m,\n\u001b[0;32m   1529\u001b[0m     indexers: Mapping[Any, Any] \u001b[38;5;241m|\u001b[39m \u001b[38;5;28;01mNone\u001b[39;00m \u001b[38;5;241m=\u001b[39m \u001b[38;5;28;01mNone\u001b[39;00m,\n\u001b[1;32m   (...)\u001b[0m\n\u001b[0;32m   1533\u001b[0m     \u001b[38;5;241m*\u001b[39m\u001b[38;5;241m*\u001b[39mindexers_kwargs: Any,\n\u001b[0;32m   1534\u001b[0m ) \u001b[38;5;241m-\u001b[39m\u001b[38;5;241m>\u001b[39m Self:\n\u001b[0;32m   1535\u001b[0m \u001b[38;5;250m    \u001b[39m\u001b[38;5;124;03m\"\"\"Return a new DataArray whose data is given by selecting index\u001b[39;00m\n\u001b[0;32m   1536\u001b[0m \u001b[38;5;124;03m    labels along the specified dimension(s).\u001b[39;00m\n\u001b[0;32m   1537\u001b[0m \n\u001b[1;32m   (...)\u001b[0m\n\u001b[0;32m   1641\u001b[0m \u001b[38;5;124;03m    Dimensions without coordinates: points\u001b[39;00m\n\u001b[0;32m   1642\u001b[0m \u001b[38;5;124;03m    \"\"\"\u001b[39;00m\n\u001b[1;32m-> 1643\u001b[0m     ds \u001b[38;5;241m=\u001b[39m \u001b[38;5;28;43mself\u001b[39;49m\u001b[38;5;241;43m.\u001b[39;49m\u001b[43m_to_temp_dataset\u001b[49m\u001b[43m(\u001b[49m\u001b[43m)\u001b[49m\u001b[38;5;241;43m.\u001b[39;49m\u001b[43msel\u001b[49m\u001b[43m(\u001b[49m\n\u001b[0;32m   1644\u001b[0m \u001b[43m        \u001b[49m\u001b[43mindexers\u001b[49m\u001b[38;5;241;43m=\u001b[39;49m\u001b[43mindexers\u001b[49m\u001b[43m,\u001b[49m\n\u001b[0;32m   1645\u001b[0m \u001b[43m        \u001b[49m\u001b[43mdrop\u001b[49m\u001b[38;5;241;43m=\u001b[39;49m\u001b[43mdrop\u001b[49m\u001b[43m,\u001b[49m\n\u001b[0;32m   1646\u001b[0m \u001b[43m        \u001b[49m\u001b[43mmethod\u001b[49m\u001b[38;5;241;43m=\u001b[39;49m\u001b[43mmethod\u001b[49m\u001b[43m,\u001b[49m\n\u001b[0;32m   1647\u001b[0m \u001b[43m        \u001b[49m\u001b[43mtolerance\u001b[49m\u001b[38;5;241;43m=\u001b[39;49m\u001b[43mtolerance\u001b[49m\u001b[43m,\u001b[49m\n\u001b[0;32m   1648\u001b[0m \u001b[43m        \u001b[49m\u001b[38;5;241;43m*\u001b[39;49m\u001b[38;5;241;43m*\u001b[39;49m\u001b[43mindexers_kwargs\u001b[49m\u001b[43m,\u001b[49m\n\u001b[0;32m   1649\u001b[0m \u001b[43m    \u001b[49m\u001b[43m)\u001b[49m\n\u001b[0;32m   1650\u001b[0m     \u001b[38;5;28;01mreturn\u001b[39;00m \u001b[38;5;28mself\u001b[39m\u001b[38;5;241m.\u001b[39m_from_temp_dataset(ds)\n",
      "File \u001b[1;32mc:\\Users\\bkrai\\Source\\venv-python312\\Lib\\site-packages\\xarray\\core\\dataset.py:3125\u001b[0m, in \u001b[0;36mDataset.sel\u001b[1;34m(self, indexers, method, tolerance, drop, **indexers_kwargs)\u001b[0m\n\u001b[0;32m   3057\u001b[0m \u001b[38;5;250m\u001b[39m\u001b[38;5;124;03m\"\"\"Returns a new dataset with each array indexed by tick labels\u001b[39;00m\n\u001b[0;32m   3058\u001b[0m \u001b[38;5;124;03malong the specified dimension(s).\u001b[39;00m\n\u001b[0;32m   3059\u001b[0m \n\u001b[1;32m   (...)\u001b[0m\n\u001b[0;32m   3122\u001b[0m \n\u001b[0;32m   3123\u001b[0m \u001b[38;5;124;03m\"\"\"\u001b[39;00m\n\u001b[0;32m   3124\u001b[0m indexers \u001b[38;5;241m=\u001b[39m either_dict_or_kwargs(indexers, indexers_kwargs, \u001b[38;5;124m\"\u001b[39m\u001b[38;5;124msel\u001b[39m\u001b[38;5;124m\"\u001b[39m)\n\u001b[1;32m-> 3125\u001b[0m query_results \u001b[38;5;241m=\u001b[39m \u001b[43mmap_index_queries\u001b[49m\u001b[43m(\u001b[49m\n\u001b[0;32m   3126\u001b[0m \u001b[43m    \u001b[49m\u001b[38;5;28;43mself\u001b[39;49m\u001b[43m,\u001b[49m\u001b[43m \u001b[49m\u001b[43mindexers\u001b[49m\u001b[38;5;241;43m=\u001b[39;49m\u001b[43mindexers\u001b[49m\u001b[43m,\u001b[49m\u001b[43m \u001b[49m\u001b[43mmethod\u001b[49m\u001b[38;5;241;43m=\u001b[39;49m\u001b[43mmethod\u001b[49m\u001b[43m,\u001b[49m\u001b[43m \u001b[49m\u001b[43mtolerance\u001b[49m\u001b[38;5;241;43m=\u001b[39;49m\u001b[43mtolerance\u001b[49m\n\u001b[0;32m   3127\u001b[0m \u001b[43m\u001b[49m\u001b[43m)\u001b[49m\n\u001b[0;32m   3129\u001b[0m \u001b[38;5;28;01mif\u001b[39;00m drop:\n\u001b[0;32m   3130\u001b[0m     no_scalar_variables \u001b[38;5;241m=\u001b[39m {}\n",
      "File \u001b[1;32mc:\\Users\\bkrai\\Source\\venv-python312\\Lib\\site-packages\\xarray\\core\\indexing.py:192\u001b[0m, in \u001b[0;36mmap_index_queries\u001b[1;34m(obj, indexers, method, tolerance, **indexers_kwargs)\u001b[0m\n\u001b[0;32m    190\u001b[0m         results\u001b[38;5;241m.\u001b[39mappend(IndexSelResult(labels))\n\u001b[0;32m    191\u001b[0m     \u001b[38;5;28;01melse\u001b[39;00m:\n\u001b[1;32m--> 192\u001b[0m         results\u001b[38;5;241m.\u001b[39mappend(\u001b[43mindex\u001b[49m\u001b[38;5;241;43m.\u001b[39;49m\u001b[43msel\u001b[49m\u001b[43m(\u001b[49m\u001b[43mlabels\u001b[49m\u001b[43m,\u001b[49m\u001b[43m \u001b[49m\u001b[38;5;241;43m*\u001b[39;49m\u001b[38;5;241;43m*\u001b[39;49m\u001b[43moptions\u001b[49m\u001b[43m)\u001b[49m)\n\u001b[0;32m    194\u001b[0m merged \u001b[38;5;241m=\u001b[39m merge_sel_results(results)\n\u001b[0;32m    196\u001b[0m \u001b[38;5;66;03m# drop dimension coordinates found in dimension indexers\u001b[39;00m\n\u001b[0;32m    197\u001b[0m \u001b[38;5;66;03m# (also drop multi-index if any)\u001b[39;00m\n\u001b[0;32m    198\u001b[0m \u001b[38;5;66;03m# (.sel() already ensures alignment)\u001b[39;00m\n",
      "File \u001b[1;32mc:\\Users\\bkrai\\Source\\venv-python312\\Lib\\site-packages\\xarray\\core\\indexes.py:775\u001b[0m, in \u001b[0;36mPandasIndex.sel\u001b[1;34m(self, labels, method, tolerance)\u001b[0m\n\u001b[0;32m    773\u001b[0m                 indexer \u001b[38;5;241m=\u001b[39m \u001b[38;5;28mself\u001b[39m\u001b[38;5;241m.\u001b[39mindex\u001b[38;5;241m.\u001b[39mget_loc(label_value)\n\u001b[0;32m    774\u001b[0m             \u001b[38;5;28;01mexcept\u001b[39;00m \u001b[38;5;167;01mKeyError\u001b[39;00m \u001b[38;5;28;01mas\u001b[39;00m e:\n\u001b[1;32m--> 775\u001b[0m                 \u001b[38;5;28;01mraise\u001b[39;00m \u001b[38;5;167;01mKeyError\u001b[39;00m(\n\u001b[0;32m    776\u001b[0m                     \u001b[38;5;124mf\u001b[39m\u001b[38;5;124m\"\u001b[39m\u001b[38;5;124mnot all values found in index \u001b[39m\u001b[38;5;132;01m{\u001b[39;00mcoord_name\u001b[38;5;132;01m!r}\u001b[39;00m\u001b[38;5;124m. \u001b[39m\u001b[38;5;124m\"\u001b[39m\n\u001b[0;32m    777\u001b[0m                     \u001b[38;5;124m\"\u001b[39m\u001b[38;5;124mTry setting the `method` keyword argument (example: method=\u001b[39m\u001b[38;5;124m'\u001b[39m\u001b[38;5;124mnearest\u001b[39m\u001b[38;5;124m'\u001b[39m\u001b[38;5;124m).\u001b[39m\u001b[38;5;124m\"\u001b[39m\n\u001b[0;32m    778\u001b[0m                 ) \u001b[38;5;28;01mfrom\u001b[39;00m \u001b[38;5;21;01me\u001b[39;00m\n\u001b[0;32m    780\u001b[0m \u001b[38;5;28;01melif\u001b[39;00m label_array\u001b[38;5;241m.\u001b[39mdtype\u001b[38;5;241m.\u001b[39mkind \u001b[38;5;241m==\u001b[39m \u001b[38;5;124m\"\u001b[39m\u001b[38;5;124mb\u001b[39m\u001b[38;5;124m\"\u001b[39m:\n\u001b[0;32m    781\u001b[0m     indexer \u001b[38;5;241m=\u001b[39m label_array\n",
      "\u001b[1;31mKeyError\u001b[0m: \"not all values found in index 'ohlcv_type'. Try setting the `method` keyword argument (example: method='nearest').\""
     ]
    }
   ],
   "source": [
    "halflifes = [21, 63, 126, 512]\n",
    "factor_data2 = build_dataset_with_composites(halflifes)"
   ]
  },
  {
   "cell_type": "code",
   "execution_count": null,
   "metadata": {},
   "outputs": [],
   "source": [
    "# mds_ts = (mds_ts_df(factor_data2.corr, transformation='rotate_initial', start_date='2024')\n",
    "#             .reset_index()\n",
    "#             .join(factor_master, on='asset')\n",
    "#             .assign(date = lambda df: df['date'].astype(str))\n",
    "#             # .assign(size = lambda df: df['hyper_factor'].mul(1).add(.5).astype('float'))\n",
    "#             .assign(size = lambda df: df['hyper_factor'].apply(lambda x: 10 if x == 1 else 3).astype('float'))\n",
    "#             .replace('MWTIX', 'TCW')\n",
    "#             )\n"
   ]
  },
  {
   "cell_type": "code",
   "execution_count": null,
   "metadata": {},
   "outputs": [],
   "source": [
    "def get_marker_size(ds):\n",
    "\n",
    "    # date = '2024-11-01'\n",
    "    date_latest = ds.date.max().values\n",
    "    vol_short = ds['vol'].sel(date=date_latest, vol_type=21)\n",
    "    vol_long  = ds['vol'].sel(date=date_latest, vol_type=126)\n",
    "    vol_ratio = vol_short / vol_long\n",
    "    vol_ratio.to_pandas() #.rename('vol_ratio') # .sort_values(ascending=False)\n",
    "\n",
    "    factor_master = pd.DataFrame(ds.asset.attrs).T\n",
    "\n",
    "    df = factor_master[['hyper_factor']].join(vol_ratio.to_pandas().rename('vol_ratio'))\n",
    "    # df['vol_ratio'].sort_values(ascending=False).mul(5).clip(upper=10)\n",
    "\n",
    "\n",
    "    df['marker_size'] = (df['vol_ratio'].add(1).mul(5).clip(upper=10) #, lower=1)\n",
    "                         .where(df['hyper_factor'] != 1, 15)\n",
    "                         )\n",
    "    date_prior = factor_data2.date.sel(date=slice(None, date_latest)).isel(date=-21).values\n",
    "    cret_t1 = ds['cret'].sel(date=date_latest)\n",
    "    cret_t0 = ds['cret'].sel(date=date_prior, method='nearest')\n",
    "    ret = ((cret_t1/cret_t0)-1).to_pandas()\n",
    "    \n",
    "    df['marker_symbol'] = ret.map(lambda x: 'circle' if x > 0 else 'triangle-up')\n",
    "\n",
    "    return df['marker_size'] #, 'marker_symbol']]\n",
    "# .to_frame().style\n",
    "\n",
    "# df.assign(marker_size = lambda df: df['hyper_factor'].apply(lambda x: 10 if x == 1 else 3).astype('float'))\n",
    "get_marker_size(factor_data2) #.sort_values(ascending=False).to_frame().style\n",
    "\n"
   ]
  },
  {
   "cell_type": "code",
   "execution_count": null,
   "metadata": {},
   "outputs": [],
   "source": [
    "from importlib import reload\n",
    "import corr_mds\n",
    "reload(corr_mds)\n",
    "from corr_mds import *\n",
    "\n",
    "\n",
    "\n",
    "def run_mds(ds, transformation, dates, start_date, tick_range, animate=False, drop_composites=True, drop_trump=False, **kwargs):\n",
    "    # TODO: Pass in full dataset to extract corr, factor_master, and vol (for sizing)\n",
    "    \n",
    "    # TODO: Pass in a list of dates or take all dates from the dataarray\n",
    "    # TODO: Make clear the ordering of dates (use sorted function)\n",
    "    # t0, t1, t2 = dates\n",
    "    # (t0, t1, t2) = factor_data2.date.values[[-1, -21-1, -63-1]]\n",
    "\n",
    "    \n",
    "    transformation_type = {None:             'No rotation', \n",
    "                           'rotate':         'Rotate SPY to x-axis each day', \n",
    "                           'normalize':      'SPY transformed to (1, 0)',\n",
    "                           'rotate_initial': '' #'Rotate SPY to x-axis today'\n",
    "                           }\n",
    "\n",
    "    factor_master = pd.DataFrame(ds.asset.attrs).T\n",
    "    \n",
    "    marker_size = get_marker_size(ds) #.rename('size')\n",
    "    \n",
    "    mds_ts = (mds_ts_df(ds.corr, transformation=transformation, start_date=start_date, **kwargs)\n",
    "                .reset_index()\n",
    "                .join(factor_master, on='asset')\n",
    "                .assign(date = lambda df: df['date'].astype(str))\n",
    "                # .assign(size = lambda df: df['hyper_factor'].mul(1).add(.5).astype('float'))\n",
    "                # .assign(size = lambda df: df['hyper_factor'].apply(lambda x: 10 if x == 1 else 3).astype('float'))\n",
    "                # .assign(size = lamdba df: marker_size)\n",
    "                .join(marker_size, on='asset')\n",
    "                .replace('MWTIX', 'TCW')\n",
    "                )\n",
    "    \n",
    "    if drop_composites:\n",
    "        mds_ts = mds_ts.query('composite == 0')\n",
    "\n",
    "    if drop_trump:\n",
    "        mds_ts = mds_ts.query('asset != \"TRUMP\"')\n",
    "    \n",
    "    if animate:\n",
    "        fig = draw_mds_ts(mds_ts, tick_range=tick_range)\n",
    "        fig.update_traces(textfont_color = 'lightgray')\n",
    "    \n",
    "    else:\n",
    "        # print(dates)\n",
    "        # print(dates[0])\n",
    "        mds_latest = mds_ts[mds_ts['date'] == dates[0]].drop(columns='date')\n",
    "        fig = draw_mds_ts(mds_latest, tick_range=tick_range)\n",
    "        \n",
    "        for i in range(len(dates) - 1):\n",
    "            fig = add_whiskers(fig, mds_ts, dates[i], dates[i + 1])\n",
    "        # fig = add_whiskers(fig, mds_ts, t0, t1)\n",
    "        # fig = add_whiskers(fig, mds_ts, t1, t2)\n",
    "        fig.update_layout(legend_title_text=None, title=f'{transformation_type[transformation]}')\n",
    "        \n",
    "                \n",
    "        def get_trace_color(trace, legendgroup):\n",
    "            return trace.marker.color if trace.legendgroup in legendgroup else 'lightgray'\n",
    "        \n",
    "        \n",
    "        asset_class_list = ['Theme', 'Portfolio']\n",
    "        fig.for_each_trace(lambda t: t.update(textfont_color = get_trace_color(t, asset_class_list)))\n",
    "    \n",
    "    # r = sqrt(2)/2\n",
    "    # r = 0.8\n",
    "    # fig.add_shape(\n",
    "    #     type=\"circle\",\n",
    "    #     xref=\"x\", yref=\"y\",\n",
    "    #     x0=-r, y0=-r, x1=r, y1=r,\n",
    "    #     line_color='lightgray', line_width=.5,\n",
    "    #     )\n",
    "    \n",
    "    return fig\n",
    "\n",
    "# mds_previous = mds_ts[mds_ts['date'] == t1].drop(columns='date')\n",
    "# fig_previous = (draw_mds_ts(mds_previous, tick_range=1.5)\n",
    "#                 .update_traces(text=None,  opacity=0.3) # marker_size=5,\n",
    "#                 .update_layout(showlegend=False))\n",
    "# for trace in fig_previous.data:\n",
    "#     trace.showlegend = False\n",
    "#     fig.add_trace(trace)\n",
    "\n",
    "# for trace in fig.data:\n",
    "#     if trace.mode == 'lines':\n",
    "#         for marker_trace in fig.data:\n",
    "#             if marker_trace.mode == 'markers+text' and marker_trace.name == trace.legendgroup:\n",
    "#                 trace.update(line=dict(color=marker_trace.marker.color))\n",
    "#                 break\n"
   ]
  },
  {
   "cell_type": "code",
   "execution_count": null,
   "metadata": {},
   "outputs": [],
   "source": [
    "# color_dict = {a: b for a, b in zip(factor_master.asset_class.unique(), color_sequence)}\n",
    "# color_dict['Portfolio'] = 'black'\n",
    "# color_dict['Composite'] = 'darkred'\n",
    "# color_dict\n"
   ]
  },
  {
   "cell_type": "code",
   "execution_count": null,
   "metadata": {},
   "outputs": [],
   "source": [
    "# import plotly.io as pio\n",
    "# color_sequence = pio.templates['plotly_white']['layout']['colorway']\n",
    "# color_sequence\n",
    "# # pio.templates"
   ]
  },
  {
   "cell_type": "code",
   "execution_count": null,
   "metadata": {},
   "outputs": [],
   "source": [
    "\n",
    "# sorted(dates_t1, reverse=True)"
   ]
  },
  {
   "cell_type": "code",
   "execution_count": null,
   "metadata": {},
   "outputs": [],
   "source": [
    "# dates_t1.sort()\n",
    "# dates_t1.sort(reverse=True)\n",
    "# dates_t1"
   ]
  },
  {
   "cell_type": "code",
   "execution_count": null,
   "metadata": {},
   "outputs": [],
   "source": [
    "from importlib import reload\n",
    "import corr_mds\n",
    "reload(corr_mds)\n",
    "from corr_mds import *\n",
    "\n",
    "# TODO: Do the args work?!\n",
    "\n",
    "args = {'random_state': 42, \n",
    "        'n_init': 100}\n",
    "\n",
    "dates_t1 = ['2024-11-20', '2024-10-18', '2024-08-16', '2024-01-05']\n",
    "dates_t1 = ['2024-12-11', '2024-10-18', '2024-08-16', '2024-01-05']\n",
    "dates_t0 = ['2024-10-31', '2024-09-30', '2024-08-30']\n",
    "\n",
    "# TCW as of 2024-10-31\n",
    "# TCW + 3 themes as of 2024-10-31\n",
    "# TCW + 3 themes + trump as of 2024-11-18\n",
    "\n",
    "fig = (run_mds(factor_data2, \n",
    "               transformation='rotate_initial', \n",
    "               dates=dates_t0,\n",
    "               start_date='2024', \n",
    "               tick_range=1,\n",
    "               drop_composites=True,\n",
    "               drop_trump=True,\n",
    "               **args)\n",
    "    #    .update_layout(title=f\"random_state={args['random_state']}, n_init={args['n_init']}\")\n",
    "       )\n",
    "fig.show(renderer='png')\n",
    "fig.write_image('corr_tcw.png')\n",
    "\n",
    "fig = (run_mds(factor_data2, \n",
    "               transformation='rotate_initial', \n",
    "               dates=dates_t0,\n",
    "               start_date='2024', \n",
    "               tick_range=1,\n",
    "               drop_composites=False,\n",
    "               drop_trump=True,\n",
    "               **args)\n",
    "    #    .update_layout(title=f\"random_state={args['random_state']}, n_init={args['n_init']}\")\n",
    "       )\n",
    "fig.show(renderer='png')\n",
    "fig.write_image('corr_theme.png')\n",
    "\n",
    "fig = (run_mds(factor_data2, \n",
    "               transformation='rotate_initial', \n",
    "               dates=dates_t1,\n",
    "               start_date='2024', \n",
    "               tick_range=1,\n",
    "               drop_composites=False,\n",
    "               drop_trump=False,\n",
    "               **args)\n",
    "    #    .update_layout(title=f\"random_state={args['random_state']}, n_init={args['n_init']}\")\n",
    "       )\n",
    "fig.show(renderer='png')\n",
    "fig.write_image('corr_trump.png')\n",
    "\n",
    "\n"
   ]
  },
  {
   "cell_type": "code",
   "execution_count": null,
   "metadata": {},
   "outputs": [],
   "source": [
    "# fig.for_each_trace(lambda t: t.update(textfont_color = t.marker.color if t.marker.size == 10 else 'lightgray'))\n",
    "# fig.show(renderer='png')"
   ]
  },
  {
   "cell_type": "code",
   "execution_count": null,
   "metadata": {},
   "outputs": [],
   "source": [
    "# fig.for_each_trace(lambda t: print(t.marker.size if t.marker.size is not None else None))"
   ]
  },
  {
   "cell_type": "code",
   "execution_count": null,
   "metadata": {},
   "outputs": [],
   "source": [
    "# fig.for_each_trace(lambda t: t.update(textfont_color = (t.marker.color if t.legendgroup in ['Theme', 'Portfolio'] else 'lightgray'))) # t.legendgroup\n",
    "# # fig.for_each_trace(lambda t: print(t.legendgroup, t.marker.color)) # t.legendgroup\n",
    "# fig.update_layout(title='')\n",
    "# fig.show(renderer='png')\n"
   ]
  },
  {
   "cell_type": "code",
   "execution_count": null,
   "metadata": {},
   "outputs": [],
   "source": [
    "factor_data2.date.sel(date=slice('2020', None)).values"
   ]
  },
  {
   "cell_type": "code",
   "execution_count": null,
   "metadata": {},
   "outputs": [],
   "source": [
    "args = {'random_state': 42, \n",
    "        'n_init': 100}\n",
    "\n",
    "# dates_t1 = ['2024-11-20', '2024-10-18', '2024-08-16']\n",
    "# dates_t0 = ['2024-10-31', '2024-09-30', '2024-08-30']\n",
    "\n",
    "dates_t1 = ['2024-11-20', '2024-10-18', '2024-08-16', '2024-01-05']\n",
    "dates_t1 = ['2024-12-11', '2024-10-18', '2024-08-16', '2024-01-05']\n",
    "dates_t0 = ['2024-10-31', '2024-09-30', '2024-08-30']\n",
    "dates = factor_data2.date.sel(date=slice('2020', None)).values\n",
    "\n",
    "\n",
    "fig = (run_mds(factor_data2.resample(date='W').last(), \n",
    "               transformation='rotate_initial', \n",
    "               dates=dates,\n",
    "               start_date='2020', \n",
    "               tick_range=1,\n",
    "               animate=True,\n",
    "               drop_composites=True,\n",
    "               drop_trump=False,\n",
    "               **args)\n",
    "    #    .update_layout(title=f\"random_state={args['random_state']}, n_init={args['n_init']}\")\n",
    "       )\n",
    "fig.show()\n",
    "# fig.write_html('corr_animation.html')"
   ]
  },
  {
   "cell_type": "code",
   "execution_count": null,
   "metadata": {},
   "outputs": [],
   "source": [
    "# factor_data2.corr.sel(date='2024-11-18', corr_type=63).to_pandas().style"
   ]
  },
  {
   "cell_type": "code",
   "execution_count": null,
   "metadata": {},
   "outputs": [],
   "source": [
    "# reload(corr_mds)\n",
    "# run_mds(factor_data2.corr, transformation=None, start_date='2004', tick_range='auto').show(renderer='png')\n",
    "# run_mds(factor_data2.corr, transformation='rotate', start_date='2004', tick_range='auto').show(renderer='png')\n",
    "# run_mds(factor_data2.corr, transformation='rotate_initial', start_date='2004', tick_range='auto').show(renderer='png')\n",
    "# # run_mds(factor_data2.corr, transformation='normalize', start_date='2004', tick_range='auto').show(renderer='png')\n",
    "# # run_mds(factor_data2.corr, transformation='rotate_list', start_date='2004', tick_range='auto').show(renderer='png')\n",
    "# # run_mds(factor_data2.corr, transformation='normalize', start_date='2004', tick_range=1).show(renderer='png')\n",
    "# # fig.show(renderer='png')\n"
   ]
  },
  {
   "cell_type": "markdown",
   "metadata": {},
   "source": [
    "# Market Feedback"
   ]
  },
  {
   "cell_type": "code",
   "execution_count": null,
   "metadata": {},
   "outputs": [],
   "source": [
    "factor_data2.cret.sel(asset='ICLN').plot()"
   ]
  },
  {
   "cell_type": "code",
   "execution_count": null,
   "metadata": {},
   "outputs": [],
   "source": [
    "xr_pct_change(factor_data2.cret.sel(asset='ICLN'), dim='date', periods=21)\n",
    "\n",
    "factor_data2.cret.sel(asset='ICLN', date=slice('2024-9-14', None)).plot()"
   ]
  },
  {
   "cell_type": "code",
   "execution_count": null,
   "metadata": {},
   "outputs": [],
   "source": [
    "def accumulate(da_ret, t0, t1, dim='date'):\n",
    "    # return (da_ret.sel(date=slice(t0, t1))+1).cumprod('date')-1\n",
    "    return (da_ret.sel({dim: slice(t0, t1)})+1).cumprod(dim) #-1\n",
    "\n",
    "t0 = '2024-10-14'\n",
    "t1 = '2024-11-14'\n",
    "\n",
    "accumulate(factor_data2.ret, t0, t1).to_pandas()\n",
    "\n",
    "\n",
    "# ((ds1.ret+1).cumprod('date')-1).to_pandas().sort_index(ascending=False).to_clipboard()"
   ]
  },
  {
   "cell_type": "code",
   "execution_count": null,
   "metadata": {},
   "outputs": [],
   "source": [
    "from util import xr_pct_change\n",
    "\n",
    "date_latest = pd.to_datetime(factor_data2.date.max().item())\n",
    "date_latest = '2024-11-14'\n",
    "vol_type = 63\n",
    "\n",
    "vol = factor_data2.vol.sel(date=date_latest, vol_type=vol_type).to_series()\n",
    "# ret = factor_data.ret.sel(date=date_latest).to_series()\n",
    "ret = xr_pct_change(factor_data2.cret, dim='date', periods=21).sel(date=date_latest).to_series().rename('ret').mul(100)\n",
    "factor_master = pd.DataFrame(factor_data2.asset.attrs).T\n",
    "\n",
    "df = pd.concat([ret, vol, factor_master], axis=1).reset_index()\n",
    "\n",
    "fig_format = {'template': 'plotly_white', 'height': 750, 'width': 750}\n",
    "fig = (px.scatter(df, x='vol', y='ret', color='asset_class', text='index', **fig_format)\n",
    "       .update_traces(textposition='middle right', \n",
    "                      textfont_color='lightgray')\n",
    "       .update_layout(# xaxis_title=None,\n",
    "                      # yaxis_title=None,\n",
    "                      # xaxis_showticklabels=False,\n",
    "                      # yaxis_showticklabels=False,\n",
    "                      # xaxis_showgrid=False,\n",
    "                      # yaxis_showgrid=False,\n",
    "                      xaxis_showline=False,\n",
    "                      yaxis_showline=False,\n",
    "                      legend_title_text=None,\n",
    "                      )\n",
    "       )\n",
    "\n",
    "# fig.show(renderer='png')\n",
    "fig.show()"
   ]
  },
  {
   "cell_type": "code",
   "execution_count": null,
   "metadata": {},
   "outputs": [],
   "source": [
    "factor_data2['cret'].to_pandas()['SPY'].plot()"
   ]
  },
  {
   "cell_type": "code",
   "execution_count": null,
   "metadata": {},
   "outputs": [],
   "source": [
    "\n",
    "# ds1 = factor_data2.sel(asset='SPY')\n",
    "# ds1.ret.to_pandas().sort_index(ascending=False).to_clipboard()\n",
    "# ((ds1.ret+1).cumprod('date')-1).to_pandas().sort_index(ascending=False).to_clipboard()\n",
    "# xr_pct_change(((ds1.ret+1).cumprod('date')-1), dim='date', periods=1).to_pandas().sort_index(ascending=False).to_clipboard()\n",
    "\n",
    "# # xr_pct_change(((factor_data2.ret.sel(asset='SPY')+1).cumprod('date')-1), dim='date', periods=1).to_pandas().to_clipboard()"
   ]
  },
  {
   "cell_type": "markdown",
   "metadata": {},
   "source": [
    "# Scale by vol"
   ]
  },
  {
   "cell_type": "code",
   "execution_count": null,
   "metadata": {},
   "outputs": [],
   "source": [
    "# factor_data2['vol']."
   ]
  },
  {
   "cell_type": "code",
   "execution_count": null,
   "metadata": {},
   "outputs": [],
   "source": [
    "def get_vol_ratio(vol, vol_type_short_term, vol_type_long_term):\n",
    "    vol_short = vol.sel(vol_type=vol_type_short_term)\n",
    "    vol_long = vol.sel(vol_type=vol_type_long_term)\n",
    "    vol_ratio = vol_short / vol_long\n",
    "    return vol_ratio"
   ]
  },
  {
   "cell_type": "code",
   "execution_count": null,
   "metadata": {},
   "outputs": [],
   "source": [
    "get_marker_size(ds, )\n",
    ".assign(size = lambda df: df['hyper_factor'].apply(lambda x: 10 if x == 1 else 3).astype('float'))"
   ]
  },
  {
   "cell_type": "code",
   "execution_count": null,
   "metadata": {},
   "outputs": [],
   "source": [
    "get_marker_size(factor_data2)"
   ]
  },
  {
   "cell_type": "markdown",
   "metadata": {},
   "source": [
    "# Cum Ret"
   ]
  },
  {
   "cell_type": "code",
   "execution_count": null,
   "metadata": {},
   "outputs": [],
   "source": [
    "from data import *\n",
    "\n",
    "factor_master = get_factor_master(sheet_name='read')\n",
    "asset_list = factor_master.loc[factor_master['composite'] == 0].index.to_list()\n",
    "asset_data = get_yf_returns(asset_list)\n",
    "asset_ret = asset_data['ret'].to_pandas()\n",
    "\n",
    "portfolios_weights = get_portfolios().pipe(safe_reindex, factor_master).fillna(0).loc[asset_list]  \n",
    "portfolios_ret = asset_ret @ portfolios_weights\n",
    "\n",
    "factor_data = xr.Dataset()\n",
    "factor_data['ret'] = pd.concat([asset_ret, portfolios_ret], axis=1).rename_axis(columns='asset')\n",
    "# factor_data['ret'] = (pd.concat([asset_ret['MWTIX'], portfolios_ret, asset_ret.drop(columns=['MWTIX'])], axis=1).rename_axis(columns='asset'))\n",
    "factor_data['vol']   = get_volatility_set(factor_data['ret'], halflifes)\n",
    "factor_data['corr']  = get_correlation_set(factor_data['ret'], halflifes)\n",
    "factor_data['cret']  = cumulate_returns(factor_data['ret'])\n",
    "\n",
    "factor_data['asset'].attrs = factor_master.T.to_dict()\n"
   ]
  },
  {
   "cell_type": "code",
   "execution_count": null,
   "metadata": {},
   "outputs": [],
   "source": [
    "# factor_data['ret'].cumsum(dim='date')\n",
    "factor_data['ret'].cumsum(dim='date', skipna=True).to_pandas().to_clipboard()"
   ]
  },
  {
   "cell_type": "code",
   "execution_count": null,
   "metadata": {},
   "outputs": [],
   "source": [
    "(factor_data['ret']\n",
    " .cumsum(dim='date')\n",
    " .where(~factor_data['ret'].isnull(), np.nan)\n",
    " .ffill(dim='date')\n",
    " .to_pandas().to_clipboard()\n",
    " )"
   ]
  }
 ],
 "metadata": {
  "kernelspec": {
   "display_name": "venv-python312",
   "language": "python",
   "name": "python3"
  },
  "language_info": {
   "codemirror_mode": {
    "name": "ipython",
    "version": 3
   },
   "file_extension": ".py",
   "mimetype": "text/x-python",
   "name": "python",
   "nbconvert_exporter": "python",
   "pygments_lexer": "ipython3",
   "version": "3.12.4"
  }
 },
 "nbformat": 4,
 "nbformat_minor": 2
}
