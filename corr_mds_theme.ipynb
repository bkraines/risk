{
 "cells": [
  {
   "cell_type": "code",
   "execution_count": 1,
   "metadata": {},
   "outputs": [],
   "source": [
    "import pandas as pd\n",
    "\n",
    "from risk_data import get_factor_data, get_factor_master\n",
    "from risk_chart import px_write\n",
    "\n",
    "from risk_corr_mds import *"
   ]
  },
  {
   "cell_type": "code",
   "execution_count": null,
   "metadata": {},
   "outputs": [],
   "source": [
    "from importlib import reload\n",
    "import risk_lib.corr_mds\n",
    "reload(risk_lib.corr_mds)\n",
    "from risk_corr_mds import *"
   ]
  },
  {
   "cell_type": "code",
   "execution_count": null,
   "metadata": {},
   "outputs": [],
   "source": [
    "# TODO: Try diagonal and uniform correlations (totally uncorrelated and correlated) (think about the circle)\n",
    "# TODO: Make sure we're finding global minimum\n",
    "# TODO: With and without portfolio\n",
    "# TODO: Paramters - factors, dates, correlation\n",
    "# TODO: Remove first principal component... make it beta neutral"
   ]
  },
  {
   "cell_type": "code",
   "execution_count": null,
   "metadata": {},
   "outputs": [],
   "source": [
    "halflifes = [21, 63, 126, 252]\n",
    "factor_data = get_factor_data(factor_set='read') #, check=is_data_stale)\n",
    "build_factor_data"
   ]
  },
  {
   "cell_type": "code",
   "execution_count": 5,
   "metadata": {},
   "outputs": [
    {
     "data": {
      "text/plain": [
       "True"
      ]
     },
     "execution_count": 5,
     "metadata": {},
     "output_type": "execute_result"
    }
   ],
   "source": [
    "factor_master = get_factor_master()\n",
    "factor_master.query('source==composite').index.empty"
   ]
  },
  {
   "cell_type": "code",
   "execution_count": null,
   "metadata": {},
   "outputs": [],
   "source": [
    "# TODO: Do the args work?!\n",
    "\n",
    "args = {'random_state': 42, \n",
    "        'n_init': 100}\n",
    "\n",
    "dates_t1 = ['2024-11-20', '2024-10-18', '2024-08-16', '2024-01-05']\n",
    "dates_t1 = ['2024-12-11', '2024-10-18', '2024-08-16', '2024-01-05']\n",
    "dates_t0 = ['2024-10-31', '2024-09-30', '2024-08-30']\n",
    "\n",
    "# TCW as of 2024-10-31\n",
    "# TCW + 3 themes as of 2024-10-31\n",
    "# TCW + 3 themes + trump as of 2024-11-18\n",
    "\n",
    "fig = (run_mds(factor_data, \n",
    "               transformation='rotate_initial', \n",
    "               dates=dates_t0,\n",
    "               start_date='2024', \n",
    "               tick_range=1,\n",
    "               drop_composites=True,\n",
    "               drop_trump=True,\n",
    "               **args)\n",
    "    #    .update_layout(title=f\"random_state={args['random_state']}, n_init={args['n_init']}\")\n",
    "       )\n",
    "fig.show(renderer='png')\n",
    "# fig.write_image('corr_tcw.png')\n",
    "px_write(fig, 'corr_tcw.png')\n",
    "\n",
    "\n",
    "fig = (run_mds(factor_data, \n",
    "               transformation='rotate_initial', \n",
    "               dates=dates_t0,\n",
    "               start_date='2024', \n",
    "               tick_range=1,\n",
    "               drop_composites=False,\n",
    "               drop_trump=True,\n",
    "               **args)\n",
    "    #    .update_layout(title=f\"random_state={args['random_state']}, n_init={args['n_init']}\")\n",
    "       )\n",
    "fig.show(renderer='png')\n",
    "# fig.write_image('corr_theme.png')\n",
    "px_write(fig, 'corr_theme.png')\n",
    "\n",
    "fig = (run_mds(factor_data, \n",
    "               transformation='rotate_initial', \n",
    "               dates=dates_t1,\n",
    "               start_date='2024', \n",
    "               tick_range=1,\n",
    "               drop_composites=False,\n",
    "               drop_trump=False,\n",
    "               **args)\n",
    "    #    .update_layout(title=f\"random_state={args['random_state']}, n_init={args['n_init']}\")\n",
    "       )\n",
    "fig.show(renderer='png')\n",
    "# fig.write_image('corr_trump.png')\n",
    "px_write(fig, 'corr_trump.png')\n",
    "\n",
    "\n"
   ]
  },
  {
   "cell_type": "code",
   "execution_count": null,
   "metadata": {},
   "outputs": [],
   "source": [
    "\n",
    "# TODO: Do the args work?!\n",
    "\n",
    "args = {'random_state': 42, \n",
    "        'n_init': 100}\n",
    "\n",
    "dates_t1 = ['2024-11-20', '2024-10-18', '2024-08-16', '2024-01-05']\n",
    "dates_t1 = ['2024-12-11', '2024-10-18', '2024-08-16', '2024-01-05']\n",
    "dates_t0 = ['2024-10-31', '2024-09-30', '2024-08-30']\n",
    "\n",
    "# TCW as of 2024-10-31\n",
    "# TCW + 3 themes as of 2024-10-31\n",
    "# TCW + 3 themes + trump as of 2024-11-18\n",
    "\n",
    "fig = (run_mds(factor_data, \n",
    "               transformation='rotate_initial', \n",
    "               dates=dates_t0,\n",
    "               start_date='2024', \n",
    "               tick_range=1,\n",
    "               drop_composites=True,\n",
    "               drop_trump=True,\n",
    "               **args)\n",
    "    #    .update_layout(title=f\"random_state={args['random_state']}, n_init={args['n_init']}\")\n",
    "       )\n",
    "fig.show(renderer='png')\n",
    "# fig.write_image('corr_tcw.png')\n",
    "px_write(fig, 'corr_tcw.png')\n",
    "\n",
    "\n",
    "fig = (run_mds(factor_data, \n",
    "               transformation='rotate_initial', \n",
    "               dates=dates_t0,\n",
    "               start_date='2024', \n",
    "               tick_range=1,\n",
    "               drop_composites=False,\n",
    "               drop_trump=True,\n",
    "               **args)\n",
    "    #    .update_layout(title=f\"random_state={args['random_state']}, n_init={args['n_init']}\")\n",
    "       )\n",
    "fig.show(renderer='png')\n",
    "# fig.write_image('corr_theme.png')\n",
    "px_write(fig, 'corr_theme.png')\n",
    "\n",
    "fig = (run_mds(factor_data, \n",
    "               transformation='rotate_initial', \n",
    "               dates=dates_t1,\n",
    "               start_date='2024', \n",
    "               tick_range=1,\n",
    "               drop_composites=False,\n",
    "               drop_trump=False,\n",
    "               **args)\n",
    "    #    .update_layout(title=f\"random_state={args['random_state']}, n_init={args['n_init']}\")\n",
    "       )\n",
    "fig.show(renderer='png')\n",
    "# fig.write_image('corr_trump.png')\n",
    "px_write(fig, 'corr_trump.png')\n",
    "\n",
    "\n"
   ]
  },
  {
   "cell_type": "code",
   "execution_count": null,
   "metadata": {},
   "outputs": [],
   "source": [
    "factor_data.date.sel(date=slice('2020', None)).values"
   ]
  },
  {
   "cell_type": "code",
   "execution_count": null,
   "metadata": {},
   "outputs": [],
   "source": [
    "args = {'random_state': 42, \n",
    "        'n_init': 100}\n",
    "\n",
    "# dates_t1 = ['2024-11-20', '2024-10-18', '2024-08-16']\n",
    "# dates_t0 = ['2024-10-31', '2024-09-30', '2024-08-30']\n",
    "\n",
    "dates_t1 = ['2024-11-20', '2024-10-18', '2024-08-16', '2024-01-05']\n",
    "dates_t1 = ['2024-12-11', '2024-10-18', '2024-08-16', '2024-01-05']\n",
    "dates_t0 = ['2024-10-31', '2024-09-30', '2024-08-30']\n",
    "dates = factor_data.date.sel(date=slice('2020', None)).values\n",
    "\n",
    "\n",
    "fig = (run_mds(factor_data.resample(date='W').last(), \n",
    "               transformation='rotate_initial', \n",
    "               dates=dates,\n",
    "               start_date='2020', \n",
    "               tick_range=1,\n",
    "               animate=True,\n",
    "               drop_composites=True,\n",
    "               drop_trump=False,\n",
    "               **args)\n",
    "    #    .update_layout(title=f\"random_state={args['random_state']}, n_init={args['n_init']}\")\n",
    "       )\n",
    "fig.show()\n",
    "# fig.write_html('corr_animation.html')"
   ]
  },
  {
   "cell_type": "code",
   "execution_count": null,
   "metadata": {},
   "outputs": [],
   "source": [
    "# reload(corr_mds)\n",
    "# run_mds(factor_data.corr, transformation=None, start_date='2004', tick_range='auto').show(renderer='png')\n",
    "# run_mds(factor_data.corr, transformation='rotate', start_date='2004', tick_range='auto').show(renderer='png')\n",
    "# run_mds(factor_data.corr, transformation='rotate_initial', start_date='2004', tick_range='auto').show(renderer='png')\n",
    "# # run_mds(factor_data.corr, transformation='normalize', start_date='2004', tick_range='auto').show(renderer='png')\n",
    "# # run_mds(factor_data.corr, transformation='rotate_list', start_date='2004', tick_range='auto').show(renderer='png')\n",
    "# # run_mds(factor_data.corr, transformation='normalize', start_date='2004', tick_range=1).show(renderer='png')\n",
    "# # fig.show(renderer='png')\n"
   ]
  }
 ],
 "metadata": {
  "kernelspec": {
   "display_name": "venv-bklm",
   "language": "python",
   "name": "python3"
  },
  "language_info": {
   "codemirror_mode": {
    "name": "ipython",
    "version": 3
   },
   "file_extension": ".py",
   "mimetype": "text/x-python",
   "name": "python",
   "nbconvert_exporter": "python",
   "pygments_lexer": "ipython3",
   "version": "3.11.9"
  }
 },
 "nbformat": 4,
 "nbformat_minor": 2
}
