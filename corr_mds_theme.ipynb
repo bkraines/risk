{
 "cells": [
  {
   "cell_type": "code",
   "execution_count": 1,
   "metadata": {},
   "outputs": [],
   "source": [
    "# TODO: Try diagonal and uniform correlations (totally uncorrelated and correlated) (think about the circle)\n",
    "# TODO: Make sure we're finding global minimum\n",
    "# TODO: With and without portfolio\n",
    "# TODO: Paramters - factors, dates, correlation\n",
    "\n",
    "# TODO: Remove first principal component... make it beta neutral"
   ]
  },
  {
   "cell_type": "code",
   "execution_count": 2,
   "metadata": {},
   "outputs": [],
   "source": [
    "from typing import Optional, List\n",
    "from importlib import reload\n",
    "\n",
    "import pandas as pd\n",
    "\n",
    "from data import build_dataset_with_composites #, get_yf_returns, get_factor_master, get_portfolios, get_factor_data, get_yf_data, cumulate_returns\n",
    "# from stats import get_volatility_set, get_correlation_set\n",
    "from util import xr_pct_change #, safe_reindex\n",
    "\n",
    "from corr_mds import *"
   ]
  },
  {
   "cell_type": "code",
   "execution_count": 3,
   "metadata": {},
   "outputs": [],
   "source": [
    "from importlib import reload\n",
    "import corr_mds\n",
    "reload(corr_mds)\n",
    "from corr_mds import *"
   ]
  },
  {
   "cell_type": "code",
   "execution_count": 4,
   "metadata": {},
   "outputs": [],
   "source": [
    "# # def get_factor_data_port(halflifes: Optional[List[int]] = None) -> xr.Dataset:\n",
    "# # if halflifes == None:\n",
    "# #     halflifes = [21, 63, 126, 252, 512]\n",
    "\n",
    "# factor_master = get_factor_master(sheet_name='read')\n",
    "# asset_list = factor_master.loc[factor_master['composite'] == 0].index.to_list()\n",
    "# portfolios = get_portfolios().pipe(safe_reindex, factor_master).fillna(0).loc[asset_list]\n"
   ]
  },
  {
   "cell_type": "code",
   "execution_count": 5,
   "metadata": {},
   "outputs": [],
   "source": [
    "# def build_dataset_with_composites(halflifes: List[int]) -> xr.Dataset:\n",
    "#     # Here `assets` refer to factors built from single security (basis vectors)\n",
    "#     # Here `portfolios` refer to factors built from `assets`\n",
    "    \n",
    "#     factor_master = get_factor_master(sheet_name='read')\n",
    "#     asset_list = factor_master.loc[factor_master['composite'] == 0].index.to_list()\n",
    "#     asset_data = get_yf_returns(asset_list)\n",
    "#     asset_ret = asset_data['ret'].to_pandas()\n",
    "    \n",
    "#     portfolios_weights = get_portfolios().pipe(safe_reindex, factor_master).fillna(0).loc[asset_list]  \n",
    "#     portfolios_ret = asset_ret @ portfolios_weights\n",
    "\n",
    "#     factor_data = xr.Dataset()\n",
    "#     factor_data['ret'] = pd.concat([asset_ret, portfolios_ret], axis=1).rename_axis(columns='asset')\n",
    "#     # factor_data['ret'] = (pd.concat([asset_ret['MWTIX'], portfolios_ret, asset_ret.drop(columns=['MWTIX'])], axis=1).rename_axis(columns='asset'))\n",
    "#     factor_data['vol']   = get_volatility_set(factor_data['ret'], halflifes)\n",
    "#     factor_data['corr']  = get_correlation_set(factor_data['ret'], halflifes)\n",
    "#     factor_data['cret']  = factor_data['ret'].cumsum(dim='date')\n",
    "\n",
    "#     factor_data['asset'].attrs = factor_master.T.to_dict()\n",
    "\n",
    "#     return factor_data"
   ]
  },
  {
   "cell_type": "code",
   "execution_count": null,
   "metadata": {},
   "outputs": [],
   "source": [
    "halflifes = [21, 63, 126, 512]\n",
    "factor_data2 = build_dataset_with_composites(halflifes)"
   ]
  },
  {
   "cell_type": "code",
   "execution_count": 7,
   "metadata": {},
   "outputs": [],
   "source": [
    "# mds_ts = (mds_ts_df(factor_data2.corr, transformation='rotate_initial', start_date='2024')\n",
    "#             .reset_index()\n",
    "#             .join(factor_master, on='asset')\n",
    "#             .assign(date = lambda df: df['date'].astype(str))\n",
    "#             # .assign(size = lambda df: df['hyper_factor'].mul(1).add(.5).astype('float'))\n",
    "#             .assign(size = lambda df: df['hyper_factor'].apply(lambda x: 10 if x == 1 else 3).astype('float'))\n",
    "#             .replace('MWTIX', 'TCW')\n",
    "#             )\n"
   ]
  },
  {
   "cell_type": "code",
   "execution_count": null,
   "metadata": {},
   "outputs": [],
   "source": [
    "def get_marker_size(ds):\n",
    "\n",
    "    # date = '2024-11-01'\n",
    "    date_latest = ds.date.max().values\n",
    "    vol_short = ds['vol'].sel(date=date_latest, vol_type=21)\n",
    "    vol_long  = ds['vol'].sel(date=date_latest, vol_type=126)\n",
    "    vol_ratio = vol_short / vol_long\n",
    "    vol_ratio.to_pandas() #.rename('vol_ratio') # .sort_values(ascending=False)\n",
    "\n",
    "    factor_master = pd.DataFrame(ds.asset.attrs).T\n",
    "\n",
    "    df = factor_master[['hyper_factor']].join(vol_ratio.to_pandas().rename('vol_ratio'))\n",
    "    # df['vol_ratio'].sort_values(ascending=False).mul(5).clip(upper=10)\n",
    "\n",
    "\n",
    "    df['marker_size'] = (df['vol_ratio'].add(1).mul(5).clip(upper=10) #, lower=1)\n",
    "                         .where(df['hyper_factor'] != 1, 15)\n",
    "                         )\n",
    "    date_prior = factor_data2.date.sel(date=slice(None, date_latest)).isel(date=-21).values\n",
    "    cret_t1 = ds['cret'].sel(date=date_latest)\n",
    "    cret_t0 = ds['cret'].sel(date=date_prior, method='nearest')\n",
    "    ret = ((cret_t1/cret_t0)-1).to_pandas()\n",
    "    \n",
    "    df['marker_symbol'] = ret.map(lambda x: 'circle' if x > 0 else 'triangle-up')\n",
    "\n",
    "    return df['marker_size'] #, 'marker_symbol']]\n",
    "# .to_frame().style\n",
    "\n",
    "# df.assign(marker_size = lambda df: df['hyper_factor'].apply(lambda x: 10 if x == 1 else 3).astype('float'))\n",
    "get_marker_size(factor_data2) #.sort_values(ascending=False).to_frame().style\n",
    "\n"
   ]
  },
  {
   "cell_type": "code",
   "execution_count": 13,
   "metadata": {},
   "outputs": [],
   "source": [
    "from importlib import reload\n",
    "import corr_mds\n",
    "reload(corr_mds)\n",
    "from corr_mds import *\n",
    "\n",
    "\n",
    "\n",
    "def run_mds(ds, transformation, dates, start_date, tick_range, animate=False, drop_composites=True, drop_trump=False, **kwargs):\n",
    "    # TODO: Pass in full dataset to extract corr, factor_master, and vol (for sizing)\n",
    "    \n",
    "    # TODO: Pass in a list of dates or take all dates from the dataarray\n",
    "    # TODO: Make clear the ordering of dates (use sorted function)\n",
    "    # t0, t1, t2 = dates\n",
    "    # (t0, t1, t2) = factor_data2.date.values[[-1, -21-1, -63-1]]\n",
    "\n",
    "    \n",
    "    transformation_type = {None:             'No rotation', \n",
    "                           'rotate':         'Rotate SPY to x-axis each day', \n",
    "                           'normalize':      'SPY transformed to (1, 0)',\n",
    "                           'rotate_initial': '' #'Rotate SPY to x-axis today'\n",
    "                           }\n",
    "\n",
    "    factor_master = pd.DataFrame(ds.asset.attrs).T\n",
    "    \n",
    "    marker_size = get_marker_size(ds) #.rename('size')\n",
    "    \n",
    "    mds_ts = (mds_ts_df(ds.corr, transformation=transformation, start_date=start_date, **kwargs)\n",
    "                .reset_index()\n",
    "                .join(factor_master, on='asset')\n",
    "                .assign(date = lambda df: df['date'].astype(str))\n",
    "                # .assign(size = lambda df: df['hyper_factor'].mul(1).add(.5).astype('float'))\n",
    "                # .assign(size = lambda df: df['hyper_factor'].apply(lambda x: 10 if x == 1 else 3).astype('float'))\n",
    "                # .assign(size = lamdba df: marker_size)\n",
    "                .join(marker_size, on='asset')\n",
    "                .replace('MWTIX', 'TCW')\n",
    "                )\n",
    "    \n",
    "    if drop_composites:\n",
    "        mds_ts = mds_ts.query('composite == 0')\n",
    "\n",
    "    if drop_trump:\n",
    "        mds_ts = mds_ts.query('asset != \"TRUMP\"')\n",
    "    \n",
    "    if animate:\n",
    "        fig = draw_mds_ts(mds_ts, tick_range=tick_range)\n",
    "        fig.update_traces(textfont_color = 'lightgray')\n",
    "    \n",
    "    else:\n",
    "        # print(dates)\n",
    "        # print(dates[0])\n",
    "        mds_latest = mds_ts[mds_ts['date'] == dates[0]].drop(columns='date')\n",
    "        fig = draw_mds_ts(mds_latest, tick_range=tick_range)\n",
    "        \n",
    "        for i in range(len(dates) - 1):\n",
    "            fig = add_whiskers(fig, mds_ts, dates[i], dates[i + 1])\n",
    "        # fig = add_whiskers(fig, mds_ts, t0, t1)\n",
    "        # fig = add_whiskers(fig, mds_ts, t1, t2)\n",
    "        fig.update_layout(legend_title_text=None, title=f'{transformation_type[transformation]}')\n",
    "        \n",
    "                \n",
    "        def get_trace_color(trace, legendgroup):\n",
    "            return trace.marker.color if trace.legendgroup in legendgroup else 'lightgray'\n",
    "        \n",
    "        \n",
    "        asset_class_list = ['Theme', 'Portfolio']\n",
    "        fig.for_each_trace(lambda t: t.update(textfont_color = get_trace_color(t, asset_class_list)))\n",
    "    \n",
    "    # r = sqrt(2)/2\n",
    "    # r = 0.8\n",
    "    # fig.add_shape(\n",
    "    #     type=\"circle\",\n",
    "    #     xref=\"x\", yref=\"y\",\n",
    "    #     x0=-r, y0=-r, x1=r, y1=r,\n",
    "    #     line_color='lightgray', line_width=.5,\n",
    "    #     )\n",
    "    \n",
    "    return fig\n",
    "\n",
    "# mds_previous = mds_ts[mds_ts['date'] == t1].drop(columns='date')\n",
    "# fig_previous = (draw_mds_ts(mds_previous, tick_range=1.5)\n",
    "#                 .update_traces(text=None,  opacity=0.3) # marker_size=5,\n",
    "#                 .update_layout(showlegend=False))\n",
    "# for trace in fig_previous.data:\n",
    "#     trace.showlegend = False\n",
    "#     fig.add_trace(trace)\n",
    "\n",
    "# for trace in fig.data:\n",
    "#     if trace.mode == 'lines':\n",
    "#         for marker_trace in fig.data:\n",
    "#             if marker_trace.mode == 'markers+text' and marker_trace.name == trace.legendgroup:\n",
    "#                 trace.update(line=dict(color=marker_trace.marker.color))\n",
    "#                 break\n"
   ]
  },
  {
   "cell_type": "code",
   "execution_count": 14,
   "metadata": {},
   "outputs": [],
   "source": [
    "# color_dict = {a: b for a, b in zip(factor_master.asset_class.unique(), color_sequence)}\n",
    "# color_dict['Portfolio'] = 'black'\n",
    "# color_dict['Composite'] = 'darkred'\n",
    "# color_dict\n"
   ]
  },
  {
   "cell_type": "code",
   "execution_count": 15,
   "metadata": {},
   "outputs": [],
   "source": [
    "# import plotly.io as pio\n",
    "# color_sequence = pio.templates['plotly_white']['layout']['colorway']\n",
    "# color_sequence\n",
    "# # pio.templates"
   ]
  },
  {
   "cell_type": "code",
   "execution_count": 16,
   "metadata": {},
   "outputs": [],
   "source": [
    "\n",
    "# sorted(dates_t1, reverse=True)"
   ]
  },
  {
   "cell_type": "code",
   "execution_count": 17,
   "metadata": {},
   "outputs": [],
   "source": [
    "# dates_t1.sort()\n",
    "# dates_t1.sort(reverse=True)\n",
    "# dates_t1"
   ]
  },
  {
   "cell_type": "code",
   "execution_count": null,
   "metadata": {},
   "outputs": [],
   "source": [
    "from importlib import reload\n",
    "import corr_mds\n",
    "reload(corr_mds)\n",
    "from corr_mds import *\n",
    "\n",
    "# TODO: Do the args work?!\n",
    "\n",
    "args = {'random_state': 42, \n",
    "        'n_init': 100}\n",
    "\n",
    "dates_t1 = ['2024-11-20', '2024-10-18', '2024-08-16', '2024-01-05']\n",
    "dates_t1 = ['2024-12-11', '2024-10-18', '2024-08-16', '2024-01-05']\n",
    "dates_t0 = ['2024-10-31', '2024-09-30', '2024-08-30']\n",
    "\n",
    "# TCW as of 2024-10-31\n",
    "# TCW + 3 themes as of 2024-10-31\n",
    "# TCW + 3 themes + trump as of 2024-11-18\n",
    "\n",
    "fig = (run_mds(factor_data2, \n",
    "               transformation='rotate_initial', \n",
    "               dates=dates_t0,\n",
    "               start_date='2024', \n",
    "               tick_range=1,\n",
    "               drop_composites=True,\n",
    "               drop_trump=True,\n",
    "               **args)\n",
    "    #    .update_layout(title=f\"random_state={args['random_state']}, n_init={args['n_init']}\")\n",
    "       )\n",
    "fig.show(renderer='png')\n",
    "fig.write_image('corr_tcw.png')\n",
    "\n",
    "fig = (run_mds(factor_data2, \n",
    "               transformation='rotate_initial', \n",
    "               dates=dates_t0,\n",
    "               start_date='2024', \n",
    "               tick_range=1,\n",
    "               drop_composites=False,\n",
    "               drop_trump=True,\n",
    "               **args)\n",
    "    #    .update_layout(title=f\"random_state={args['random_state']}, n_init={args['n_init']}\")\n",
    "       )\n",
    "fig.show(renderer='png')\n",
    "fig.write_image('corr_theme.png')\n",
    "\n",
    "fig = (run_mds(factor_data2, \n",
    "               transformation='rotate_initial', \n",
    "               dates=dates_t1,\n",
    "               start_date='2024', \n",
    "               tick_range=1,\n",
    "               drop_composites=False,\n",
    "               drop_trump=False,\n",
    "               **args)\n",
    "    #    .update_layout(title=f\"random_state={args['random_state']}, n_init={args['n_init']}\")\n",
    "       )\n",
    "fig.show(renderer='png')\n",
    "fig.write_image('corr_trump.png')\n",
    "\n",
    "\n"
   ]
  },
  {
   "cell_type": "code",
   "execution_count": 19,
   "metadata": {},
   "outputs": [],
   "source": [
    "# fig.for_each_trace(lambda t: t.update(textfont_color = t.marker.color if t.marker.size == 10 else 'lightgray'))\n",
    "# fig.show(renderer='png')"
   ]
  },
  {
   "cell_type": "code",
   "execution_count": 20,
   "metadata": {},
   "outputs": [],
   "source": [
    "# fig.for_each_trace(lambda t: print(t.marker.size if t.marker.size is not None else None))"
   ]
  },
  {
   "cell_type": "code",
   "execution_count": 21,
   "metadata": {},
   "outputs": [],
   "source": [
    "# fig.for_each_trace(lambda t: t.update(textfont_color = (t.marker.color if t.legendgroup in ['Theme', 'Portfolio'] else 'lightgray'))) # t.legendgroup\n",
    "# # fig.for_each_trace(lambda t: print(t.legendgroup, t.marker.color)) # t.legendgroup\n",
    "# fig.update_layout(title='')\n",
    "# fig.show(renderer='png')\n"
   ]
  },
  {
   "cell_type": "code",
   "execution_count": null,
   "metadata": {},
   "outputs": [],
   "source": [
    "factor_data2.date.sel(date=slice('2020', None)).values"
   ]
  },
  {
   "cell_type": "code",
   "execution_count": null,
   "metadata": {},
   "outputs": [],
   "source": [
    "args = {'random_state': 42, \n",
    "        'n_init': 100}\n",
    "\n",
    "# dates_t1 = ['2024-11-20', '2024-10-18', '2024-08-16']\n",
    "# dates_t0 = ['2024-10-31', '2024-09-30', '2024-08-30']\n",
    "\n",
    "dates_t1 = ['2024-11-20', '2024-10-18', '2024-08-16', '2024-01-05']\n",
    "dates_t1 = ['2024-12-11', '2024-10-18', '2024-08-16', '2024-01-05']\n",
    "dates_t0 = ['2024-10-31', '2024-09-30', '2024-08-30']\n",
    "dates = factor_data2.date.sel(date=slice('2020', None)).values\n",
    "\n",
    "\n",
    "fig = (run_mds(factor_data2.resample(date='W').last(), \n",
    "               transformation='rotate_initial', \n",
    "               dates=dates,\n",
    "               start_date='2020', \n",
    "               tick_range=1,\n",
    "               animate=True,\n",
    "               drop_composites=True,\n",
    "               drop_trump=False,\n",
    "               **args)\n",
    "    #    .update_layout(title=f\"random_state={args['random_state']}, n_init={args['n_init']}\")\n",
    "       )\n",
    "fig.show()\n",
    "# fig.write_html('corr_animation.html')"
   ]
  },
  {
   "cell_type": "code",
   "execution_count": null,
   "metadata": {},
   "outputs": [],
   "source": [
    "# factor_data2.corr.sel(date='2024-11-18', corr_type=63).to_pandas().style"
   ]
  },
  {
   "cell_type": "code",
   "execution_count": null,
   "metadata": {},
   "outputs": [],
   "source": [
    "# reload(corr_mds)\n",
    "# run_mds(factor_data2.corr, transformation=None, start_date='2004', tick_range='auto').show(renderer='png')\n",
    "# run_mds(factor_data2.corr, transformation='rotate', start_date='2004', tick_range='auto').show(renderer='png')\n",
    "# run_mds(factor_data2.corr, transformation='rotate_initial', start_date='2004', tick_range='auto').show(renderer='png')\n",
    "# # run_mds(factor_data2.corr, transformation='normalize', start_date='2004', tick_range='auto').show(renderer='png')\n",
    "# # run_mds(factor_data2.corr, transformation='rotate_list', start_date='2004', tick_range='auto').show(renderer='png')\n",
    "# # run_mds(factor_data2.corr, transformation='normalize', start_date='2004', tick_range=1).show(renderer='png')\n",
    "# # fig.show(renderer='png')\n"
   ]
  },
  {
   "cell_type": "markdown",
   "metadata": {},
   "source": [
    "# Market Feedback"
   ]
  },
  {
   "cell_type": "code",
   "execution_count": null,
   "metadata": {},
   "outputs": [],
   "source": [
    "factor_data2.cret.sel(asset='ICLN').plot()"
   ]
  },
  {
   "cell_type": "code",
   "execution_count": null,
   "metadata": {},
   "outputs": [],
   "source": [
    "xr_pct_change(factor_data2.cret.sel(asset='ICLN'), dim='date', periods=21)\n",
    "\n",
    "factor_data2.cret.sel(asset='ICLN', date=slice('2024-9-14', None)).plot()"
   ]
  },
  {
   "cell_type": "code",
   "execution_count": null,
   "metadata": {},
   "outputs": [],
   "source": [
    "def accumulate(da_ret, t0, t1, dim='date'):\n",
    "    # return (da_ret.sel(date=slice(t0, t1))+1).cumprod('date')-1\n",
    "    return (da_ret.sel({dim: slice(t0, t1)})+1).cumprod(dim) #-1\n",
    "\n",
    "t0 = '2024-10-14'\n",
    "t1 = '2024-11-14'\n",
    "\n",
    "accumulate(factor_data2.ret, t0, t1).to_pandas()\n",
    "\n",
    "\n",
    "# ((ds1.ret+1).cumprod('date')-1).to_pandas().sort_index(ascending=False).to_clipboard()"
   ]
  },
  {
   "cell_type": "code",
   "execution_count": null,
   "metadata": {},
   "outputs": [],
   "source": [
    "from util import xr_pct_change\n",
    "\n",
    "date_latest = pd.to_datetime(factor_data2.date.max().item())\n",
    "date_latest = '2024-11-14'\n",
    "vol_type = 63\n",
    "\n",
    "vol = factor_data2.vol.sel(date=date_latest, vol_type=vol_type).to_series()\n",
    "# ret = factor_data.ret.sel(date=date_latest).to_series()\n",
    "ret = xr_pct_change(factor_data2.cret, dim='date', periods=21).sel(date=date_latest).to_series().rename('ret').mul(100)\n",
    "factor_master = pd.DataFrame(factor_data2.asset.attrs).T\n",
    "\n",
    "df = pd.concat([ret, vol, factor_master], axis=1).reset_index()\n",
    "\n",
    "fig_format = {'template': 'plotly_white', 'height': 750, 'width': 750}\n",
    "fig = (px.scatter(df, x='vol', y='ret', color='asset_class', text='index', **fig_format)\n",
    "       .update_traces(textposition='middle right', \n",
    "                      textfont_color='lightgray')\n",
    "       .update_layout(# xaxis_title=None,\n",
    "                      # yaxis_title=None,\n",
    "                      # xaxis_showticklabels=False,\n",
    "                      # yaxis_showticklabels=False,\n",
    "                      # xaxis_showgrid=False,\n",
    "                      # yaxis_showgrid=False,\n",
    "                      xaxis_showline=False,\n",
    "                      yaxis_showline=False,\n",
    "                      legend_title_text=None,\n",
    "                      )\n",
    "       )\n",
    "\n",
    "# fig.show(renderer='png')\n",
    "fig.show()"
   ]
  },
  {
   "cell_type": "code",
   "execution_count": null,
   "metadata": {},
   "outputs": [],
   "source": [
    "factor_data2['cret'].to_pandas()['SPY'].plot()"
   ]
  },
  {
   "cell_type": "code",
   "execution_count": null,
   "metadata": {},
   "outputs": [],
   "source": [
    "\n",
    "# ds1 = factor_data2.sel(asset='SPY')\n",
    "# ds1.ret.to_pandas().sort_index(ascending=False).to_clipboard()\n",
    "# ((ds1.ret+1).cumprod('date')-1).to_pandas().sort_index(ascending=False).to_clipboard()\n",
    "# xr_pct_change(((ds1.ret+1).cumprod('date')-1), dim='date', periods=1).to_pandas().sort_index(ascending=False).to_clipboard()\n",
    "\n",
    "# # xr_pct_change(((factor_data2.ret.sel(asset='SPY')+1).cumprod('date')-1), dim='date', periods=1).to_pandas().to_clipboard()"
   ]
  },
  {
   "cell_type": "markdown",
   "metadata": {},
   "source": [
    "# Scale by vol"
   ]
  },
  {
   "cell_type": "code",
   "execution_count": null,
   "metadata": {},
   "outputs": [],
   "source": [
    "# factor_data2['vol']."
   ]
  },
  {
   "cell_type": "code",
   "execution_count": 39,
   "metadata": {},
   "outputs": [],
   "source": [
    "def get_vol_ratio(vol, vol_type_short_term, vol_type_long_term):\n",
    "    vol_short = vol.sel(vol_type=vol_type_short_term)\n",
    "    vol_long = vol.sel(vol_type=vol_type_long_term)\n",
    "    vol_ratio = vol_short / vol_long\n",
    "    return vol_ratio"
   ]
  },
  {
   "cell_type": "code",
   "execution_count": null,
   "metadata": {},
   "outputs": [],
   "source": [
    "get_marker_size(ds, )\n",
    ".assign(size = lambda df: df['hyper_factor'].apply(lambda x: 10 if x == 1 else 3).astype('float'))"
   ]
  },
  {
   "cell_type": "code",
   "execution_count": null,
   "metadata": {},
   "outputs": [],
   "source": [
    "get_marker_size(factor_data2)"
   ]
  },
  {
   "cell_type": "markdown",
   "metadata": {},
   "source": [
    "# Cum Ret"
   ]
  },
  {
   "cell_type": "code",
   "execution_count": null,
   "metadata": {},
   "outputs": [],
   "source": [
    "from data import *\n",
    "\n",
    "factor_master = get_factor_master(sheet_name='read')\n",
    "asset_list = factor_master.loc[factor_master['composite'] == 0].index.to_list()\n",
    "asset_data = get_yf_returns(asset_list)\n",
    "asset_ret = asset_data['ret'].to_pandas()\n",
    "\n",
    "portfolios_weights = get_portfolios().pipe(safe_reindex, factor_master).fillna(0).loc[asset_list]  \n",
    "portfolios_ret = asset_ret @ portfolios_weights\n",
    "\n",
    "factor_data = xr.Dataset()\n",
    "factor_data['ret'] = pd.concat([asset_ret, portfolios_ret], axis=1).rename_axis(columns='asset')\n",
    "# factor_data['ret'] = (pd.concat([asset_ret['MWTIX'], portfolios_ret, asset_ret.drop(columns=['MWTIX'])], axis=1).rename_axis(columns='asset'))\n",
    "factor_data['vol']   = get_volatility_set(factor_data['ret'], halflifes)\n",
    "factor_data['corr']  = get_correlation_set(factor_data['ret'], halflifes)\n",
    "factor_data['cret']  = cumulate_returns(factor_data['ret'])\n",
    "\n",
    "factor_data['asset'].attrs = factor_master.T.to_dict()\n"
   ]
  },
  {
   "cell_type": "code",
   "execution_count": 66,
   "metadata": {},
   "outputs": [],
   "source": [
    "# factor_data['ret'].cumsum(dim='date')\n",
    "factor_data['ret'].cumsum(dim='date', skipna=True).to_pandas().to_clipboard()"
   ]
  },
  {
   "cell_type": "code",
   "execution_count": null,
   "metadata": {},
   "outputs": [],
   "source": [
    "(factor_data['ret']\n",
    " .cumsum(dim='date')\n",
    " .where(~factor_data['ret'].isnull(), np.nan)\n",
    " .ffill(dim='date')\n",
    " .to_pandas().to_clipboard()\n",
    " )"
   ]
  }
 ],
 "metadata": {
  "kernelspec": {
   "display_name": "venv-python312",
   "language": "python",
   "name": "python3"
  },
  "language_info": {
   "codemirror_mode": {
    "name": "ipython",
    "version": 3
   },
   "file_extension": ".py",
   "mimetype": "text/x-python",
   "name": "python",
   "nbconvert_exporter": "python",
   "pygments_lexer": "ipython3",
   "version": "3.12.4"
  }
 },
 "nbformat": 4,
 "nbformat_minor": 2
}
