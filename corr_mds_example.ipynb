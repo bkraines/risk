{
 "cells": [
  {
   "cell_type": "code",
   "execution_count": null,
   "metadata": {},
   "outputs": [],
   "source": [
    "from importlib import reload\n",
    "import pandas as pd\n",
    "\n",
    "from risk_lib.data import get_portfolios\n",
    "\n",
    "from risk_lib.corr_mds import *\n"
   ]
  },
  {
   "cell_type": "code",
   "execution_count": null,
   "metadata": {},
   "outputs": [],
   "source": [
    "from importlib import reload\n",
    "import risk_lib.corr_mds as corr_mds\n",
    "reload(corr_mds)\n",
    "from risk_lib.corr_mds import *"
   ]
  },
  {
   "cell_type": "code",
   "execution_count": null,
   "metadata": {},
   "outputs": [],
   "source": [
    "# TODO: Enlarge hyperfactors, either with a separate trace or with a size parameter\n",
    "# TODO: Add portfolios of factors\n",
    "# TODO: Add ret/vol scatter, in the MDS format, with 45-degree line, maybe whiskers\n",
    "# TODO: Color whiskers as markers\n",
    "\n",
    "# TODO: Rename ETF to PCW\n",
    "\n",
    "# TODO: For t_0, rotate so SPX is on x-axis. For t_1, "
   ]
  },
  {
   "cell_type": "markdown",
   "metadata": {},
   "source": [
    "Collect data"
   ]
  },
  {
   "cell_type": "code",
   "execution_count": null,
   "metadata": {},
   "outputs": [],
   "source": [
    "from risk_lib.data import get_factor_data\n",
    "factor_data = get_factor_data(halflifes=[21, 63, 126, 252])\n",
    "factor_master = pd.DataFrame(factor_data.factor_name.attrs).T\n",
    "factor_data\n"
   ]
  },
  {
   "cell_type": "markdown",
   "metadata": {},
   "source": [
    "Project factor correlation matrix onto two dimensions, using different linear transformations to align the data."
   ]
  },
  {
   "cell_type": "code",
   "execution_count": null,
   "metadata": {},
   "outputs": [],
   "source": [
    "transformation_type = {None:        'no transformation', \n",
    "                       'rotate':    'SPX rotated to x-axis', \n",
    "                       'normalize': 'SPX transformed to (1, 0)'\n",
    "                       }\n",
    "\n",
    "for transformation in transformation_type.keys():\n",
    "    mds_ts = (mds_ts_df(factor_data.corr, transformation=transformation, start_date='2024')\n",
    "              .reset_index()\n",
    "              .join(factor_master, on='factor_name')\n",
    "              .assign(date = lambda df: df['date'].astype(str)))\n",
    "    fig = (draw_mds_ts(mds_ts, tick_range=None)\n",
    "           .update_layout(title=f'Correlation Projection ({transformation_type[transformation]})'))\n",
    "    fig.show()\n",
    "    fig.write_html(R'G:\\My Drive\\risk\\correlation.html')\n"
   ]
  },
  {
   "cell_type": "markdown",
   "metadata": {},
   "source": [
    "Instead of animation, here we use whiskers."
   ]
  },
  {
   "cell_type": "code",
   "execution_count": null,
   "metadata": {},
   "outputs": [],
   "source": [
    "# mds_latest['hyper_factor'] += 1 \n",
    "# mds_latest['hyper_factor'] *= 10\n",
    "# mds_latest['hyper_factor'] = pd.to_numeric(mds_latest['hyper_factor'])\n"
   ]
  },
  {
   "cell_type": "code",
   "execution_count": null,
   "metadata": {},
   "outputs": [],
   "source": [
    "mds_ts['size'].astype('int')"
   ]
  },
  {
   "cell_type": "code",
   "execution_count": null,
   "metadata": {},
   "outputs": [],
   "source": [
    "t0 = '2024-11-08'\n",
    "t1 = '2024-10-09'\n",
    "t2 = '2024-08-08'\n",
    "\n",
    "mds_ts = (mds_ts_df(factor_data.corr, transformation='normalize', start_date='2024')\n",
    "            .reset_index()\n",
    "            .join(factor_master, on='asset')\n",
    "            .assign(date = lambda df: df['date'].astype(str))\n",
    "            .assign(size = lambda df: df['hyper_factor'].mul(1).add(.5).astype('float'))\n",
    "            )\n",
    "mds_latest = mds_ts[mds_ts['date'] == t0].drop(columns='date')\n",
    "fig = draw_mds_ts(mds_latest, tick_range=1.5)\n",
    "fig = add_whiskers(fig, mds_ts, t0, t1)\n",
    "fig = add_whiskers(fig, mds_ts, t1, t2)\n",
    "fig.update_layout(legend_title_text=None)\n",
    "\n",
    "mds_previous = mds_ts[mds_ts['date'] == t1].drop(columns='date')\n",
    "fig_previous = (draw_mds_ts(mds_previous, tick_range=1.5)\n",
    "                .update_traces(text=None,  opacity=0.3) # marker_size=5,\n",
    "                .update_layout(showlegend=False))\n",
    "for trace in fig_previous.data:\n",
    "    trace.showlegend = False\n",
    "    fig.add_trace(trace)\n",
    "\n",
    "# for trace in fig.data:\n",
    "#     if trace.mode == 'lines':\n",
    "#         for marker_trace in fig.data:\n",
    "#             if marker_trace.mode == 'markers+text' and marker_trace.name == trace.legendgroup:\n",
    "#                 trace.update(line=dict(color=marker_trace.marker.color))\n",
    "#                 break\n",
    "\n",
    "fig.show(renderer='png')\n"
   ]
  },
  {
   "cell_type": "code",
   "execution_count": null,
   "metadata": {},
   "outputs": [],
   "source": [
    "date_max = mds_ts['date'].max()\n",
    "mds_latest = mds_ts[mds_ts['date'] == date_max].drop(columns=['date'])\n",
    "mds_latest['hyper_factor'] = mds_latest['hyper_factor'].astype(int)\n",
    "fig = draw_mds_ts(mds_latest, tick_range=1.5)\n",
    "fig.show(renderer='png')\n",
    "\n",
    "fig2 = px.scatter(mds_latest, x='dim1', y='dim2', color='asset_class', text='asset', size='hyper_factor', size_max=10)\n",
    "\n",
    "# # Add line traces connecting corresponding points\n",
    "# for i in range(len(df_time_1)):\n",
    "#     fig.add_trace(go.Scatter(x=[df_time_1['x'][i], df_time_2['x'][i]], y=[df_time_1['y'][i], df_time_2['y'][i]], mode='lines', line=dict(color='gray', width=1), showlegend=False))\n"
   ]
  },
  {
   "cell_type": "code",
   "execution_count": null,
   "metadata": {},
   "outputs": [],
   "source": [
    "mds_latest"
   ]
  },
  {
   "cell_type": "code",
   "execution_count": null,
   "metadata": {},
   "outputs": [],
   "source": [
    "mds_latest['hyper_factor'] = mds_latest['hyper_factor'].astype(int)"
   ]
  },
  {
   "cell_type": "code",
   "execution_count": null,
   "metadata": {},
   "outputs": [],
   "source": [
    "px.scatter(mds_latest, x='dim1', y='dim2', color='asset_class', text='asset', size='hyper_factor', size_max=10)\n"
   ]
  },
  {
   "cell_type": "code",
   "execution_count": null,
   "metadata": {},
   "outputs": [],
   "source": [
    "factor_data.date.max()"
   ]
  },
  {
   "cell_type": "code",
   "execution_count": null,
   "metadata": {},
   "outputs": [],
   "source": [
    "# Vol chart"
   ]
  },
  {
   "cell_type": "code",
   "execution_count": null,
   "metadata": {},
   "outputs": [],
   "source": [
    "from risk_lib.util import xr_pct_change\n",
    "\n",
    "date_latest = pd.to_datetime(factor_data.date.max().item())\n",
    "date_latest = '2024-11-11'\n",
    "vol_type = 63\n",
    "\n",
    "vol = factor_data.vol.sel(date=date_latest, vol_type=vol_type).to_series()\n",
    "# ret = factor_data.ret.sel(date=date_latest).to_series()\n",
    "ret = xr_pct_change(factor_data.cret, dim='date', periods=21).sel(date=date_latest).to_series().rename('ret').mul(100)\n",
    "\n",
    "df = pd.concat([ret, vol, factor_master], axis=1).reset_index()\n",
    "\n",
    "\n",
    "fig_format = {'template': 'plotly_white', 'height': 750, 'width': 750}\n",
    "fig = (px.scatter(df, x='vol', y='ret', color='asset_class', text='index', **fig_format)\n",
    "       .update_traces(textposition='middle right', \n",
    "                      textfont_color='lightgray')\n",
    "       .update_layout(# xaxis_title=None,\n",
    "                        #yaxis_title=None,\n",
    "                        # xaxis_showticklabels=False,\n",
    "                        # yaxis_showticklabels=False,\n",
    "                    #   xaxis_showgrid=False,\n",
    "                    #   yaxis_showgrid=False,\n",
    "                      xaxis_showline=False,\n",
    "                      yaxis_showline=False,\n",
    "                       legend_title_text=None,\n",
    "                       )\n",
    "       )\n",
    "\n",
    "\n",
    "\n",
    "fig.show(renderer='png')\n"
   ]
  },
  {
   "cell_type": "markdown",
   "metadata": {},
   "source": [
    "# PORTFOLIOS"
   ]
  },
  {
   "cell_type": "code",
   "execution_count": null,
   "metadata": {},
   "outputs": [],
   "source": [
    "from risk_lib.stats import get_volatility_set, get_correlation_set\n",
    "\n",
    "halflifes = [21, 63,] #126, 252, 512]\n",
    "portfolios = get_portfolios().reindex(factor_master.index).fillna(0)\n",
    "factor_ret = factor_data.ret.to_pandas()\n",
    "portfolio_ret = factor_ret @ portfolios\n",
    "combined_ret = pd.concat([factor_ret, portfolio_ret], axis=1).rename_axis(index='date', columns='asset')\n",
    "\n",
    "ds = xr.Dataset()\n",
    "ds['ret'] = combined_ret\n",
    "ds['vol']   = get_volatility_set(ds['ret'], halflifes)\n",
    "ds['corr']  = get_correlation_set(ds['ret'], halflifes)\n",
    "ds['asset'].attrs = factor_master.T\n",
    "\n",
    "portfolio_data = ds"
   ]
  },
  {
   "cell_type": "code",
   "execution_count": null,
   "metadata": {},
   "outputs": [],
   "source": [
    "portfolio_data\n",
    "\n",
    "t0 = '2024-11-08'\n",
    "t1 = '2024-10-09'\n",
    "t2 = '2024-08-08'\n",
    "\n",
    "mds_ts = (mds_ts_df(portfolio_data.corr, transformation='normalize', start_date='2024')\n",
    "            .reset_index()\n",
    "            .join(factor_master, on='asset')\n",
    "            .assign(date = lambda df: df['date'].astype(str))\n",
    "            .assign(size = lambda df: df['hyper_factor'].mul(1).add(.5).astype('float'))\n",
    "            )\n",
    "mds_latest = mds_ts[mds_ts['date'] == t0].drop(columns='date')\n",
    "fig = draw_mds_ts(mds_latest, tick_range=1.5)\n",
    "fig = add_whiskers(fig, mds_ts, t0, t1)\n",
    "fig = add_whiskers(fig, mds_ts, t1, t2)\n",
    "fig.update_layout(legend_title_text=None)\n",
    "\n",
    "mds_previous = mds_ts[mds_ts['date'] == t1].drop(columns='date')\n",
    "fig_previous = (draw_mds_ts(mds_previous, tick_range=1.5)\n",
    "                .update_traces(text=None,  opacity=0.3) # marker_size=5,\n",
    "                .update_layout(showlegend=False))\n",
    "for trace in fig_previous.data:\n",
    "    trace.showlegend = False\n",
    "    fig.add_trace(trace)\n",
    "\n",
    "# for trace in fig.data:\n",
    "#     if trace.mode == 'lines':\n",
    "#         for marker_trace in fig.data:\n",
    "#             if marker_trace.mode == 'markers+text' and marker_trace.name == trace.legendgroup:\n",
    "#                 trace.update(line=dict(color=marker_trace.marker.color))\n",
    "#                 break\n",
    "\n",
    "fig.show(renderer='png')\n"
   ]
  },
  {
   "cell_type": "code",
   "execution_count": null,
   "metadata": {},
   "outputs": [],
   "source": [
    "factor_master = d.get_factor_master(sheet_name='read2')\n",
    "asset_list = factor_master[factor_master['composite'] != 1].index.to_list()\n",
    "\n",
    "ds = xr.Dataset()\n",
    "\n",
    "\n",
    "\n"
   ]
  },
  {
   "cell_type": "code",
   "execution_count": null,
   "metadata": {},
   "outputs": [],
   "source": [
    "# Test"
   ]
  },
  {
   "cell_type": "code",
   "execution_count": null,
   "metadata": {},
   "outputs": [],
   "source": [
    "mds_test= (mds_ts_df(portfolio_data.corr, transformation=None, start_date='2024')\n",
    "            .reset_index()\n",
    "            .join(factor_master, on='asset')\n",
    "            .assign(date = lambda df: df['date'].astype(str))\n",
    "            .assign(size = lambda df: df['hyper_factor'].mul(1).add(.5).astype('float'))\n",
    "            )"
   ]
  },
  {
   "cell_type": "code",
   "execution_count": null,
   "metadata": {},
   "outputs": [],
   "source": [
    "assets = ['SPY', 'TLT']\n",
    "date = '2024-11-14'\n",
    "mds_test.query(\"asset in @assets and date==@date\")\n",
    "\n",
    "x0, y0 = mds_test.set_index(['date', 'asset']).loc[('2024-11-14', 'SPY'), ['dim1', 'dim2']].values\n",
    "x1, y1 = mds_test.set_index(['date', 'asset']).loc[('2024-11-14', 'TLT'), ['dim1', 'dim2']].values\n",
    "\n",
    "sqrt((x1 - x0)**2 + (y1 - y0)**2)"
   ]
  },
  {
   "cell_type": "code",
   "execution_count": null,
   "metadata": {},
   "outputs": [],
   "source": [
    "corr = portfolio_data.corr.sel(date='2024-11-14', corr_type=21).to_pandas()\n",
    "sqrt(1-corr**2).loc['SPY', 'TLT']"
   ]
  },
  {
   "cell_type": "code",
   "execution_count": null,
   "metadata": {},
   "outputs": [],
   "source": []
  },
  {
   "cell_type": "code",
   "execution_count": null,
   "metadata": {},
   "outputs": [],
   "source": [
    "mds_test.set_index(['date', 'asset'])[['dim1', 'dim2']].to_xarray()\n",
    "mds_test.sel(asset='SPY')"
   ]
  },
  {
   "cell_type": "code",
   "execution_count": null,
   "metadata": {},
   "outputs": [],
   "source": [
    "import numpy as np\n",
    "\n",
    "# Parameters\n",
    "n = 1000  # Number of points\n",
    "\n",
    "# Radius computation\n",
    "# Sum of distances for points on a circle\n",
    "def average_pairwise_distance_circle(n, R):\n",
    "    total_distance = 0\n",
    "    for k in range(1, n):  # Pairwise angular separation\n",
    "        angular_distance = np.pi * k / n  # Angle in radians\n",
    "        total_distance += (n - k) * 2 * R * np.sin(angular_distance)\n",
    "    return total_distance / (n * (n - 1) / 2)  # Normalize by number of pairs\n",
    "\n",
    "# Target average distance\n",
    "target_distance = 1\n",
    "\n",
    "# Find the radius numerically\n",
    "R_values = np.linspace(0.001, 100, 1000)  # Test radius values\n",
    "average_distances = [average_pairwise_distance_circle(n, R) for R in R_values]\n",
    "\n",
    "# Find the closest match to the target distance\n",
    "best_R_index = np.argmin(np.abs(np.array(average_distances) - target_distance))\n",
    "best_R = R_values[best_R_index]\n",
    "\n",
    "best_R"
   ]
  }
 ],
 "metadata": {
  "kernelspec": {
   "display_name": "venv-bklm",
   "language": "python",
   "name": "python3"
  },
  "language_info": {
   "codemirror_mode": {
    "name": "ipython",
    "version": 3
   },
   "file_extension": ".py",
   "mimetype": "text/x-python",
   "name": "python",
   "nbconvert_exporter": "python",
   "pygments_lexer": "ipython3",
   "version": "3.11.9"
  }
 },
 "nbformat": 4,
 "nbformat_minor": 2
}
