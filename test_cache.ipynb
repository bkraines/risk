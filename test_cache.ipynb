{
 "cells": [
  {
   "cell_type": "code",
   "execution_count": 8,
   "metadata": {},
   "outputs": [],
   "source": [
    "from typing import Callable, Any, List\n",
    "import os\n",
    "import functools\n",
    "import pickle\n",
    "\n",
    "import xarray as xr\n",
    "import numpy as np\n",
    "\n",
    "from util import cache_to_file\n",
    "from data import build_factor_data, build_factor_data2"
   ]
  },
  {
   "cell_type": "code",
   "execution_count": 11,
   "metadata": {},
   "outputs": [
    {
     "ename": "ModuleNotFoundError",
     "evalue": "No module named 'numpy._core.numeric'",
     "output_type": "error",
     "traceback": [
      "\u001b[1;31m---------------------------------------------------------------------------\u001b[0m",
      "\u001b[1;31mModuleNotFoundError\u001b[0m                       Traceback (most recent call last)",
      "Cell \u001b[1;32mIn[11], line 2\u001b[0m\n\u001b[0;32m      1\u001b[0m halflifes \u001b[38;5;241m=\u001b[39m [\u001b[38;5;241m21\u001b[39m, \u001b[38;5;241m63\u001b[39m, \u001b[38;5;241m126\u001b[39m, \u001b[38;5;241m252\u001b[39m]\n\u001b[1;32m----> 2\u001b[0m factor_data \u001b[38;5;241m=\u001b[39m \u001b[43mbuild_factor_data2\u001b[49m\u001b[43m(\u001b[49m\u001b[43mhalflifes\u001b[49m\u001b[38;5;241;43m=\u001b[39;49m\u001b[43mhalflifes\u001b[49m\u001b[43m)\u001b[49m\n",
      "File \u001b[1;32mc:\\Users\\bkrai\\Source\\risk\\util.py:125\u001b[0m, in \u001b[0;36mcache_to_file.<locals>.wrapper\u001b[1;34m(read_cache, write_cache, cache_dir, cache_file, check, *args, **kwargs)\u001b[0m\n\u001b[0;32m    122\u001b[0m cache_path \u001b[38;5;241m=\u001b[39m os\u001b[38;5;241m.\u001b[39mpath\u001b[38;5;241m.\u001b[39mjoin(cache_dir, cache_file)\n\u001b[0;32m    124\u001b[0m \u001b[38;5;28;01mif\u001b[39;00m read_cache \u001b[38;5;129;01mand\u001b[39;00m os\u001b[38;5;241m.\u001b[39mpath\u001b[38;5;241m.\u001b[39mexists(cache_path):\n\u001b[1;32m--> 125\u001b[0m     data \u001b[38;5;241m=\u001b[39m \u001b[43mread_pickle\u001b[49m\u001b[43m(\u001b[49m\u001b[43mcache_path\u001b[49m\u001b[43m)\u001b[49m\n\u001b[0;32m    126\u001b[0m     \u001b[38;5;28;01mif\u001b[39;00m \u001b[38;5;129;01mnot\u001b[39;00m check(data):\n\u001b[0;32m    127\u001b[0m         data \u001b[38;5;241m=\u001b[39m func(\u001b[38;5;241m*\u001b[39margs, \u001b[38;5;241m*\u001b[39m\u001b[38;5;241m*\u001b[39mkwargs)\n",
      "File \u001b[1;32mc:\\Users\\bkrai\\Source\\risk\\util.py:86\u001b[0m, in \u001b[0;36mread_pickle\u001b[1;34m(path)\u001b[0m\n\u001b[0;32m     84\u001b[0m \u001b[38;5;28;01mdef\u001b[39;00m \u001b[38;5;21mread_pickle\u001b[39m(path: \u001b[38;5;28mstr\u001b[39m) \u001b[38;5;241m-\u001b[39m\u001b[38;5;241m>\u001b[39m Any:\n\u001b[0;32m     85\u001b[0m     \u001b[38;5;28;01mwith\u001b[39;00m \u001b[38;5;28mopen\u001b[39m(path, \u001b[38;5;124m'\u001b[39m\u001b[38;5;124mrb\u001b[39m\u001b[38;5;124m'\u001b[39m) \u001b[38;5;28;01mas\u001b[39;00m f:\n\u001b[1;32m---> 86\u001b[0m         \u001b[38;5;28;01mreturn\u001b[39;00m \u001b[43mpickle\u001b[49m\u001b[38;5;241;43m.\u001b[39;49m\u001b[43mload\u001b[49m\u001b[43m(\u001b[49m\u001b[43mf\u001b[49m\u001b[43m)\u001b[49m\n",
      "\u001b[1;31mModuleNotFoundError\u001b[0m: No module named 'numpy._core.numeric'"
     ]
    }
   ],
   "source": [
    "halflifes = [21, 63, 126, 252]\n",
    "factor_data = build_factor_data2(halflifes=halflifes)"
   ]
  },
  {
   "cell_type": "code",
   "execution_count": 4,
   "metadata": {},
   "outputs": [
    {
     "data": {
      "text/plain": [
       "<function data.build_factor_data(halflifes: List[int], factor_set='read', **kwargs) -> xarray.core.dataset.Dataset>"
      ]
     },
     "execution_count": 4,
     "metadata": {},
     "output_type": "execute_result"
    }
   ],
   "source": [
    "factor_data"
   ]
  },
  {
   "cell_type": "code",
   "execution_count": null,
   "metadata": {},
   "outputs": [],
   "source": [
    "# @cache_to_file\n",
    "# def build_factor_data_cache(halflifes):\n",
    "#     return build_factor_data2(halflifes)"
   ]
  },
  {
   "cell_type": "code",
   "execution_count": null,
   "metadata": {},
   "outputs": [],
   "source": [
    "from datetime import datetime\n",
    "\n",
    "today_date = datetime.today().date()\n",
    "print(today_date)"
   ]
  },
  {
   "cell_type": "code",
   "execution_count": null,
   "metadata": {},
   "outputs": [],
   "source": [
    "import pandas as pd\n",
    "\n",
    "factor_data = build_factor_data_cache(halflifes=[63, 126, 252], read_cache=True)\n",
    "\n",
    "date_latest = factor_data.indexes['date'].max()\n",
    "date_today = pd.Timestamp(datetime.today().date())\n",
    "\n",
    "# factor_data.indexes['date'].max() < datetime.today().date()\n"
   ]
  },
  {
   "cell_type": "code",
   "execution_count": null,
   "metadata": {},
   "outputs": [],
   "source": [
    "def check_factor_data(factor_data: xr.Dataset) -> bool:\n",
    "    date_latest = factor_data.indexes['date'].max()\n",
    "    return date_latest >= date_today"
   ]
  },
  {
   "cell_type": "code",
   "execution_count": null,
   "metadata": {},
   "outputs": [],
   "source": [
    "factor_data"
   ]
  },
  {
   "cell_type": "code",
   "execution_count": null,
   "metadata": {},
   "outputs": [],
   "source": [
    "# def write_pickle(obj: Any, path: str) -> None:\n",
    "#     with open(path, 'wb') as f:\n",
    "#         pickle.dump(obj, f, protocol=-1)\n",
    "        \n",
    "# def read_pickle(path: str) -> Any:\n",
    "#     with open(path, 'rb') as f:\n",
    "#         return pickle.load(f)"
   ]
  },
  {
   "cell_type": "code",
   "execution_count": null,
   "metadata": {},
   "outputs": [],
   "source": [
    "ttt_dir = 'cache'\n",
    "ttt_file = 'data.pkl'\n",
    "\n",
    "os.path.join(ttt_dir, ttt_file)"
   ]
  },
  {
   "cell_type": "code",
   "execution_count": null,
   "metadata": {},
   "outputs": [],
   "source": []
  },
  {
   "cell_type": "code",
   "execution_count": null,
   "metadata": {},
   "outputs": [],
   "source": [
    "build_factor_data_cache()"
   ]
  },
  {
   "cell_type": "code",
   "execution_count": null,
   "metadata": {},
   "outputs": [],
   "source": [
    "build_factor_data_cache()"
   ]
  },
  {
   "cell_type": "code",
   "execution_count": null,
   "metadata": {},
   "outputs": [],
   "source": [
    "def cache_decorator(func: Callable) -> Callable:\n",
    "    \"\"\"A decorator that caches function results to a Zarr file and Pickle file.\"\"\"\n",
    "    @functools.wraps(func)\n",
    "    def wrapper(asset: List, read_cache: bool = True, write_cache: bool = True, cache_path: str = \"cache\", use_pickle: bool = False, **kwargs) -> Any:\n",
    "        # Ensure cache directory exists\n",
    "        os.makedirs(cache_path, exist_ok=True)\n",
    "        \n",
    "        # Define cache file paths\n",
    "        pickle_cache_file = os.path.join(cache_path, \"market_data.pkl\")\n",
    "        \n",
    "        # Attempt to read from cache\n",
    "        if read_cache:\n",
    "            if use_pickle and os.path.exists(pickle_cache_file):\n",
    "                with open(pickle_cache_file, \"rb\") as f:\n",
    "                    return pickle.load(f)\n",
    "            elif os.path.exists(zarr_cache_file):\n",
    "                return xr.open_zarr(zarr_cache_file)\n",
    "        \n",
    "        # Call the original function\n",
    "        result = func(asset, **kwargs)\n",
    "        \n",
    "        # Write result to cache\n",
    "        if write_cache:\n",
    "            if use_pickle:\n",
    "                with open(pickle_cache_file, \"wb\") as f:\n",
    "                    pickle.dump(result, f)\n",
    "            else:\n",
    "                result.to_zarr(zarr_cache_file, mode=\"w\")\n",
    "        \n",
    "        return result\n",
    "    \n",
    "    return wrapper\n"
   ]
  },
  {
   "cell_type": "code",
   "execution_count": null,
   "metadata": {},
   "outputs": [],
   "source": [
    "write_pickle(factor_data, 'factor_data.pkl')"
   ]
  },
  {
   "cell_type": "code",
   "execution_count": null,
   "metadata": {},
   "outputs": [],
   "source": [
    "import zarr\n",
    "factor_data.to_zarr('factor_data')"
   ]
  },
  {
   "cell_type": "code",
   "execution_count": null,
   "metadata": {},
   "outputs": [],
   "source": [
    "\n",
    "def cache_decorator(func: Callable) -> Callable:\n",
    "    \"\"\"A decorator that caches function results to a Zarr file.\"\"\"\n",
    "    @functools.wraps(func)\n",
    "    def wrapper(asset: List, read_cache: bool = True, write_cache: bool = True, cache_path: str = \"cache\", **kwargs) -> Any:\n",
    "        # Ensure cache directory exists\n",
    "        os.makedirs(cache_path, exist_ok=True)\n",
    "        \n",
    "        # Define cache file path\n",
    "        cache_file = os.path.join(cache_path, \"market_data.zarr\")\n",
    "        \n",
    "        # Attempt to read from cache\n",
    "        if read_cache and os.path.exists(cache_file):\n",
    "            return xr.open_zarr(cache_file)\n",
    "        \n",
    "        # Call the original function\n",
    "        result = func(asset, **kwargs)\n",
    "        \n",
    "        # Write result to cache\n",
    "        if write_cache:\n",
    "            result.to_zarr(cache_file, mode=\"w\")\n",
    "        \n",
    "        return result\n",
    "    \n",
    "    return wrapper\n"
   ]
  },
  {
   "cell_type": "code",
   "execution_count": null,
   "metadata": {},
   "outputs": [],
   "source": [
    "\n",
    "@cache_decorator\n",
    "def get_market_data(asset: List) -> xr.Dataset:\n",
    "    \"\"\"Simulate fetching market data for a list of assets.\"\"\"\n",
    "    time = np.arange(\"2023-01-01\", \"2023-01-10\", dtype=\"datetime64[D]\")\n",
    "    prices = np.random.rand(len(time), len(asset))\n",
    "    return xr.Dataset({\"price\": (\"time\", \"asset\", prices)}, coords={\"time\": (\"time\", time), \"asset\": (\"asset\", asset)})\n"
   ]
  },
  {
   "cell_type": "code",
   "execution_count": null,
   "metadata": {},
   "outputs": [],
   "source": [
    "# Example usage\n",
    "assets = [\"AAPL\", \"GOOG\", \"MSFT\"]\n",
    "data = get_market_data(assets, read_cache=True, write_cache=True)\n",
    "print(data)"
   ]
  },
  {
   "cell_type": "code",
   "execution_count": null,
   "metadata": {},
   "outputs": [],
   "source": []
  }
 ],
 "metadata": {
  "kernelspec": {
   "display_name": "venv-python312",
   "language": "python",
   "name": "python3"
  },
  "language_info": {
   "codemirror_mode": {
    "name": "ipython",
    "version": 3
   },
   "file_extension": ".py",
   "mimetype": "text/x-python",
   "name": "python",
   "nbconvert_exporter": "python",
   "pygments_lexer": "ipython3",
   "version": "3.12.4"
  }
 },
 "nbformat": 4,
 "nbformat_minor": 2
}
