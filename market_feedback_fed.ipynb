{
 "cells": [
  {
   "cell_type": "code",
   "execution_count": null,
   "metadata": {},
   "outputs": [],
   "source": [
    "from typing import Optional, List\n",
    "from importlib import reload\n",
    "\n",
    "from numpy import sqrt\n",
    "import pandas as pd\n",
    "\n",
    "import plotly.express as px\n",
    "import plotly.io as pio\n",
    "\n",
    "from data import build_dataset_with_composites, get_factor_master"
   ]
  },
  {
   "cell_type": "code",
   "execution_count": null,
   "metadata": {},
   "outputs": [],
   "source": [
    "halflifes = [21, 63, 126, 252]\n",
    "factor_data = build_dataset_with_composites(halflifes)"
   ]
  },
  {
   "cell_type": "code",
   "execution_count": null,
   "metadata": {},
   "outputs": [],
   "source": [
    "return_date = '2024-12-18'\n",
    "return_date2 = '2024-12-19'\n",
    "corr_type = 63\n",
    "corr_asset = 'IEF'\n",
    "vol_type = 63\n",
    "\n",
    "corr = factor_data.corr.shift(date=1).sel(date=return_date, corr_type=corr_type, asset_1=corr_asset).to_series()\n",
    "vol = factor_data.vol.shift(date=1).sel(date=return_date, vol_type=vol_type).to_series() * sqrt(2 / 252)\n",
    "ret = (factor_data.ret.sel(date=return_date).to_series() * 100) + (factor_data.ret.sel(date=return_date2).to_series() * 100)\n",
    "zscore = ret.div(vol).rename('zscore')\n",
    "\n",
    "factor_master = get_factor_master()\n",
    "\n",
    "df = (pd.concat([corr, zscore, factor_master.asset_class, factor_master.hyper_factor], axis=1)\n",
    "      .replace('MWTIX', 'TCW')\n",
    "      .rename_axis('asset').reset_index()\n",
    "      .replace('MWTIX', 'TCW')\n",
    "    #   .assign(size = lambda df: df['hyper_factor'].apply(lambda x: 10 if x == 1 else 1).astype('float'))\n",
    "      )\n",
    "# df['textcolor'] = ['black' if asset == 'SPY' else 'lightgray' for asset in df['asset']]\n",
    "\n",
    "# def override_color_sequence(map):\n",
    "#     asset_class_list = df.asset_class.unique()\n",
    "#     color_sequence = pio.templates['plotly_white']['layout']['colorway']\n",
    "#     color_dict = {a: b for a, b in zip(asset_class_list, color_sequence)}\n",
    "#     return {**color_dict, **map}\n",
    "\n",
    "# color_sequence = override_color_sequence({'Portfolio': 'black', 'Theme': 'red'})\n",
    "\n",
    "\n",
    "def px_scatter(df, x, y, text=None, color=None, size=None, symbol=None, color_sequence_override=None):\n",
    "    args_format = {'template': 'plotly_white', 'height': 750, 'width': 750}\n",
    "\n",
    "    # TODO: Refactor to get_color_map() function\n",
    "    if (color is None) or (color_sequence_override is None):\n",
    "        color_discrete_map = None\n",
    "    else:\n",
    "        color_keys = df[color].unique()\n",
    "        color_sequence = pio.templates[args_format['template']]['layout']['colorway']\n",
    "        color_dict = {a: b for a, b in zip(color_keys, color_sequence)}\n",
    "        color_discrete_map = {**color_dict, **color_sequence_override}\n",
    "\n",
    "    fig = (px.scatter(df, x=x, y=y, text=text, color=color, size=size, symbol=symbol, \n",
    "                      color_discrete_map=color_discrete_map,\n",
    "                      size_max=20,\n",
    "                      **args_format)\n",
    "           .update_traces(textposition='middle right', textfont_color='lightgray')\n",
    "           .update_layout(legend_title_text=None)\n",
    "           )\n",
    "\n",
    "    def get_trace_color(trace, legendgroup):\n",
    "        return trace.marker.color if trace.legendgroup in legendgroup else 'lightgray'\n",
    "\n",
    "    asset_class_list = color_sequence_override.keys()\n",
    "    fig.for_each_trace(lambda t: t.update(textfont_color = get_trace_color(t, asset_class_list)))\n",
    "\n",
    "    return fig\n",
    "\n",
    "\n",
    "color_map_override = {'Portfolio': 'black', \n",
    "                      'Theme':     'red'}\n",
    "fig = (px_scatter(df, x='corr', y='zscore', text='asset', color='asset_class', #size='size',\n",
    "                 color_sequence_override = color_map_override)\n",
    "       .update_layout(yaxis_title='Return on Fed Announcement (std)',\n",
    "                      xaxis_title='Correlation with 10-year bond'\n",
    "                      ))\n",
    "\n",
    "fig.add_shape(\n",
    "    type=\"line\",\n",
    "    x0=df[df['asset'] == 'IEF']['corr'].values[0] * -0.6,\n",
    "    y0=df[df['asset'] == 'IEF']['zscore'].values[0] * -0.6,\n",
    "    x1=df[df['asset'] == 'IEF']['corr'].values[0],\n",
    "    y1=df[df['asset'] == 'IEF']['zscore'].values[0],\n",
    "    line=dict(color=\"lightgray\", width=2)\n",
    ")\n",
    "\n",
    "\n",
    "fig.show(renderer='png')\n",
    "fig.write_html('fed_feedback.html')\n",
    "fig.write_html('fed_feedback.png')\n"
   ]
  },
  {
   "cell_type": "markdown",
   "metadata": {},
   "source": [
    "# Draw correlation time series"
   ]
  },
  {
   "cell_type": "code",
   "execution_count": null,
   "metadata": {},
   "outputs": [],
   "source": [
    "df1  = factor_data.sel(asset='SPY', asset_1='IEF', date=slice('2024', None)).corr.to_pandas().T.stack()\n",
    "\n",
    "from chart import draw_correlation\n",
    "\n",
    "fig1 = draw_correlation(factor_data.corr.sel(date=slice('2020', None)), 'SPY', 'IEF', [21, 63, 126, 252])\n",
    "fig1.show(renderer='png')\n",
    "fig.write_html('corr_ts.html')\n",
    "fig.write_html('corr_ts.png')\n"
   ]
  }
 ],
 "metadata": {
  "kernelspec": {
   "display_name": "venv-python312",
   "language": "python",
   "name": "python3"
  },
  "language_info": {
   "codemirror_mode": {
    "name": "ipython",
    "version": 3
   },
   "file_extension": ".py",
   "mimetype": "text/x-python",
   "name": "python",
   "nbconvert_exporter": "python",
   "pygments_lexer": "ipython3",
   "version": "3.12.4"
  }
 },
 "nbformat": 4,
 "nbformat_minor": 2
}
