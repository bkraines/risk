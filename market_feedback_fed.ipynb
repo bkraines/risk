{
 "cells": [
  {
   "cell_type": "code",
   "execution_count": 1,
   "metadata": {},
   "outputs": [],
   "source": [
    "from typing import Optional, List\n",
    "from importlib import reload\n",
    "\n",
    "from numpy import sqrt\n",
    "import pandas as pd\n",
    "import xarray as xr\n",
    "xr.set_options(keep_attrs=True,\n",
    "               display_expand_data=False)\n",
    "\n",
    "import plotly.express as px\n",
    "import plotly.io as pio\n",
    "\n",
    "from data import build_dataset_with_composites, get_factor_master, build_factor_data2\n",
    "from stats import total_return"
   ]
  },
  {
   "cell_type": "code",
   "execution_count": null,
   "metadata": {},
   "outputs": [],
   "source": [
    "halflifes = [21, 63, 126, 252]\n",
    "# factor_data = build_dataset_with_composites(halflifes)\n",
    "factor_data = build_factor_data2(halflifes)"
   ]
  },
  {
   "cell_type": "code",
   "execution_count": 3,
   "metadata": {},
   "outputs": [],
   "source": [
    "\n",
    "# from data import * \n",
    "\n",
    "# factor_master = get_factor_master(sheet_name='read')\n",
    "# asset_list = factor_master.loc[factor_master['composite'] == 0].index.to_list()\n",
    "# asset_data = get_yf_returns(asset_list)\n",
    "\n"
   ]
  },
  {
   "cell_type": "code",
   "execution_count": 4,
   "metadata": {},
   "outputs": [],
   "source": [
    "# import yfinance as yf\n",
    "# asset_data_df = yf.download(asset_list)\n"
   ]
  },
  {
   "cell_type": "code",
   "execution_count": 5,
   "metadata": {},
   "outputs": [],
   "source": [
    "def px_scatter(df, x, y, color_map_override=None, **kwargs):\n",
    "    \"\"\"\n",
    "    Create a scatter plot using Plotly with customized color mapping and formatting.\n",
    "    Parameters\n",
    "    ----------\n",
    "    df : pandas.DataFrame\n",
    "        The data frame containing the data to be plotted.\n",
    "    x : str\n",
    "        The column name to be used for the x-axis.\n",
    "    y : str\n",
    "        The column name to be used for the y-axis.\n",
    "    color_map_override : dict, optional\n",
    "        A dictionary to override the default color sequence for specific categories.\n",
    "    **kwargs : dict\n",
    "        Additional keyword arguments to be passed to the plotly.express.scatter function. Typical arguments include:\n",
    "        `text`, `color`, `size`, and `symbol`, which contain column names for those attributes.\n",
    "    Returns\n",
    "    -------\n",
    "    plotly.graph_objs._figure.Figure\n",
    "        The generated scatter plot figure.\n",
    "    Notes\n",
    "    -----\n",
    "    The function uses the 'plotly_white' template by default and sets the figure height and width to 750.\n",
    "    If 'color' is provided in kwargs and 'color_map_override' is not None, a custom color mapping is applied.\n",
    "    The text font color for each trace is updated based on the provided color map override.\n",
    "    \"\"\"\n",
    "    args_format = {'template': 'plotly_white', 'height': 750, 'width': 750}\n",
    "    \n",
    "    color = kwargs.get('color')\n",
    "    # TODO: Refactor to get_color_map() function\n",
    "    if (color is None) or (color_map_override is None):\n",
    "        color_discrete_map = None\n",
    "    else:\n",
    "        color_keys = df[color].unique()\n",
    "        color_sequence = pio.templates[args_format['template']]['layout']['colorway']\n",
    "        color_dict = {a: b for a, b in zip(color_keys, color_sequence)}\n",
    "        color_discrete_map = {**color_dict, **color_map_override}\n",
    "\n",
    "    fig = (px.scatter(df, x=x, y=y, **kwargs, #text=text, color=color, size=size, symbol=symbol, \n",
    "                      color_discrete_map=color_discrete_map,\n",
    "                      size_max=20,\n",
    "                      **args_format)\n",
    "           .update_traces(textposition='middle right', textfont_color='lightgray')\n",
    "           .update_layout(legend_title_text=None)\n",
    "           )\n",
    "\n",
    "    def get_trace_color(trace, legendgroup):\n",
    "        return trace.marker.color if trace.legendgroup in legendgroup else 'lightgray'\n",
    "\n",
    "    asset_class_list = color_map_override.keys()\n",
    "    fig.for_each_trace(lambda t: t.update(textfont_color = get_trace_color(t, asset_class_list)))\n",
    "\n",
    "    return fig"
   ]
  },
  {
   "cell_type": "code",
   "execution_count": null,
   "metadata": {},
   "outputs": [],
   "source": [
    "return_start = '2024-12-31'\n",
    "return_end = '2025-01-10'\n",
    "\n",
    "factor_data['cret'].sel(date=return_end) / factor_data['cret'].sel(date=return_start) - 1\n",
    "\n",
    "ndays = factor_data['cret'].sel(date=slice(return_start, return_end)).date.size - 1\n",
    "ndays\n",
    "\n",
    "factor_data['cret'].sel(date=slice(return_start, return_end)).date.values"
   ]
  },
  {
   "cell_type": "code",
   "execution_count": null,
   "metadata": {},
   "outputs": [],
   "source": [
    "p = factor_data['cret'].to_pandas()\n",
    "p0 = p.loc[return_start]\n",
    "p1 = p.loc[return_end]\n",
    "\n",
    "p1['SPY'], p0['SPY']\n",
    "\n",
    "# p0 = factor_data['cret'].sel(date=return_start)\n",
    "# p1 = factor_data['cret'].sel(date=return_end)"
   ]
  },
  {
   "cell_type": "code",
   "execution_count": null,
   "metadata": {},
   "outputs": [],
   "source": []
  },
  {
   "cell_type": "code",
   "execution_count": null,
   "metadata": {},
   "outputs": [],
   "source": [
    "cret = factor_data['cret']\n",
    "date_start = return_start\n",
    "date_end = return_end\n",
    "\n",
    "cret_interval = cret.sel(date=slice(date_start, date_end)).isel(date=[0, -1])\n",
    "factor_master = pd.DataFrame(cret.factor_name.attrs).T\n",
    "diffusion_map = factor_master['diffusion_type']\n",
    "# multiplier_map = factor_master['multiplier']\n",
    "# return calculate_return_set(cret_interval.to_pandas(), diffusion_map, multiplier_map)\n",
    "\n",
    "factor_master"
   ]
  },
  {
   "cell_type": "code",
   "execution_count": null,
   "metadata": {},
   "outputs": [],
   "source": [
    "from stats import calculate_returns_set, total_return\n",
    "\n",
    "# def total_return(cret, date_start, date_end, diffusion_map=None, multiplier_map=None):\n",
    "#     if diffusion_map is None and multiplier_map is None and cret.factor_name.attrs is not None:\n",
    "#         factor_master  = pd.DataFrame(cret.factor_name.attrs).T\n",
    "#         diffusion_map  = factor_master['diffusion_type']\n",
    "#         multiplier_map = factor_master['multiplier']\n",
    "#     cret_interval = cret.sel(date=slice(date_start, date_end)).isel(date=[0, -1]).to_pandas()\n",
    "#     periods=1\n",
    "#     return calculate_returns_set(cret_interval, periods, diffusion_map, multiplier_map).iloc[-1]\n",
    "\n",
    "total_return(factor_data['cret'], return_start, return_end).sort_values(ascending=False).plot(kind='barh')"
   ]
  },
  {
   "cell_type": "code",
   "execution_count": null,
   "metadata": {},
   "outputs": [],
   "source": [
    "# return_title =  'Return on Fed Announcement (std)'\n",
    "# return_date = '2024-12-18'\n",
    "# return_date2 = '2024-12-19'\n",
    "\n",
    "# return_title =  'Return on Jan 10 (std)'\n",
    "# return_date = '2025-01-10'\n",
    "# return_date2 = None\n",
    "\n",
    "\n",
    "def format_date(date_str):\n",
    "    return pd.to_datetime(date_str).strftime('%m/%d')\n",
    "\n",
    "return_start = '2024-12-31'\n",
    "return_end = '2025-01-28'\n",
    "return_title = f'Month-to-Date Return (std, as of {format_date(return_end)})'\n",
    "\n",
    "return_start = '2025-01-21'\n",
    "return_end = '2025-01-28'\n",
    "return_title = f'5-day Return (std, {format_date(return_start)} - {format_date(return_end)})'\n",
    "\n",
    "# return_title = 'Return on Jan 10 (std)'\n",
    "# return_start = '2024-01-08'\n",
    "# return_end = '2025-01-10'\n",
    "\n",
    "corr_type = 63\n",
    "corr_asset = 'IEF'\n",
    "vol_type = 63\n",
    "\n",
    "# ndays = 1 if return_date2 is None else 2\n",
    "# corr = factor_data.corr.shift(date=1).sel(date=return_date, corr_type=corr_type, asset_1=corr_asset).to_series()\n",
    "# vol = factor_data.vol.shift(date=1).sel(date=return_date, vol_type=vol_type).to_series() * sqrt(ndays / 252)\n",
    "# ret = (factor_data.ret.sel(date=return_date).to_series() * 100) \n",
    "# # if return_date2 is not None:\n",
    "# #     ret += (factor_data.ret.sel(date=return_date2).to_series() * 100)\n",
    "# zscore = ret.div(vol).rename('zscore')\n",
    "\n",
    "ndays = factor_data['cret'].sel(date=slice(return_start, return_end)).date.size - 1  # - 1\n",
    "# corr = factor_data.corr.shift(date=1).sel(date=return_start, corr_type=corr_type, factor_name_1=corr_asset).to_series()\n",
    "corr = (factor_data['corr']\n",
    "        .shift(date=1)\n",
    "        .sel(corr_type=corr_type, factor_name_1=corr_asset)\n",
    "        .sel(date=return_start, method='ffill')\n",
    "        .to_series()\n",
    "        )\n",
    "vol = (factor_data['vol']\n",
    "       .shift(date=1)\n",
    "       .sel(vol_type=vol_type)\n",
    "       .sel(date=return_start, method='ffill')\n",
    "       .to_series()\n",
    "       .mul(sqrt(ndays / 252) * 100)\n",
    "       )\n",
    "# ret = (factor_data['cret'].sel(date=return_end) / factor_data['cret'].sel(date=return_start) - 1).to_series() * 100\n",
    "# ret = (factor_data['cret'].sel(date=return_end) - factor_data['cret'].sel(date=return_start)).to_series() * 100\n",
    "ret = total_return(factor_data['cret'], return_start, return_end)\n",
    "# ret = calculate_returns_set(factor_data['cret'].to_pandas(),\n",
    "#                             ndays,\n",
    "#                             )\n",
    "\n",
    "# ret = (factor_data.ret.sel(date=return_date).to_series() * 100) \n",
    "# if return_date2 is not None:\n",
    "#     ret += (factor_data.ret.sel(date=return_date2).to_series() * 100)\n",
    "zscore = ret.div(vol).rename('zscore')\n",
    "\n",
    "\n",
    "\n",
    "factor_master = get_factor_master()\n",
    "\n",
    "df = (pd.concat([corr, zscore, factor_master.asset_class, factor_master.hyper_factor], axis=1)\n",
    "      .replace('MWTIX', 'TCW')\n",
    "      .rename_axis('asset').reset_index()\n",
    "      .replace('MWTIX', 'TCW')\n",
    "    #   .assign(size = lambda df: df['hyper_factor'].apply(lambda x: 10 if x == 1 else 1).astype('float'))\n",
    "      )\n",
    "\n",
    "\n",
    "# TODO: REMOVE THIS OVERRIDE:\n",
    "df = df.query('asset != \"TCW\"') #.query('asset != \"FXE\"')\n",
    "# df['textcolor'] = ['black' if asset == 'SPY' else 'lightgray' for asset in df['asset']]\n",
    "\n",
    "# def override_color_sequence(map):\n",
    "#     asset_class_list = df.asset_class.unique()\n",
    "#     color_sequence = pio.templates['plotly_white']['layout']['colorway']\n",
    "#     color_dict = {a: b for a, b in zip(asset_class_list, color_sequence)}\n",
    "#     return {**color_dict, **map}\n",
    "\n",
    "# color_sequence = override_color_sequence({'Portfolio': 'black', 'Theme': 'red'})\n",
    "\n",
    "color_map_override = {'Portfolio': 'black', \n",
    "                      'Theme':     'red'}\n",
    "fig = (px_scatter(df, x='corr', y='zscore', text='asset', color='asset_class', #size='size',\n",
    "                 color_map_override = color_map_override)\n",
    "       .update_layout(yaxis_title=return_title,\n",
    "                      xaxis_title=f'Correlation with {corr_asset}'\n",
    "                      ))\n",
    "# from chart import px_format\n",
    "# fig = px_format(fig, \n",
    "#                 x_title='Correlation with 10-year bond',\n",
    "#                 y_title='Return on Fed Announcement (std)')\n",
    "\n",
    "corr_min = df['corr'].min()\n",
    "fig.add_shape(\n",
    "    type=\"line\",\n",
    "    x0=df[df['asset'] == 'IEF']['corr'].values[0] * corr_min,\n",
    "    y0=df[df['asset'] == 'IEF']['zscore'].values[0] * corr_min,\n",
    "    x1=df[df['asset'] == 'IEF']['corr'].values[0],\n",
    "    y1=df[df['asset'] == 'IEF']['zscore'].values[0],\n",
    "    line=dict(color=\"lightgray\", width=2)\n",
    ")\n",
    "\n",
    "\n",
    "fig.show(renderer='png')\n",
    "fig.write_html('fed_feedback.html')\n",
    "fig.write_image('fed_feedback.png')\n"
   ]
  },
  {
   "cell_type": "code",
   "execution_count": null,
   "metadata": {},
   "outputs": [],
   "source": [
    "factor_data.corr.shift(date=1).sel(corr_type=corr_type, factor_name_1=corr_asset, date=slice(return_start, None)).isel(date=0) #, corr_type=corr_type, factor_name_1=corr_asset).to_series()"
   ]
  },
  {
   "cell_type": "code",
   "execution_count": 12,
   "metadata": {},
   "outputs": [],
   "source": [
    "# import pandas as pd\n",
    "\n",
    "# # Sample date-indexed DataFrame\n",
    "# data = {'value': [10, 20, 30, 40, 50, 60, 70]}\n",
    "# index = pd.to_datetime([\n",
    "#     '2024-01-05', '2024-01-20', '2024-02-10', \n",
    "#     '2024-02-28', '2024-03-15', '2024-03-25', '2024-03-30'\n",
    "# ])\n",
    "# df = pd.DataFrame(data, index=index)\n",
    "\n",
    "# # Resample to monthly, keeping last available date\n",
    "# df_resampled = df.resample('M').last()\n",
    "\n",
    "# print(df_resampled)"
   ]
  },
  {
   "cell_type": "code",
   "execution_count": 13,
   "metadata": {},
   "outputs": [],
   "source": [
    "# import pandas as pd\n",
    "\n",
    "# # Sample function to calculate returns (customize as needed)\n",
    "# def calculate_returns(group):\n",
    "#     \"\"\"Apply custom logic to each month.\"\"\"\n",
    "#     return group.iloc[-1] / group.iloc[0] - 1  # Example: Simple return calculation\n",
    "\n",
    "# # Sample date-indexed DataFrame\n",
    "# data = {'value': [10, 20, 30, 40, 50, 60, 70]}\n",
    "# index = pd.to_datetime([\n",
    "#     '2024-01-05', '2024-01-20', '2024-02-10', \n",
    "#     '2024-02-28', '2024-03-15', '2024-03-25', '2024-03-30'\n",
    "# ])\n",
    "# df = pd.DataFrame(data, index=index)\n",
    "\n",
    "# # Group by year-month and apply the function\n",
    "# df_resampled = df.groupby(df.index.to_period('M')).apply(calculate_returns)\n",
    "\n",
    "# # Convert index back to datetime for usability\n",
    "# df_resampled.index = df_resampled.index.to_timestamp()\n",
    "\n",
    "# print(df_resampled)\n"
   ]
  },
  {
   "cell_type": "code",
   "execution_count": 14,
   "metadata": {},
   "outputs": [],
   "source": [
    "# from stats import calculate_returns_set\n",
    "\n",
    "# factor_data['cret'].to_pandas().resample('ME').last()\n",
    "# factor_master['diffusion_type']\n",
    "# # factor_data['cret'].to_pandas().resample('ME').apply(calculate_returns_set, )\n",
    "# calculate_returns_set(factor_data['cret'].to_pandas().resample('ME').last(),\n",
    "#                       diffusion_map=factor_master['diffusion_type'], \n",
    "#                       multiplier_map=factor_master['multiplier'])"
   ]
  },
  {
   "cell_type": "code",
   "execution_count": null,
   "metadata": {},
   "outputs": [],
   "source": [
    "vol = factor_data.vol.shift(date=1).sel(date=return_start, vol_type=vol_type).to_series() * sqrt(ndays / 252) * 100\n",
    "# ret = (factor_data['cret'].sel(date=return_end) / factor_data['cret'].sel(date=return_start) - 1).to_series() * 100\n",
    "ret = total_return(factor_data['cret'], return_start, return_end)\n",
    "\n",
    "vol['SPY'] "
   ]
  },
  {
   "cell_type": "code",
   "execution_count": null,
   "metadata": {},
   "outputs": [],
   "source": [
    "vol.loc['^N225']\n",
    "ret.loc['^N225']\n",
    "factor_data['cret'].sel(date=return_end, factor_name='^N225')"
   ]
  },
  {
   "cell_type": "code",
   "execution_count": null,
   "metadata": {},
   "outputs": [],
   "source": [
    "f = '^N225'\n",
    "f = 'SPY'\n",
    "\n",
    "\n",
    "import matplotlib.pyplot as plt\n",
    "factor_data.vol.sel(factor_name='^N225', vol_type=63).plot()\n",
    "plt.figure()  # Create a new figure for the next plot\n",
    "factor_data.vol.sel(factor_name='SPY', vol_type=63).plot()\n",
    "\n",
    "factor_data"
   ]
  },
  {
   "cell_type": "markdown",
   "metadata": {},
   "source": [
    "# Correlation Matrix"
   ]
  },
  {
   "cell_type": "code",
   "execution_count": null,
   "metadata": {},
   "outputs": [],
   "source": [
    "factor_master.columns"
   ]
  },
  {
   "cell_type": "code",
   "execution_count": 19,
   "metadata": {},
   "outputs": [],
   "source": [
    "def sort_assets(corr: pd.DataFrame, sorting_factor: str, factor_master: pd.DataFrame) -> pd.Index:\n",
    "    df = (corr[[sorting_factor]]\n",
    "          .join(factor_master[['asset_class', 'hyper_factor']])\n",
    "          .assign(is_theme=lambda df: df['asset_class'] == 'Theme')\n",
    "          .assign(is_sorting_factor=lambda df: df.index == sorting_factor)\n",
    "          )\n",
    "    sorted_index = df.sort_values(by=['is_sorting_factor', 'hyper_factor', 'is_theme', sorting_factor], \n",
    "                                  ascending=[False, False, True, False], key=abs).index\n",
    "    return sorted_index\n"
   ]
  },
  {
   "cell_type": "code",
   "execution_count": null,
   "metadata": {},
   "outputs": [],
   "source": []
  },
  {
   "cell_type": "code",
   "execution_count": null,
   "metadata": {},
   "outputs": [],
   "source": [
    "date_latest = factor_data.date.max().values\n",
    "corr = factor_data.corr.sel(corr_type=corr_type, date=date_latest).to_pandas()\n",
    "\n",
    "corr\n",
    "\n",
    "\n",
    "\n",
    "def format_corr_matrix(corr: pd.DataFrame): # -> pd.io.formats.style.Styler:\n",
    "    \"\"\"\n",
    "    Format the correlation matrix by adding asset class information and sorting.\n",
    "    \n",
    "    Parameters\n",
    "    ----------\n",
    "    corr : pd.DataFrame\n",
    "        The correlation matrix with assets as both rows and columns.\n",
    "    \n",
    "    Returns\n",
    "    -------\n",
    "    pd.io.formats.style.Styler\n",
    "        The formatted correlation matrix as a pandas Styler object.\n",
    "    \"\"\"\n",
    "    # Sort the correlation matrix by asset class\n",
    "    corr = corr\n",
    "    \n",
    "    # Style the correlation matrix\n",
    "    styled_corr = corr.style.background_gradient(cmap='coolwarm', vmin=-1, vmax=1).format(precision=2)\n",
    "    \n",
    "    return styled_corr\n",
    "\n",
    "# Apply the function to format the correlation matrix\n",
    "formatted_corr = format_corr_matrix(corr) #, factor_master['asset_class'])\n",
    "formatted_corr\n",
    "\n"
   ]
  },
  {
   "cell_type": "code",
   "execution_count": null,
   "metadata": {},
   "outputs": [],
   "source": [
    "date_t0 = factor_data.date.max().values\n",
    "date_t1  =factor_data.date[-63].values\n",
    "\n",
    "corr_t0 = factor_data.corr.sel(corr_type=corr_type, date=date_t0).to_pandas()\n",
    "corr_t1 = factor_data.corr.sel(corr_type=corr_type, date=date_t1).to_pandas()\n",
    "corr_diff = corr_t0 - corr_t1\n",
    "sorted_index = sort_assets(corr_t0, '2s10s', factor_master)\n",
    "sorted_index_chg = sort_assets(corr_diff, '2s10s', factor_master)\n",
    "\n",
    "format_corr_matrix(corr.loc[sorted_index, sorted_index])\n",
    "format_corr_matrix(corr_diff.loc[sorted_index_chg, sorted_index_chg])"
   ]
  },
  {
   "cell_type": "markdown",
   "metadata": {},
   "source": [
    "# Improve return calcuation"
   ]
  },
  {
   "cell_type": "code",
   "execution_count": null,
   "metadata": {},
   "outputs": [],
   "source": [
    "factor_data.ret.sel(asset='IWM').plot()"
   ]
  },
  {
   "cell_type": "code",
   "execution_count": null,
   "metadata": {},
   "outputs": [],
   "source": [
    "from util import xr_pct_change\n",
    "\n",
    "xr_pct_change(factor_data.cret.dropna('date'), 'date', 1000)"
   ]
  },
  {
   "cell_type": "code",
   "execution_count": 15,
   "metadata": {},
   "outputs": [],
   "source": [
    "return_date = '2024-12-18'\n",
    "return_date2 = '2024-12-19'\n",
    "corr_type = 63\n",
    "corr_asset = 'IEF'\n",
    "vol_type = 63\n",
    "\n",
    "corr = factor_data.corr.shift(date=1).sel(date=return_date, corr_type=corr_type, asset_1=corr_asset).to_series()\n",
    "vol = factor_data.vol.shift(date=1).sel(date=return_date, vol_type=vol_type).to_series() * sqrt(2 / 252)\n",
    "ret = (factor_data.ret.sel(date=return_date).to_series() * 100) + (factor_data.ret.sel(date=return_date2).to_series() * 100)\n",
    "zscore = ret.div(vol).rename('zscore')\n",
    "\n",
    "factor_master = get_factor_master()\n",
    "\n",
    "df = (pd.concat([corr, zscore, factor_master.asset_class, factor_master.hyper_factor], axis=1)\n",
    "      .replace('MWTIX', 'TCW')\n",
    "      .rename_axis('asset').reset_index()\n",
    "      .replace('MWTIX', 'TCW')\n",
    "    #   .assign(size = lambda df: df['hyper_factor'].apply(lambda x: 10 if x == 1 else 1).astype('float'))\n",
    "      )"
   ]
  },
  {
   "cell_type": "markdown",
   "metadata": {},
   "source": [
    "# Draw correlation time series"
   ]
  },
  {
   "cell_type": "code",
   "execution_count": null,
   "metadata": {},
   "outputs": [],
   "source": [
    "asset1 = 'SPY'\n",
    "asset2 = 'IEF'\n",
    "start_date = '2020'\n",
    "start_date = None\n",
    "\n",
    "\n",
    "df1  = factor_data.sel(asset=asset1, asset_1=asset2, date=slice('2024', None)).corr.to_pandas().T.stack()\n",
    "\n",
    "from chart import draw_correlation, draw_volatility\n",
    "\n",
    "fig1 = draw_correlation(factor_data.corr.sel(date=slice(start_date, None)), asset1, asset2, [21, 63, 126, 252])\n",
    "fig1.show(renderer='png')\n",
    "\n",
    "fig2 = draw_volatility(factor_data.vol.sel(date=slice(start_date, None)), asset1, [21, 63, 126, 252])\n",
    "fig3 = draw_volatility(factor_data.vol.sel(date=slice(start_date, None)), asset2, [21, 63, 126, 252])\n",
    "\n",
    "fig2.show()\n",
    "fig3.show()\n",
    "\n",
    "fig1.show(renderer='png')\n",
    "# fig1.write_html('corr_ts.html')\n",
    "# fig1.write_image('corr_ts.png')\n"
   ]
  },
  {
   "cell_type": "code",
   "execution_count": null,
   "metadata": {},
   "outputs": [],
   "source": [
    "start_date = '2015'\n",
    "start_date = None\n",
    "\n",
    "corr_pairs = [('SPY', 'IEF'),\n",
    "            #   ('SHY', 'IEF'), \n",
    "            #   ('2s10s', 'SPY'), \n",
    "            #   ('2s10s', 'IEF'), \n",
    "            #   ('2s10s', 'HYGH'), \n",
    "            #   ('2s10s', 'HYG'), \n",
    "            #   ('2s10s', 'LQD'), \n",
    "              ('2s10s', 'LQDH'), \n",
    "            #   ('2s10s', 'VMBS'), \n",
    "            #   ('2s10s', 'AGNC')\n",
    "              ]\n",
    "\n",
    "for asset1, asset2 in corr_pairs:\n",
    "    fig = draw_correlation(factor_data.corr.sel(date=slice(start_date, None)), asset1, asset2, [21, 63, 126, 252])\n",
    "    fig.show(renderer='png')\n",
    "    # fig.write_html(f'corr_{asset1}_{asset2}.html')\n",
    "    # fig.write_image(f'corr_{asset1}_{asset2}.png')"
   ]
  },
  {
   "cell_type": "code",
   "execution_count": 15,
   "metadata": {},
   "outputs": [],
   "source": [
    "fig1.write_html('corr_ts.html')\n",
    "fig1.write_image('corr_ts.png')\n",
    "\n",
    "fig.write_html('fed_feedback.html')\n",
    "fig.write_image('fed_feedback.png')"
   ]
  },
  {
   "cell_type": "code",
   "execution_count": null,
   "metadata": {},
   "outputs": [],
   "source": [
    "# factor_data.ret.sel(asset=[asset1, asset2]).plot(hue='asset')\n",
    "factor_data.ret.sel(asset='IWM').plot()\n",
    "factor_data.ret.sel(asset='IEF').plot()\n",
    "factor_data.ret.sel(asset='SHY').plot()\n",
    "\n",
    "factor_data.ret.sel(asset='2s10s').plot()"
   ]
  }
 ],
 "metadata": {
  "kernelspec": {
   "display_name": "venv-python312",
   "language": "python",
   "name": "python3"
  },
  "language_info": {
   "codemirror_mode": {
    "name": "ipython",
    "version": 3
   },
   "file_extension": ".py",
   "mimetype": "text/x-python",
   "name": "python",
   "nbconvert_exporter": "python",
   "pygments_lexer": "ipython3",
   "version": "3.12.4"
  }
 },
 "nbformat": 4,
 "nbformat_minor": 2
}
