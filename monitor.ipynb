{
 "cells": [
  {
   "cell_type": "code",
   "execution_count": null,
   "metadata": {},
   "outputs": [],
   "source": [
    "from typing import List, Union\n",
    "\n",
    "import pandas as pd\n",
    "import xarray as xr\n",
    "xr.set_options(keep_attrs=True,\n",
    "               display_expand_data=False)\n",
    "\n",
    "import plotly.express as px\n",
    "\n",
    "import yfinance as yf\n",
    "\n",
    "from risk_data import get_factor_data, get_factor_master\n",
    "from risk_chart import draw_volatility, draw_correlation\n"
   ]
  },
  {
   "cell_type": "code",
   "execution_count": null,
   "metadata": {},
   "outputs": [],
   "source": [
    "# factor_data = get_factor_data(read_cache=False)\n",
    "factor_master = get_factor_master()\n"
   ]
  },
  {
   "cell_type": "code",
   "execution_count": null,
   "metadata": {},
   "outputs": [],
   "source": [
    "halflifes = [21, 63, 126, 252, 512]\n",
    "data = get_factor_data()\n",
    "factor_master = pd.DataFrame(data['factor_name'].attrs).T\n",
    "factor_list = factor_master.index.to_list()"
   ]
  },
  {
   "cell_type": "code",
   "execution_count": null,
   "metadata": {},
   "outputs": [],
   "source": [
    "draw_volatility(data.vol, factor_name='QQQ', vol_type=[21, 63, 126, 252]).show()\n",
    "draw_correlation(data.corr, factor_name='QQQ', factor_name_1='IWM', corr_type=[21, 63, 126, 252]).show()"
   ]
  },
  {
   "cell_type": "code",
   "execution_count": null,
   "metadata": {},
   "outputs": [],
   "source": [
    "import matplotlib.pyplot as plt\n",
    "\n",
    "data.vol.sel(factor_name=['IWM', 'QQQ'], vol_type=[21, 63]).plot(hue='vol_type', col='factor_name')\n",
    "plt.show()\n",
    "\n",
    "data.corr.sel(factor_name='IWM', factor_name_1='QQQ', corr_type=[21, 63]).plot(hue='corr_type')\n",
    "plt.show()\n",
    "\n",
    "corr_list = ['SPY', 'QQQ', 'IWM']\n",
    "data.corr.sel(date=data.date.max(), factor_name=corr_list, factor_name_1=corr_list, corr_type=63).to_pandas()"
   ]
  },
  {
   "cell_type": "code",
   "execution_count": null,
   "metadata": {},
   "outputs": [],
   "source": [
    "data"
   ]
  },
  {
   "cell_type": "markdown",
   "metadata": {},
   "source": [
    "# Charting scratch"
   ]
  },
  {
   "cell_type": "code",
   "execution_count": null,
   "metadata": {},
   "outputs": [],
   "source": [
    "def format_plotly_title(title: str, subtitles: List[str]) -> dict:\n",
    "    \"\"\"\n",
    "    Format a title and a list of subtitles for a Plotly chart.\n",
    "\n",
    "    Parameters\n",
    "    ----------\n",
    "    title : str\n",
    "        The main title of the chart.\n",
    "    subtitles : List[str]\n",
    "        A list of subtitles for the chart.\n",
    "\n",
    "    Returns\n",
    "    -------\n",
    "    dict\n",
    "        A dictionary containing the formatted title and subtitles for Plotly.\n",
    "    \"\"\"\n",
    "    # subtitle_text = \"<br>\".join([f\"<sup>{subtitle}</sup>\" for subtitle in subtitles])\n",
    "    subtitle_text = f'<span style=\"font size: 12px;\">{\"<br>\".join(subtitles)}</span>'\n",
    "    return {\n",
    "        'text': f'{title}<br><span style=\"font size: 12px;\">{\"<br>\".join(subtitles)}</span>',\n",
    "        # 'x': 0.5,\n",
    "        # 'xanchor': 'center',\n",
    "        # 'yanchor': 'top'\n",
    "    }\n",
    "\n",
    "# Example usage:\n",
    "# formatted_title = format_plotly_title(\"Main Title\", [\"Subtitle 1\", \"Subtitle 2\"])\n",
    "# fig.update_layout(title=formatted_title)\n",
    "# fig.show()\n",
    "# formatted_title"
   ]
  },
  {
   "cell_type": "code",
   "execution_count": null,
   "metadata": {},
   "outputs": [],
   "source": [
    "from typing import Union\n",
    "\n",
    "def format_plotly_title(title: str, subtitles: Union[str, List[str]]) -> dict:\n",
    "    \"\"\"\n",
    "    Format a title and a list of subtitles for a Plotly chart.\n",
    "\n",
    "    Parameters\n",
    "    ----------\n",
    "    title : str\n",
    "        The main title of the chart.\n",
    "    subtitles : Union[str, List[str]]\n",
    "        A single subtitle or a list of subtitles for the chart.\n",
    "\n",
    "    Returns\n",
    "    -------\n",
    "    dict\n",
    "        A dictionary containing the formatted title and subtitles for Plotly.\n",
    "    \"\"\"\n",
    "    if isinstance(subtitles, str):\n",
    "        subtitles = [subtitles]\n",
    "    subtitle_text = f'<span style=\"font size: 12px;\">{\"<br>\".join(subtitles)}</span>'\n",
    "    return {\n",
    "        'text': f'{title}<br><span style=\"font size: 12px;\">{\"<br>\".join(subtitles)}</span>',\n",
    "    }\n",
    "\n",
    "# # Example usage:\n",
    "# formatted_title = format_plotly_title(\"Main Title\", \"Single Subtitle\")\n",
    "# fig.update_layout(title=formatted_title)\n",
    "# fig.show()\n",
    "# formatted_title\n"
   ]
  },
  {
   "cell_type": "code",
   "execution_count": null,
   "metadata": {},
   "outputs": [],
   "source": [
    "def plotly_line_chart(da: xr.DataArray, x: str, y: str, color: str = None, title: str = \"Line Chart\") -> None:\n",
    "    \"\"\"\n",
    "    Produce a Plotly Express line chart given an xarray DataArray.\n",
    "\n",
    "    Parameters\n",
    "    ----------\n",
    "    da : xr.DataArray\n",
    "        The input xarray DataArray.\n",
    "    x : str\n",
    "        The name of the dimension to use for the x-axis.\n",
    "    y : str\n",
    "        The name of the dimension to use for the y-axis.\n",
    "    color : str, optional\n",
    "        The name of the dimension to use for color grouping, by default None.\n",
    "    title : str, optional\n",
    "        The title of the chart, by default \"Line Chart\".\n",
    "\n",
    "    Returns\n",
    "    -------\n",
    "    None\n",
    "    \"\"\"\n",
    "    df = da.to_series().reset_index()\n",
    "    fig = px.line(df, x=x, y=y, color=color, title=title, template='plotly_white')\n",
    "    fig.show()\n",
    "\n",
    "# Example usage:\n",
    "# plotly_line_chart(ds.vol, x='date', y='vol', color='vol_type', title='Volatility Over Time')"
   ]
  },
  {
   "cell_type": "code",
   "execution_count": null,
   "metadata": {},
   "outputs": [],
   "source": [
    "da = data.vol.sel(factor_name='QQQ') / data.vol.sel(factor_name='IWM')\n",
    "# data.ret.assign_coordinate()\n",
    "da.plot()"
   ]
  }
 ],
 "metadata": {
  "kernelspec": {
   "display_name": "venv-bklm",
   "language": "python",
   "name": "python3"
  },
  "language_info": {
   "codemirror_mode": {
    "name": "ipython",
    "version": 3
   },
   "file_extension": ".py",
   "mimetype": "text/x-python",
   "name": "python",
   "nbconvert_exporter": "python",
   "pygments_lexer": "ipython3",
   "version": "3.11.9"
  }
 },
 "nbformat": 4,
 "nbformat_minor": 2
}
