{
 "cells": [
  {
   "cell_type": "code",
   "execution_count": null,
   "metadata": {},
   "outputs": [],
   "source": [
    "from typing import List, Union\n",
    "\n",
    "from numpy import sqrt, isinf\n",
    "import pandas as pd\n",
    "import xarray as xr\n",
    "xr.set_options(keep_attrs=True,\n",
    "               display_expand_data=False)\n",
    "\n",
    "import plotly.express as px\n",
    "import plotly.io as pio\n",
    "# pio.renderers.default='png'\n",
    "\n",
    "import yfinance as yf\n",
    "\n",
    "from factor import get_factor_data\n",
    "from chart import draw_volatility, draw_correlation\n"
   ]
  },
  {
   "cell_type": "code",
   "execution_count": null,
   "metadata": {},
   "outputs": [],
   "source": [
    "halflifes = [21, 63, 126, 252, 512]\n",
    "data = get_factor_data(halflifes)\n",
    "factor_master = pd.DataFrame(data['asset'].attrs).T\n",
    "factor_list = factor_master.index.to_list()"
   ]
  },
  {
   "cell_type": "code",
   "execution_count": null,
   "metadata": {},
   "outputs": [],
   "source": [
    "draw_volatility(data.vol, asset='QQQ', vol_type=[21, 63]).show()\n",
    "draw_correlation(data.corr, asset='QQQ', asset_1='IWM', corr_type=[21, 63]).show()"
   ]
  },
  {
   "cell_type": "code",
   "execution_count": null,
   "metadata": {},
   "outputs": [],
   "source": [
    "import matplotlib.pyplot as plt\n",
    "\n",
    "data.vol.sel(asset=['IWM', 'QQQ'], vol_type=[63]).plot(hue='asset')\n",
    "plt.show()\n",
    "\n",
    "data.corr.sel(asset='IWM', asset_1='QQQ', corr_type=[21, 63]).plot(hue='corr_type')\n",
    "plt.show()"
   ]
  },
  {
   "cell_type": "code",
   "execution_count": null,
   "metadata": {},
   "outputs": [],
   "source": [
    "data"
   ]
  },
  {
   "cell_type": "code",
   "execution_count": null,
   "metadata": {},
   "outputs": [],
   "source": [
    "break"
   ]
  },
  {
   "cell_type": "markdown",
   "metadata": {},
   "source": [
    "# Charting scratch"
   ]
  },
  {
   "cell_type": "code",
   "execution_count": null,
   "metadata": {},
   "outputs": [],
   "source": [
    "def format_plotly_title(title: str, subtitles: List[str]) -> dict:\n",
    "    \"\"\"\n",
    "    Format a title and a list of subtitles for a Plotly chart.\n",
    "\n",
    "    Parameters\n",
    "    ----------\n",
    "    title : str\n",
    "        The main title of the chart.\n",
    "    subtitles : List[str]\n",
    "        A list of subtitles for the chart.\n",
    "\n",
    "    Returns\n",
    "    -------\n",
    "    dict\n",
    "        A dictionary containing the formatted title and subtitles for Plotly.\n",
    "    \"\"\"\n",
    "    # subtitle_text = \"<br>\".join([f\"<sup>{subtitle}</sup>\" for subtitle in subtitles])\n",
    "    subtitle_text = f'<span style=\"font size: 12px;\">{\"<br>\".join(subtitles)}</span>'\n",
    "    return {\n",
    "        'text': f'{title}<br><span style=\"font size: 12px;\">{\"<br>\".join(subtitles)}</span>',\n",
    "        # 'x': 0.5,\n",
    "        # 'xanchor': 'center',\n",
    "        # 'yanchor': 'top'\n",
    "    }\n",
    "\n",
    "# Example usage:\n",
    "formatted_title = format_plotly_title(\"Main Title\", [\"Subtitle 1\", \"Subtitle 2\"])\n",
    "fig.update_layout(title=formatted_title)\n",
    "fig.show()\n",
    "formatted_title"
   ]
  },
  {
   "cell_type": "code",
   "execution_count": null,
   "metadata": {},
   "outputs": [],
   "source": [
    "from typing import Union\n",
    "\n",
    "def format_plotly_title(title: str, subtitles: Union[str, List[str]]) -> dict:\n",
    "    \"\"\"\n",
    "    Format a title and a list of subtitles for a Plotly chart.\n",
    "\n",
    "    Parameters\n",
    "    ----------\n",
    "    title : str\n",
    "        The main title of the chart.\n",
    "    subtitles : Union[str, List[str]]\n",
    "        A single subtitle or a list of subtitles for the chart.\n",
    "\n",
    "    Returns\n",
    "    -------\n",
    "    dict\n",
    "        A dictionary containing the formatted title and subtitles for Plotly.\n",
    "    \"\"\"\n",
    "    if isinstance(subtitles, str):\n",
    "        subtitles = [subtitles]\n",
    "    subtitle_text = f'<span style=\"font size: 12px;\">{\"<br>\".join(subtitles)}</span>'\n",
    "    return {\n",
    "        'text': f'{title}<br><span style=\"font size: 12px;\">{\"<br>\".join(subtitles)}</span>',\n",
    "    }\n",
    "\n",
    "# Example usage:\n",
    "formatted_title = format_plotly_title(\"Main Title\", \"Single Subtitle\")\n",
    "fig.update_layout(title=formatted_title)\n",
    "fig.show()\n",
    "formatted_title\n"
   ]
  },
  {
   "cell_type": "code",
   "execution_count": null,
   "metadata": {},
   "outputs": [],
   "source": [
    "def plotly_line_chart(da: xr.DataArray, x: str, y: str, color: str = None, title: str = \"Line Chart\") -> None:\n",
    "    \"\"\"\n",
    "    Produce a Plotly Express line chart given an xarray DataArray.\n",
    "\n",
    "    Parameters\n",
    "    ----------\n",
    "    da : xr.DataArray\n",
    "        The input xarray DataArray.\n",
    "    x : str\n",
    "        The name of the dimension to use for the x-axis.\n",
    "    y : str\n",
    "        The name of the dimension to use for the y-axis.\n",
    "    color : str, optional\n",
    "        The name of the dimension to use for color grouping, by default None.\n",
    "    title : str, optional\n",
    "        The title of the chart, by default \"Line Chart\".\n",
    "\n",
    "    Returns\n",
    "    -------\n",
    "    None\n",
    "    \"\"\"\n",
    "    df = da.to_series().reset_index()\n",
    "    fig = px.line(df, x=x, y=y, color=color, title=title, template='plotly_white')\n",
    "    fig.show()\n",
    "\n",
    "# Example usage:\n",
    "# plotly_line_chart(ds.vol, x='date', y='vol', color='vol_type', title='Volatility Over Time')"
   ]
  },
  {
   "cell_type": "code",
   "execution_count": null,
   "metadata": {},
   "outputs": [],
   "source": [
    "data"
   ]
  },
  {
   "cell_type": "code",
   "execution_count": null,
   "metadata": {},
   "outputs": [],
   "source": [
    "fig.for_each_annotation(lambda a: a.update(text=a.text.split(\"=\")[-1])).show()"
   ]
  },
  {
   "cell_type": "markdown",
   "metadata": {},
   "source": [
    "# MDS scratch"
   ]
  },
  {
   "cell_type": "code",
   "execution_count": null,
   "metadata": {},
   "outputs": [],
   "source": [
    "from sklearn.manifold import MDS\n",
    "from numpy import sqrt\n",
    "\n",
    "def multi\n",
    "correlation_matrix = ds.corr.sel(date='2024-10-25', corr_type=63).to_pandas()\n",
    "dissimilarity_matrix = sqrt(1 - correlation_matrix**2)\n",
    "\n",
    "\n",
    "mds = MDS(dissimilarity='precomputed', random_state=42)\n",
    "mds_results = mds.fit_transform(dissimilarity_matrix)\n",
    "mds_df = pd.DataFrame(mds_results, index=dissimilarity_matrix.index, columns=['dim1', 'dim2'])\n",
    "\n",
    "\n",
    "print(mds_df)\n",
    "mds_df.plot.scatter(x='dim1', y='dim2')\n",
    "\n",
    "px.scatter(mds_df.reset_index(), x='dim1', y='dim2', hover_name='asset')"
   ]
  },
  {
   "cell_type": "code",
   "execution_count": null,
   "metadata": {},
   "outputs": [],
   "source": [
    "from sklearn.manifold import MDS\n",
    "\n",
    "corr_df = ds.corr.sel(date='2024-10-25', corr_type=63).to_pandas()\n",
    "mds = MDS(dissimilarity='precomputed', random_state=42)\n",
    "mds_results = mds.fit_transform(1 - corr_df)\n",
    "mds_df = pd.DataFrame(mds_results, index=corr_df.index, columns=['MDS1', 'MDS2'])\n",
    "print(mds_df)\n",
    "mds_df.plot.scatter(x='MDS1', y='MDS2')\n",
    "\n",
    "px.scatter(mds_df.reset_index(), x='MDS1', y='MDS2', hover_name='asset')"
   ]
  },
  {
   "cell_type": "code",
   "execution_count": null,
   "metadata": {},
   "outputs": [],
   "source": [
    "mds_results_list = []\n",
    "\n",
    "for date in ds.date.values:\n",
    "    corr_df = ds.corr.sel(date=date, corr_type=63).to_pandas()\n",
    "    imputer = SimpleImputer(strategy='mean')\n",
    "    corr_df_imputed = imputer.fit_transform(1 - corr_df)\n",
    "    mds = MDS(dissimilarity='precomputed', random_state=42)\n",
    "    mds_results = mds.fit_transform(corr_df_imputed)\n",
    "    mds_results = mds.fit_transform(1 - corr_df)\n",
    "    mds_results_list.append(mds_results)\n",
    "\n",
    "mds_results_array = np.stack(mds_results_list)\n",
    "mds_da = xr.DataArray(mds_results_array, coords=[ds.date, corr_df.index, ['MDS1', 'MDS2']], dims=['date', 'asset', 'mds_dim'])\n",
    "print(mds_da)\n"
   ]
  }
 ],
 "metadata": {
  "kernelspec": {
   "display_name": "venv-python312",
   "language": "python",
   "name": "python3"
  },
  "language_info": {
   "codemirror_mode": {
    "name": "ipython",
    "version": 3
   },
   "file_extension": ".py",
   "mimetype": "text/x-python",
   "name": "python",
   "nbconvert_exporter": "python",
   "pygments_lexer": "ipython3",
   "version": "3.12.4"
  }
 },
 "nbformat": 4,
 "nbformat_minor": 2
}
