{
 "cells": [
  {
   "cell_type": "code",
   "execution_count": null,
   "metadata": {},
   "outputs": [],
   "source": [
    "import pandas as pd\n",
    "import plotly.express as px"
   ]
  },
  {
   "cell_type": "code",
   "execution_count": null,
   "metadata": {},
   "outputs": [],
   "source": [
    "import pandas as pd\n",
    "import plotly.express as px\n",
    "\n",
    "df = pd.read_excel('gantt.xlsx').sort_values(by=['Type', 'Start', 'Finish'])\n",
    "\n",
    "args_format = {'template': 'plotly_white', 'height': 750, 'width': 1000}\n",
    "\n",
    "# Create the Gantt chart\n",
    "fig = px.timeline(df, x_start=\"Start\", x_end=\"Finish\", y=\"Task\", color=\"Type\", title=\"Virtual Academy 2025 Timeline\", **args_format)\n",
    "# fig.update_yaxes(autorange=\"reversed\")\n",
    "# fig.update_yaxes(categoryorder=\"total ascending\")\n",
    "\n",
    "fig.update_xaxes(tickformat=\"%b\", dtick=\"M1\")\n",
    "fig.update_yaxes(title_text=None)\n",
    "fig.update_yaxes(categoryorder=\"array\", categoryarray=df.sort_values(by=['Type', 'Start', 'Finish'], ascending=False)['Task'])\n",
    "fig.update_layout(legend_title_text=None) #, bargap=0.1)\n",
    "fig.add_vline(x=\"2025-03-15\", line_width=2, line_color=\"darkgray\") #, annotation_text=\"Jan 1, 2018 baseline\", annotation_position=\"bottom right\") # annotation_text=\"Expected RFP release date\", annotation_position=\"top left\")\n",
    "fig.add_vline(x=\"2025-09-30\", line_width=2, line_color=\"darkgray\") #, annotation_text=\"Expected RFP release date\", annotation_position=\"top left\")\n",
    "# Move the vertical lines to be underneath the timeline\n",
    "fig.update_layout(shapes=[\n",
    "    dict(\n",
    "        type=\"line\",\n",
    "        x0=\"2025-03-15\",\n",
    "        x1=\"2025-03-15\",\n",
    "        y0=0,\n",
    "        y1=1,\n",
    "        line=dict(color=\"darkgray\", width=2),\n",
    "        layer=\"below\",\n",
    "    ),\n",
    "    dict(\n",
    "        type=\"line\",\n",
    "        x0=\"2025-10-01\",\n",
    "        x1=\"2025-10-01\",\n",
    "        y0=0,\n",
    "        y1=1,\n",
    "        line=dict(color=\"darkgray\", width=2),\n",
    "        layer=\"above\"\n",
    "    )\n",
    "])\n",
    "\n",
    "fig.add_annotation(x='2025-04-17', y=len(df.index)-1, text=\"Expected RFP release\", align='left', showarrow=False, font_color=\"dimgray\")\n",
    "fig.add_annotation(x='2025-09-01', y=len(df.index)-1, text=\"Grant funding ends\", align='left', showarrow=False, font_color=\"dimgray\")\n",
    "\n",
    "\n",
    "fig.show()\n",
    "fig.write_image(\"gantt.png\")"
   ]
  }
 ],
 "metadata": {
  "kernelspec": {
   "display_name": "venv-python312",
   "language": "python",
   "name": "python3"
  },
  "language_info": {
   "codemirror_mode": {
    "name": "ipython",
    "version": 3
   },
   "file_extension": ".py",
   "mimetype": "text/x-python",
   "name": "python",
   "nbconvert_exporter": "python",
   "pygments_lexer": "ipython3",
   "version": "3.12.4"
  }
 },
 "nbformat": 4,
 "nbformat_minor": 2
}
