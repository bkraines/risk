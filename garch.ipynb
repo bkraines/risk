{
 "cells": [
  {
   "cell_type": "code",
   "execution_count": null,
   "id": "9ff476c7",
   "metadata": {},
   "outputs": [],
   "source": [
    "from risk_data import get_factor_data\n",
    "factor_data = get_factor_data()"
   ]
  },
  {
   "cell_type": "code",
   "execution_count": null,
   "id": "b7a5a600",
   "metadata": {},
   "outputs": [],
   "source": []
  },
  {
   "cell_type": "code",
   "execution_count": null,
   "id": "3208ea0f",
   "metadata": {},
   "outputs": [],
   "source": [
    "s = factor_data.ret.sel(factor_name='SPY').to_series().dropna()\n",
    "vol, param = calibrate_garch(s, scale=True)a\n"
   ]
  },
  {
   "cell_type": "code",
   "execution_count": null,
   "id": "4e1165be",
   "metadata": {},
   "outputs": [],
   "source": []
  },
  {
   "cell_type": "markdown",
   "id": "6d8fa1d0",
   "metadata": {},
   "source": [
    "# Attempt 2"
   ]
  },
  {
   "cell_type": "code",
   "execution_count": 1,
   "id": "1625007d",
   "metadata": {},
   "outputs": [],
   "source": [
    "import pandas as pd\n",
    "import numpy as np\n",
    "from numpy import log10\n",
    "from arch import arch_model\n"
   ]
  },
  {
   "cell_type": "code",
   "execution_count": 2,
   "id": "639ddde8",
   "metadata": {},
   "outputs": [],
   "source": [
    "def scale_for_garch(series: pd.Series, target_magnitude = 2) -> pd.Series:\n",
    "    \"\"\"\n",
    "    Scale the input series to a suitable range for GARCH estimation by dividing \n",
    "    by an appropriate power of 10.\n",
    "\n",
    "    Parameters\n",
    "    ----------\n",
    "    series : pd.Series\n",
    "        The input time series to scale.\n",
    "\n",
    "    Returns\n",
    "    -------\n",
    "    pd.Series\n",
    "        The scaled series.\n",
    "    \"\"\"\n",
    "    power = int(log10(s.abs().max()))\n",
    "    return s * 10**(-(power - target_magnitude))\n",
    "\n",
    "\n",
    "def calibrate_garch(series: pd.Series, scale=False, **kwargs):\n",
    "    \"\"\"\n",
    "    Calibrate a GARCH model on the given time series and return the forecasted \n",
    "    volatility for the next period, along with the model parameters.\n",
    "\n",
    "    Parameters\n",
    "    ----------\n",
    "    series : pd.Series\n",
    "        The return series to fit the GARCH model to.\n",
    "    **kwargs\n",
    "        Additional keyword arguments passed to the GARCH model, including `p` and `q`.\n",
    "\n",
    "    Returns\n",
    "    -------\n",
    "    vol_forecast : float\n",
    "        The forecasted volatility for the next period.\n",
    "    params : pd.Series\n",
    "        The estimated parameters of the fitted GARCH model.\n",
    "    \"\"\"\n",
    "    series_scaled = scale_for_garch(series) if scale else series\n",
    "    \n",
    "    model = arch_model(series_scaled, vol='Garch', **kwargs)\n",
    "    fit = model.fit(disp=\"off\")\n",
    "    vol_forecast = fit.conditional_volatility[-1]\n",
    "    params = fit.params\n",
    "    return vol_forecast, params\n",
    "\n",
    "\n",
    "def expanding_garch_forecast(series: pd.Series, start_window=250, **garch_kwargs):\n",
    "    \"\"\"\n",
    "    Apply an expanding-window GARCH model to a time series, iteratively fitting \n",
    "    the model and forecasting volatility for each time step.\n",
    "\n",
    "    Parameters\n",
    "    ----------\n",
    "    series : pd.Series\n",
    "        The return series, indexed by date, to which the GARCH model is applied.\n",
    "    start_window : int, optional, default 250\n",
    "        The minimum number of observations to start the first GARCH fit.\n",
    "    **garch_kwargs\n",
    "        Additional keyword arguments for the GARCH model, including `p` and `q`.\n",
    "\n",
    "    Returns\n",
    "    -------\n",
    "    pd.Series\n",
    "        Forecasted next-day volatilities.\n",
    "    pd.DataFrame\n",
    "        The estimated parameters at each step.\n",
    "    \"\"\"\n",
    "    series = series.dropna()\n",
    "    \n",
    "    results = {\n",
    "        series.index[i]: calibrate_garch(series.iloc[:i+1], **garch_kwargs)\n",
    "        for i in range(start_window, len(series))\n",
    "    }\n",
    "    \n",
    "    forecasts = pd.Series({date: vol for date, (vol, _) in results.items()})\n",
    "    param_df = pd.DataFrame({date: params for date, (_, params) in results.items()}).T\n",
    "    \n",
    "    return forecasts, param_df\n"
   ]
  },
  {
   "cell_type": "code",
   "execution_count": null,
   "id": "ef4717bc",
   "metadata": {},
   "outputs": [],
   "source": [
    "def calibrate_garch(series: pd.Series, scale=False, **kwargs):\n",
    "    \"\"\"\n",
    "    Calibrate a GARCH model on the given time series and return the forecasted \n",
    "    volatility for the next period, along with the model parameters.\n",
    "\n",
    "    Parameters\n",
    "    ----------\n",
    "    series : pd.Series\n",
    "        The return series to fit the GARCH model to.\n",
    "    **kwargs\n",
    "        Additional keyword arguments passed to the GARCH model, including `p` and `q`.\n",
    "\n",
    "    Returns\n",
    "    -------\n",
    "    vol_forecast : float\n",
    "        The forecasted volatility for the next period.\n",
    "    params : pd.Series\n",
    "        The estimated parameters of the fitted GARCH model.\n",
    "    \"\"\"\n",
    "    series_scaled = scale_for_garch(series) if scale else series\n",
    "    \n",
    "    model = arch_model(series_scaled, vol='GARCH', **kwargs)\n",
    "    fit = model.fit(disp=\"off\")\n",
    "    vol_forecast = fit.conditional_volatility[-1]\n",
    "    params = fit.params\n",
    "    return vol_forecast, params\n"
   ]
  },
  {
   "cell_type": "code",
   "execution_count": null,
   "id": "df230007",
   "metadata": {},
   "outputs": [],
   "source": [
    "s = factor_data.ret.sel(factor_name='SPY').to_series().dropna()\n",
    "calibrate_garch(s, scale=False)"
   ]
  },
  {
   "cell_type": "code",
   "execution_count": null,
   "id": "b9b8f63c",
   "metadata": {},
   "outputs": [],
   "source": [
    "# # Example usage: Create a sample time series (random data for illustration)\n",
    "# np.random.seed(0)  # For reproducibility\n",
    "# data = pd.Series(np.random.randn(1000) * 1000, \n",
    "#                  index=pd.date_range(start=\"2020-01-01\", periods=1000, freq=\"D\"))\n",
    "\n",
    "# # Apply the expanding GARCH model with p=1, q=1\n",
    "# forecast_vols, param_df = expanding_garch_forecast(data, start_window=250, p=1, q=1)\n",
    "\n",
    "# # Check the results\n",
    "# forecast_vols.head(), param_df.head()\n"
   ]
  }
 ],
 "metadata": {
  "kernelspec": {
   "display_name": "venv-bklm",
   "language": "python",
   "name": "python3"
  },
  "language_info": {
   "codemirror_mode": {
    "name": "ipython",
    "version": 3
   },
   "file_extension": ".py",
   "mimetype": "text/x-python",
   "name": "python",
   "nbconvert_exporter": "python",
   "pygments_lexer": "ipython3",
   "version": "3.11.9"
  }
 },
 "nbformat": 4,
 "nbformat_minor": 5
}
