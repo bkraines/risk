{
 "cells": [
  {
   "cell_type": "code",
   "execution_count": 1,
   "metadata": {},
   "outputs": [],
   "source": [
    "import pandas as pd\n",
    "import yfinance as yf\n",
    "\n",
    "from data import get_factor_master"
   ]
  },
  {
   "cell_type": "code",
   "execution_count": 2,
   "metadata": {},
   "outputs": [],
   "source": [
    "def out(df):\n",
    "    df.sort_index(ascending=False).to_clipboard()\n"
   ]
  },
  {
   "cell_type": "code",
   "execution_count": 4,
   "metadata": {},
   "outputs": [],
   "source": [
    "def get_yahoo_data(ticker, field_name, cache=None):\n",
    "    # TODO: Check cache first\n",
    "    # cache.columns.get_level_values(1)\n",
    "    return yf.download(ticker)[field_name]\n",
    "\n",
    "\n",
    "def get_yahoo_data_set(tickers, field_name, asset_names=None):\n",
    "    if asset_names is None:\n",
    "        asset_names = tickers\n",
    "    return pd.DataFrame({asset_name: get_yahoo_data(ticker, field_name) \n",
    "                         for asset_name, ticker in zip(asset_names, tickers)})\n",
    "\n",
    "\n",
    "def fill_returns(df):\n",
    "    return df.ffill()\n",
    "\n",
    "\n",
    "def get_business_days(df, factor_names):\n",
    "    return df[factor_names].dropna(how='any').index\n",
    "\n",
    "\n",
    "def align_dates(df, business_day_factors):\n",
    "    dates_raw = df.index\n",
    "    dates_business = get_business_days(df, business_day_factors)\n",
    "    dates_union = dates_raw.union(dates_business)\n",
    "    return (df\n",
    "            .reindex(dates_union)\n",
    "            .pipe(fill_returns)\n",
    "            .loc[dates_business])\n",
    "\n",
    "\n",
    "def calculate_returns(cret, diffusion_type):\n",
    "    match diffusion_type:\n",
    "        case 'lognormal':\n",
    "            return cret.pct_change().mul(10_000)\n",
    "        case 'normal':\n",
    "            return cret.diff().mul(100)\n",
    "        # case 'normal10':\n",
    "        #     return cret.diff().div(10)\n",
    "        case _:\n",
    "            raise ValueError(f'Unsupported diffusion_type of {diffusion_type} for {cret.name}')\n",
    "        # case nan:\n",
    "        #     raise ValueError(f'No diffusion_type provided for {cret.name}')\n",
    "\n",
    "\n",
    "def calculate_returns_set(df, diffusion_map):\n",
    "    return pd.DataFrame(\n",
    "        {factor: calculate_returns(df[factor], diffusion_map[factor]) \n",
    "         for factor in df.columns\n",
    "         })\n",
    "\n"
   ]
  },
  {
   "cell_type": "code",
   "execution_count": 31,
   "metadata": {},
   "outputs": [
    {
     "name": "stderr",
     "output_type": "stream",
     "text": [
      "[*********************100%%**********************]  1 of 1 completed\n",
      "[*********************100%%**********************]  1 of 1 completed\n",
      "[*********************100%%**********************]  1 of 1 completed\n",
      "[*********************100%%**********************]  1 of 1 completed\n",
      "[*********************100%%**********************]  1 of 1 completed\n"
     ]
    },
    {
     "data": {
      "text/html": [
       "<div>\n",
       "<style scoped>\n",
       "    .dataframe tbody tr th:only-of-type {\n",
       "        vertical-align: middle;\n",
       "    }\n",
       "\n",
       "    .dataframe tbody tr th {\n",
       "        vertical-align: top;\n",
       "    }\n",
       "\n",
       "    .dataframe thead th {\n",
       "        text-align: right;\n",
       "    }\n",
       "</style>\n",
       "<table border=\"1\" class=\"dataframe\">\n",
       "  <thead>\n",
       "    <tr style=\"text-align: right;\">\n",
       "      <th></th>\n",
       "      <th>SPX</th>\n",
       "      <th>RUT</th>\n",
       "      <th>CAC</th>\n",
       "      <th>USD10</th>\n",
       "      <th>TY</th>\n",
       "    </tr>\n",
       "    <tr>\n",
       "      <th>Date</th>\n",
       "      <th></th>\n",
       "      <th></th>\n",
       "      <th></th>\n",
       "      <th></th>\n",
       "      <th></th>\n",
       "    </tr>\n",
       "  </thead>\n",
       "  <tbody>\n",
       "    <tr>\n",
       "      <th>1993-01-29</th>\n",
       "      <td>NaN</td>\n",
       "      <td>NaN</td>\n",
       "      <td>NaN</td>\n",
       "      <td>NaN</td>\n",
       "      <td>NaN</td>\n",
       "    </tr>\n",
       "    <tr>\n",
       "      <th>1993-02-01</th>\n",
       "      <td>71.128358</td>\n",
       "      <td>NaN</td>\n",
       "      <td>77.305460</td>\n",
       "      <td>-0.999975</td>\n",
       "      <td>NaN</td>\n",
       "    </tr>\n",
       "    <tr>\n",
       "      <th>1993-02-02</th>\n",
       "      <td>21.185022</td>\n",
       "      <td>NaN</td>\n",
       "      <td>7.839321</td>\n",
       "      <td>7.999992</td>\n",
       "      <td>NaN</td>\n",
       "    </tr>\n",
       "    <tr>\n",
       "      <th>1993-02-03</th>\n",
       "      <td>105.708118</td>\n",
       "      <td>NaN</td>\n",
       "      <td>205.896748</td>\n",
       "      <td>-1.000023</td>\n",
       "      <td>NaN</td>\n",
       "    </tr>\n",
       "    <tr>\n",
       "      <th>1993-02-04</th>\n",
       "      <td>41.837447</td>\n",
       "      <td>NaN</td>\n",
       "      <td>166.109584</td>\n",
       "      <td>-5.999994</td>\n",
       "      <td>NaN</td>\n",
       "    </tr>\n",
       "    <tr>\n",
       "      <th>...</th>\n",
       "      <td>...</td>\n",
       "      <td>...</td>\n",
       "      <td>...</td>\n",
       "      <td>...</td>\n",
       "      <td>...</td>\n",
       "    </tr>\n",
       "    <tr>\n",
       "      <th>2025-01-15</th>\n",
       "      <td>181.899840</td>\n",
       "      <td>196.613510</td>\n",
       "      <td>68.591306</td>\n",
       "      <td>-13.500023</td>\n",
       "      <td>105.263898</td>\n",
       "    </tr>\n",
       "    <tr>\n",
       "      <th>2025-01-16</th>\n",
       "      <td>-19.231664</td>\n",
       "      <td>20.086244</td>\n",
       "      <td>214.259771</td>\n",
       "      <td>-4.699993</td>\n",
       "      <td>23.870831</td>\n",
       "    </tr>\n",
       "    <tr>\n",
       "      <th>2025-01-17</th>\n",
       "      <td>100.398930</td>\n",
       "      <td>43.209105</td>\n",
       "      <td>98.247960</td>\n",
       "      <td>0.300026</td>\n",
       "      <td>7.577365</td>\n",
       "    </tr>\n",
       "    <tr>\n",
       "      <th>2025-01-21</th>\n",
       "      <td>91.535368</td>\n",
       "      <td>192.051204</td>\n",
       "      <td>79.380259</td>\n",
       "      <td>-3.500032</td>\n",
       "      <td>33.532201</td>\n",
       "    </tr>\n",
       "    <tr>\n",
       "      <th>2025-01-22</th>\n",
       "      <td>56.214488</td>\n",
       "      <td>-65.276994</td>\n",
       "      <td>85.510401</td>\n",
       "      <td>2.500010</td>\n",
       "      <td>-25.873813</td>\n",
       "    </tr>\n",
       "  </tbody>\n",
       "</table>\n",
       "<p>8030 rows × 5 columns</p>\n",
       "</div>"
      ],
      "text/plain": [
       "                   SPX         RUT         CAC      USD10          TY\n",
       "Date                                                                 \n",
       "1993-01-29         NaN         NaN         NaN        NaN         NaN\n",
       "1993-02-01   71.128358         NaN   77.305460  -0.999975         NaN\n",
       "1993-02-02   21.185022         NaN    7.839321   7.999992         NaN\n",
       "1993-02-03  105.708118         NaN  205.896748  -1.000023         NaN\n",
       "1993-02-04   41.837447         NaN  166.109584  -5.999994         NaN\n",
       "...                ...         ...         ...        ...         ...\n",
       "2025-01-15  181.899840  196.613510   68.591306 -13.500023  105.263898\n",
       "2025-01-16  -19.231664   20.086244  214.259771  -4.699993   23.870831\n",
       "2025-01-17  100.398930   43.209105   98.247960   0.300026    7.577365\n",
       "2025-01-21   91.535368  192.051204   79.380259  -3.500032   33.532201\n",
       "2025-01-22   56.214488  -65.276994   85.510401   2.500010  -25.873813\n",
       "\n",
       "[8030 rows x 5 columns]"
      ]
     },
     "execution_count": 31,
     "metadata": {},
     "output_type": "execute_result"
    }
   ],
   "source": [
    "factor_master = get_factor_master('factor_master.xlsx', 'read_new')\n",
    "factor_list = factor_master.index\n",
    "\n",
    "levels_raw = (get_yahoo_data_set(asset_names = factor_list, \n",
    "                                 tickers = factor_master.loc[factor_list, 'ticker'],\n",
    "                                 field_name = 'Adj Close'))\n",
    "\n",
    "levels = align_dates(levels_raw, ['SPX', 'USD10'])\n",
    "ret = calculate_returns_set(levels, factor_master['diffusion_type'])\n",
    "ret"
   ]
  },
  {
   "cell_type": "code",
   "execution_count": null,
   "metadata": {},
   "outputs": [],
   "source": []
  },
  {
   "cell_type": "code",
   "execution_count": null,
   "metadata": {},
   "outputs": [],
   "source": []
  },
  {
   "cell_type": "code",
   "execution_count": null,
   "metadata": {},
   "outputs": [],
   "source": [
    "def get_yahoo_data(ticker, field_name, cache=None):\n",
    "    # TODO: Check cache first\n",
    "    return yf.download(ticker)[field_name]\n",
    "\n",
    "# cache = yf.download(factor_master['ticker'].iloc[:-1].to_list())\n",
    "\n",
    "lvl_raw_dict = {}\n",
    "for factor in factor_master.index:\n",
    "    lvl_raw_dict[factor] = get_yahoo_data(factor_master.loc[factor, 'ticker'], 'Adj Close')\n",
    "lvl_raw = pd.DataFrame(lvl_raw_dict)\n",
    "# TODO: Confirm outer join\n"
   ]
  },
  {
   "cell_type": "code",
   "execution_count": null,
   "metadata": {},
   "outputs": [],
   "source": [
    "business_days = None\n",
    "df.index"
   ]
  },
  {
   "cell_type": "code",
   "execution_count": 64,
   "metadata": {},
   "outputs": [],
   "source": [
    "def my_ffill(df, business_days, method=None, na_tolerance=None, diffusion_type=None):\n",
    "    # 1) Include business_days in df index\n",
    "    \n",
    "    if business_days is None:\n",
    "        full_dates = df.index.union(business_days)\n",
    "        df = df.reindex(full_dates)\n",
    "    # 2) Count consecutive NAs\n",
    "    # 3) Extract dates with NAs and their count (build replacement dataframe)\n",
    "    # 4) If consecutive NAs < na_tolerance, replacement data = 0 (for now) else nan\n",
    "    # 5) Forward fill\n",
    "    # 6) Add replacement (respecting diffusion_type)\n",
    "    return df\n",
    "\n",
    "\n",
    "def get_business_days(df, factors=['SPX']):\n",
    "    return df[factors].dropna(how='any').index\n",
    "\n",
    "\n",
    "def calculate_returns(levels, diffusion_type):\n",
    "    if diffusion_type == 'diff':\n",
    "        return levels.diff()\n",
    "    elif diffusion_type == 'pct':\n",
    "        return levels.pct_change()\n",
    "    else:\n",
    "        raise ValueError('diffusion_type must be either \"diff\" or \"pct\"')"
   ]
  },
  {
   "cell_type": "markdown",
   "metadata": {},
   "source": [
    "# Check duration"
   ]
  },
  {
   "cell_type": "code",
   "execution_count": null,
   "metadata": {},
   "outputs": [
    {
     "name": "stdout",
     "output_type": "stream",
     "text": [
      "Equation of line: Y = 1.46 + -7.11X\n"
     ]
    },
    {
     "data": {
      "image/png": "[encoded data removed]",
      "text/plain": [
       "<Figure size 500x500 with 1 Axes>"
      ]
     },
     "metadata": {},
     "output_type": "display_data"
    }
   ],
   "source": [
    "import seaborn as sns\n",
    "import matplotlib.pyplot as plt\n",
    "import statsmodels.api as sm\n",
    "\n",
    "\n",
    "def regression_plot(df, x, y):\n",
    "    df = df[[x, y]].dropna()\n",
    "    X = df[x]\n",
    "    Y = df[y]\n",
    "    X = sm.add_constant(X)  # Adds a constant term to the predictor\n",
    "\n",
    "    model = sm.OLS(Y, X).fit()\n",
    "    # predictions = model.predict(X)\n",
    "\n",
    "    # Display the equation of the line\n",
    "    intercept, slope = model.params\n",
    "    print(f'Equation of line: Y = {intercept:.2f} + {slope:.2f}X')\n",
    "\n",
    "    # Create scatter plot with line of best fit\n",
    "    sns.lmplot(x=x, y=y, data=df)\n",
    "    plt.show()\n",
    "    \n",
    "    \n",
    "regression_plot(ret, 'USD10', 'TY')\n"
   ]
  },
  {
   "cell_type": "markdown",
   "metadata": {},
   "source": [
    "# Junk"
   ]
  },
  {
   "cell_type": "code",
   "execution_count": 30,
   "metadata": {},
   "outputs": [
    {
     "ename": "SyntaxError",
     "evalue": "'break' outside loop (668683560.py, line 1)",
     "output_type": "error",
     "traceback": [
      "\u001b[1;36m  Cell \u001b[1;32mIn[30], line 1\u001b[1;36m\u001b[0m\n\u001b[1;33m    break\u001b[0m\n\u001b[1;37m    ^\u001b[0m\n\u001b[1;31mSyntaxError\u001b[0m\u001b[1;31m:\u001b[0m 'break' outside loop\n"
     ]
    }
   ],
   "source": [
    "break"
   ]
  },
  {
   "cell_type": "code",
   "execution_count": null,
   "metadata": {},
   "outputs": [],
   "source": [
    "my_ffill(lvl_raw, get_business_days(lvl_raw))"
   ]
  },
  {
   "cell_type": "code",
   "execution_count": null,
   "metadata": {},
   "outputs": [],
   "source": [
    "import pandas as pd\n",
    "import numpy as np\n",
    "\n",
    "# Create a date range for the last three days\n",
    "data = [100, np.nan, np.nan, 101]\n",
    "date_range = pd.date_range(end=pd.Timestamp.today().date(), periods=len(data))\n",
    "\n",
    "\n",
    "# Create a dataframe with the specified values\n",
    "data = [100, np.nan, np.nan, 101]\n",
    "df = pd.Series(data, index=date_range) #, columns=['Value'])\n",
    "\n",
    "# pd.concat([df, df.pct_change()], axis=1)\n",
    "\n",
    "df"
   ]
  },
  {
   "cell_type": "code",
   "execution_count": null,
   "metadata": {},
   "outputs": [],
   "source": []
  },
  {
   "cell_type": "code",
   "execution_count": null,
   "metadata": {},
   "outputs": [],
   "source": [
    "\n",
    "\n",
    "asset_list = ['SPY', 'IWM', 'IEF', '^TNX', '^FCHI']\n",
    "diffusion_types = ['lognormal', 'lognormal', ]\n",
    "data = yf.download(asset_list)\n",
    "\n",
    "lvl = data['Adj Close']\n",
    "lvl.pipe(out)\n",
    "\n",
    "ret = lvl.pct_change().pipe(out)\n",
    "# Union any other data sources\n",
    "\n",
    "\n"
   ]
  },
  {
   "cell_type": "code",
   "execution_count": null,
   "metadata": {},
   "outputs": [],
   "source": [
    "\n"
   ]
  },
  {
   "cell_type": "code",
   "execution_count": null,
   "metadata": {},
   "outputs": [],
   "source": [
    "my_ffill(lvl_raw, get_business_days(lvl_raw))"
   ]
  },
  {
   "cell_type": "code",
   "execution_count": null,
   "metadata": {},
   "outputs": [],
   "source": [
    "import pandas as pd\n",
    "import numpy as np\n",
    "\n",
    "# Create a date range for the last three days\n",
    "data = [100, np.nan, np.nan, 101]\n",
    "date_range = pd.date_range(end=pd.Timestamp.today().date(), periods=len(data))\n",
    "\n",
    "\n",
    "# Create a dataframe with the specified values\n",
    "data = [100, np.nan, np.nan, 101]\n",
    "df = pd.Series(data, index=date_range) #, columns=['Value'])\n",
    "\n",
    "# pd.concat([df, df.pct_change()], axis=1)\n",
    "\n",
    "df"
   ]
  },
  {
   "cell_type": "code",
   "execution_count": null,
   "metadata": {},
   "outputs": [],
   "source": []
  },
  {
   "cell_type": "code",
   "execution_count": null,
   "metadata": {},
   "outputs": [],
   "source": [
    "import pandas as pd\n",
    "\n",
    "print(pd.__version__)\n"
   ]
  },
  {
   "cell_type": "code",
   "execution_count": null,
   "metadata": {},
   "outputs": [],
   "source": [
    "import pandas as pd\n",
    "current_date = pd.Timestamp.today().date()\n",
    "print(current_date)\n"
   ]
  }
 ],
 "metadata": {
  "kernelspec": {
   "display_name": "venv-python312",
   "language": "python",
   "name": "python3"
  },
  "language_info": {
   "codemirror_mode": {
    "name": "ipython",
    "version": 3
   },
   "file_extension": ".py",
   "mimetype": "text/x-python",
   "name": "python",
   "nbconvert_exporter": "python",
   "pygments_lexer": "ipython3",
   "version": "3.12.4"
  }
 },
 "nbformat": 4,
 "nbformat_minor": 2
}
