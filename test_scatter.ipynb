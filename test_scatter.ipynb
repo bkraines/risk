{
 "cells": [
  {
   "cell_type": "code",
   "execution_count": 1,
   "metadata": {},
   "outputs": [
    {
     "data": {
      "application/vnd.plotly.v1+json": {
       "config": {
        "plotlyServerURL": "https://plot.ly"
       },
       "data": [
        {
         "customdata": [
          [
           "Factor_1"
          ],
          [
           "Factor_5"
          ],
          [
           "Factor_11"
          ],
          [
           "Factor_14"
          ],
          [
           "Factor_16"
          ],
          [
           "Factor_18"
          ],
          [
           "Factor_19"
          ],
          [
           "Factor_24"
          ],
          [
           "Factor_30"
          ],
          [
           "Factor_36"
          ],
          [
           "Factor_37"
          ],
          [
           "Factor_42"
          ],
          [
           "Factor_45"
          ]
         ],
         "hovertemplate": "asset_class=FX<br>x=%{x}<br>y=%{y}<br>factor_name=%{customdata[0]}<extra></extra>",
         "legendgroup": "FX",
         "marker": {
          "color": "#636efa",
          "symbol": "circle"
         },
         "mode": "markers",
         "name": "FX",
         "orientation": "v",
         "showlegend": true,
         "type": "scatter",
         "x": [
          1,
          0.8763066800438636,
          0.30901699437494745,
          -0.0627905195293134,
          -0.30901699437494756,
          -0.5358267949789969,
          -0.6374239897486897,
          -0.9685831611286311,
          -0.8763066800438636,
          -0.30901699437494756,
          -0.18738131458572463,
          0.4257792915650726,
          0.7289686274214119
         ],
         "xaxis": "x",
         "y": [
          0,
          0.4817536741017153,
          0.9510565162951535,
          0.9980267284282716,
          0.9510565162951535,
          0.844327925502015,
          0.7705132427757893,
          0.24868988716485482,
          -0.4817536741017154,
          -0.9510565162951535,
          -0.9822872507286887,
          -0.9048270524660196,
          -0.6845471059286883
         ],
         "yaxis": "y"
        },
        {
         "customdata": [
          [
           "Factor_2"
          ],
          [
           "Factor_4"
          ],
          [
           "Factor_6"
          ],
          [
           "Factor_7"
          ],
          [
           "Factor_13"
          ],
          [
           "Factor_22"
          ],
          [
           "Factor_23"
          ],
          [
           "Factor_27"
          ],
          [
           "Factor_29"
          ],
          [
           "Factor_31"
          ],
          [
           "Factor_32"
          ],
          [
           "Factor_39"
          ],
          [
           "Factor_43"
          ],
          [
           "Factor_49"
          ]
         ],
         "hovertemplate": "asset_class=Equity<br>x=%{x}<br>y=%{y}<br>factor_name=%{customdata[0]}<extra></extra>",
         "legendgroup": "Equity",
         "marker": {
          "color": "#EF553B",
          "symbol": "circle"
         },
         "mode": "markers",
         "name": "Equity",
         "orientation": "v",
         "showlegend": true,
         "type": "scatter",
         "x": [
          0.9921147013144779,
          0.9297764858882513,
          0.8090169943749475,
          0.7289686274214116,
          0.0627905195293133,
          -0.8763066800438636,
          -0.9297764858882515,
          -0.9921147013144779,
          -0.9297764858882512,
          -0.8090169943749472,
          -0.7289686274214116,
          0.06279051952931372,
          0.5358267949789968,
          0.9685831611286312
         ],
         "xaxis": "x",
         "y": [
          0.12533323356430426,
          0.368124552684678,
          0.5877852522924731,
          0.6845471059286887,
          0.9980267284282716,
          0.4817536741017152,
          0.36812455268467775,
          -0.12533323356430429,
          -0.3681245526846783,
          -0.5877852522924734,
          -0.6845471059286887,
          -0.9980267284282716,
          -0.844327925502015,
          -0.2486898871648545
         ],
         "yaxis": "y"
        },
        {
         "customdata": [
          [
           "Factor_3"
          ],
          [
           "Factor_8"
          ],
          [
           "Factor_17"
          ],
          [
           "Factor_21"
          ],
          [
           "Factor_33"
          ],
          [
           "Factor_34"
          ],
          [
           "Factor_35"
          ],
          [
           "Factor_40"
          ],
          [
           "Factor_44"
          ]
         ],
         "hovertemplate": "asset_class=Commodities<br>x=%{x}<br>y=%{y}<br>factor_name=%{customdata[0]}<extra></extra>",
         "legendgroup": "Commodities",
         "marker": {
          "color": "#00cc96",
          "symbol": "circle"
         },
         "mode": "markers",
         "name": "Commodities",
         "orientation": "v",
         "showlegend": true,
         "type": "scatter",
         "x": [
          0.9685831611286311,
          0.6374239897486896,
          -0.4257792915650727,
          -0.8090169943749473,
          -0.6374239897486895,
          -0.5358267949789963,
          -0.42577929156507216,
          0.18738131458572513,
          0.63742398974869
         ],
         "xaxis": "x",
         "y": [
          0.2486898871648548,
          0.7705132427757893,
          0.9048270524660195,
          0.5877852522924732,
          -0.7705132427757894,
          -0.8443279255020153,
          -0.9048270524660198,
          -0.9822872507286886,
          -0.770513242775789
         ],
         "yaxis": "y"
        },
        {
         "customdata": [
          [
           "Factor_9"
          ],
          [
           "Factor_10"
          ],
          [
           "Factor_12"
          ],
          [
           "Factor_15"
          ],
          [
           "Factor_20"
          ],
          [
           "Factor_25"
          ],
          [
           "Factor_26"
          ],
          [
           "Factor_28"
          ],
          [
           "Factor_38"
          ],
          [
           "Factor_41"
          ],
          [
           "Factor_46"
          ],
          [
           "Factor_47"
          ],
          [
           "Factor_48"
          ],
          [
           "Factor_50"
          ]
         ],
         "hovertemplate": "asset_class=Fixed Income<br>x=%{x}<br>y=%{y}<br>factor_name=%{customdata[0]}<extra></extra>",
         "legendgroup": "Fixed Income",
         "marker": {
          "color": "#ab63fa",
          "symbol": "circle"
         },
         "mode": "markers",
         "name": "Fixed Income",
         "orientation": "v",
         "showlegend": true,
         "type": "scatter",
         "x": [
          0.5358267949789965,
          0.42577929156507266,
          0.18738131458572452,
          -0.18738131458572482,
          -0.7289686274214117,
          -0.9921147013144779,
          -1,
          -0.9685831611286311,
          -0.06279051952931321,
          0.30901699437494723,
          0.8090169943749478,
          0.8763066800438636,
          0.9297764858882515,
          0.9921147013144779
         ],
         "xaxis": "x",
         "y": [
          0.8443279255020151,
          0.9048270524660196,
          0.9822872507286887,
          0.9822872507286886,
          0.6845471059286885,
          0.1253332335643041,
          -3.216245299353273e-16,
          -0.24868988716485502,
          -0.9980267284282716,
          -0.9510565162951536,
          -0.5877852522924726,
          -0.4817536741017153,
          -0.36812455268467786,
          -0.1253332335643038
         ],
         "yaxis": "y"
        }
       ],
       "layout": {
        "legend": {
         "title": {
          "text": "asset_class"
         },
         "tracegroupgap": 0
        },
        "template": {
         "data": {
          "bar": [
           {
            "error_x": {
             "color": "#2a3f5f"
            },
            "error_y": {
             "color": "#2a3f5f"
            },
            "marker": {
             "line": {
              "color": "#E5ECF6",
              "width": 0.5
             },
             "pattern": {
              "fillmode": "overlay",
              "size": 10,
              "solidity": 0.2
             }
            },
            "type": "bar"
           }
          ],
          "barpolar": [
           {
            "marker": {
             "line": {
              "color": "#E5ECF6",
              "width": 0.5
             },
             "pattern": {
              "fillmode": "overlay",
              "size": 10,
              "solidity": 0.2
             }
            },
            "type": "barpolar"
           }
          ],
          "carpet": [
           {
            "aaxis": {
             "endlinecolor": "#2a3f5f",
             "gridcolor": "white",
             "linecolor": "white",
             "minorgridcolor": "white",
             "startlinecolor": "#2a3f5f"
            },
            "baxis": {
             "endlinecolor": "#2a3f5f",
             "gridcolor": "white",
             "linecolor": "white",
             "minorgridcolor": "white",
             "startlinecolor": "#2a3f5f"
            },
            "type": "carpet"
           }
          ],
          "choropleth": [
           {
            "colorbar": {
             "outlinewidth": 0,
             "ticks": ""
            },
            "type": "choropleth"
           }
          ],
          "contour": [
           {
            "colorbar": {
             "outlinewidth": 0,
             "ticks": ""
            },
            "colorscale": [
             [
              0,
              "#0d0887"
             ],
             [
              0.1111111111111111,
              "#46039f"
             ],
             [
              0.2222222222222222,
              "#7201a8"
             ],
             [
              0.3333333333333333,
              "#9c179e"
             ],
             [
              0.4444444444444444,
              "#bd3786"
             ],
             [
              0.5555555555555556,
              "#d8576b"
             ],
             [
              0.6666666666666666,
              "#ed7953"
             ],
             [
              0.7777777777777778,
              "#fb9f3a"
             ],
             [
              0.8888888888888888,
              "#fdca26"
             ],
             [
              1,
              "#f0f921"
             ]
            ],
            "type": "contour"
           }
          ],
          "contourcarpet": [
           {
            "colorbar": {
             "outlinewidth": 0,
             "ticks": ""
            },
            "type": "contourcarpet"
           }
          ],
          "heatmap": [
           {
            "colorbar": {
             "outlinewidth": 0,
             "ticks": ""
            },
            "colorscale": [
             [
              0,
              "#0d0887"
             ],
             [
              0.1111111111111111,
              "#46039f"
             ],
             [
              0.2222222222222222,
              "#7201a8"
             ],
             [
              0.3333333333333333,
              "#9c179e"
             ],
             [
              0.4444444444444444,
              "#bd3786"
             ],
             [
              0.5555555555555556,
              "#d8576b"
             ],
             [
              0.6666666666666666,
              "#ed7953"
             ],
             [
              0.7777777777777778,
              "#fb9f3a"
             ],
             [
              0.8888888888888888,
              "#fdca26"
             ],
             [
              1,
              "#f0f921"
             ]
            ],
            "type": "heatmap"
           }
          ],
          "heatmapgl": [
           {
            "colorbar": {
             "outlinewidth": 0,
             "ticks": ""
            },
            "colorscale": [
             [
              0,
              "#0d0887"
             ],
             [
              0.1111111111111111,
              "#46039f"
             ],
             [
              0.2222222222222222,
              "#7201a8"
             ],
             [
              0.3333333333333333,
              "#9c179e"
             ],
             [
              0.4444444444444444,
              "#bd3786"
             ],
             [
              0.5555555555555556,
              "#d8576b"
             ],
             [
              0.6666666666666666,
              "#ed7953"
             ],
             [
              0.7777777777777778,
              "#fb9f3a"
             ],
             [
              0.8888888888888888,
              "#fdca26"
             ],
             [
              1,
              "#f0f921"
             ]
            ],
            "type": "heatmapgl"
           }
          ],
          "histogram": [
           {
            "marker": {
             "pattern": {
              "fillmode": "overlay",
              "size": 10,
              "solidity": 0.2
             }
            },
            "type": "histogram"
           }
          ],
          "histogram2d": [
           {
            "colorbar": {
             "outlinewidth": 0,
             "ticks": ""
            },
            "colorscale": [
             [
              0,
              "#0d0887"
             ],
             [
              0.1111111111111111,
              "#46039f"
             ],
             [
              0.2222222222222222,
              "#7201a8"
             ],
             [
              0.3333333333333333,
              "#9c179e"
             ],
             [
              0.4444444444444444,
              "#bd3786"
             ],
             [
              0.5555555555555556,
              "#d8576b"
             ],
             [
              0.6666666666666666,
              "#ed7953"
             ],
             [
              0.7777777777777778,
              "#fb9f3a"
             ],
             [
              0.8888888888888888,
              "#fdca26"
             ],
             [
              1,
              "#f0f921"
             ]
            ],
            "type": "histogram2d"
           }
          ],
          "histogram2dcontour": [
           {
            "colorbar": {
             "outlinewidth": 0,
             "ticks": ""
            },
            "colorscale": [
             [
              0,
              "#0d0887"
             ],
             [
              0.1111111111111111,
              "#46039f"
             ],
             [
              0.2222222222222222,
              "#7201a8"
             ],
             [
              0.3333333333333333,
              "#9c179e"
             ],
             [
              0.4444444444444444,
              "#bd3786"
             ],
             [
              0.5555555555555556,
              "#d8576b"
             ],
             [
              0.6666666666666666,
              "#ed7953"
             ],
             [
              0.7777777777777778,
              "#fb9f3a"
             ],
             [
              0.8888888888888888,
              "#fdca26"
             ],
             [
              1,
              "#f0f921"
             ]
            ],
            "type": "histogram2dcontour"
           }
          ],
          "mesh3d": [
           {
            "colorbar": {
             "outlinewidth": 0,
             "ticks": ""
            },
            "type": "mesh3d"
           }
          ],
          "parcoords": [
           {
            "line": {
             "colorbar": {
              "outlinewidth": 0,
              "ticks": ""
             }
            },
            "type": "parcoords"
           }
          ],
          "pie": [
           {
            "automargin": true,
            "type": "pie"
           }
          ],
          "scatter": [
           {
            "fillpattern": {
             "fillmode": "overlay",
             "size": 10,
             "solidity": 0.2
            },
            "type": "scatter"
           }
          ],
          "scatter3d": [
           {
            "line": {
             "colorbar": {
              "outlinewidth": 0,
              "ticks": ""
             }
            },
            "marker": {
             "colorbar": {
              "outlinewidth": 0,
              "ticks": ""
             }
            },
            "type": "scatter3d"
           }
          ],
          "scattercarpet": [
           {
            "marker": {
             "colorbar": {
              "outlinewidth": 0,
              "ticks": ""
             }
            },
            "type": "scattercarpet"
           }
          ],
          "scattergeo": [
           {
            "marker": {
             "colorbar": {
              "outlinewidth": 0,
              "ticks": ""
             }
            },
            "type": "scattergeo"
           }
          ],
          "scattergl": [
           {
            "marker": {
             "colorbar": {
              "outlinewidth": 0,
              "ticks": ""
             }
            },
            "type": "scattergl"
           }
          ],
          "scattermapbox": [
           {
            "marker": {
             "colorbar": {
              "outlinewidth": 0,
              "ticks": ""
             }
            },
            "type": "scattermapbox"
           }
          ],
          "scatterpolar": [
           {
            "marker": {
             "colorbar": {
              "outlinewidth": 0,
              "ticks": ""
             }
            },
            "type": "scatterpolar"
           }
          ],
          "scatterpolargl": [
           {
            "marker": {
             "colorbar": {
              "outlinewidth": 0,
              "ticks": ""
             }
            },
            "type": "scatterpolargl"
           }
          ],
          "scatterternary": [
           {
            "marker": {
             "colorbar": {
              "outlinewidth": 0,
              "ticks": ""
             }
            },
            "type": "scatterternary"
           }
          ],
          "surface": [
           {
            "colorbar": {
             "outlinewidth": 0,
             "ticks": ""
            },
            "colorscale": [
             [
              0,
              "#0d0887"
             ],
             [
              0.1111111111111111,
              "#46039f"
             ],
             [
              0.2222222222222222,
              "#7201a8"
             ],
             [
              0.3333333333333333,
              "#9c179e"
             ],
             [
              0.4444444444444444,
              "#bd3786"
             ],
             [
              0.5555555555555556,
              "#d8576b"
             ],
             [
              0.6666666666666666,
              "#ed7953"
             ],
             [
              0.7777777777777778,
              "#fb9f3a"
             ],
             [
              0.8888888888888888,
              "#fdca26"
             ],
             [
              1,
              "#f0f921"
             ]
            ],
            "type": "surface"
           }
          ],
          "table": [
           {
            "cells": {
             "fill": {
              "color": "#EBF0F8"
             },
             "line": {
              "color": "white"
             }
            },
            "header": {
             "fill": {
              "color": "#C8D4E3"
             },
             "line": {
              "color": "white"
             }
            },
            "type": "table"
           }
          ]
         },
         "layout": {
          "annotationdefaults": {
           "arrowcolor": "#2a3f5f",
           "arrowhead": 0,
           "arrowwidth": 1
          },
          "autotypenumbers": "strict",
          "coloraxis": {
           "colorbar": {
            "outlinewidth": 0,
            "ticks": ""
           }
          },
          "colorscale": {
           "diverging": [
            [
             0,
             "#8e0152"
            ],
            [
             0.1,
             "#c51b7d"
            ],
            [
             0.2,
             "#de77ae"
            ],
            [
             0.3,
             "#f1b6da"
            ],
            [
             0.4,
             "#fde0ef"
            ],
            [
             0.5,
             "#f7f7f7"
            ],
            [
             0.6,
             "#e6f5d0"
            ],
            [
             0.7,
             "#b8e186"
            ],
            [
             0.8,
             "#7fbc41"
            ],
            [
             0.9,
             "#4d9221"
            ],
            [
             1,
             "#276419"
            ]
           ],
           "sequential": [
            [
             0,
             "#0d0887"
            ],
            [
             0.1111111111111111,
             "#46039f"
            ],
            [
             0.2222222222222222,
             "#7201a8"
            ],
            [
             0.3333333333333333,
             "#9c179e"
            ],
            [
             0.4444444444444444,
             "#bd3786"
            ],
            [
             0.5555555555555556,
             "#d8576b"
            ],
            [
             0.6666666666666666,
             "#ed7953"
            ],
            [
             0.7777777777777778,
             "#fb9f3a"
            ],
            [
             0.8888888888888888,
             "#fdca26"
            ],
            [
             1,
             "#f0f921"
            ]
           ],
           "sequentialminus": [
            [
             0,
             "#0d0887"
            ],
            [
             0.1111111111111111,
             "#46039f"
            ],
            [
             0.2222222222222222,
             "#7201a8"
            ],
            [
             0.3333333333333333,
             "#9c179e"
            ],
            [
             0.4444444444444444,
             "#bd3786"
            ],
            [
             0.5555555555555556,
             "#d8576b"
            ],
            [
             0.6666666666666666,
             "#ed7953"
            ],
            [
             0.7777777777777778,
             "#fb9f3a"
            ],
            [
             0.8888888888888888,
             "#fdca26"
            ],
            [
             1,
             "#f0f921"
            ]
           ]
          },
          "colorway": [
           "#636efa",
           "#EF553B",
           "#00cc96",
           "#ab63fa",
           "#FFA15A",
           "#19d3f3",
           "#FF6692",
           "#B6E880",
           "#FF97FF",
           "#FECB52"
          ],
          "font": {
           "color": "#2a3f5f"
          },
          "geo": {
           "bgcolor": "white",
           "lakecolor": "white",
           "landcolor": "#E5ECF6",
           "showlakes": true,
           "showland": true,
           "subunitcolor": "white"
          },
          "hoverlabel": {
           "align": "left"
          },
          "hovermode": "closest",
          "mapbox": {
           "style": "light"
          },
          "paper_bgcolor": "white",
          "plot_bgcolor": "#E5ECF6",
          "polar": {
           "angularaxis": {
            "gridcolor": "white",
            "linecolor": "white",
            "ticks": ""
           },
           "bgcolor": "#E5ECF6",
           "radialaxis": {
            "gridcolor": "white",
            "linecolor": "white",
            "ticks": ""
           }
          },
          "scene": {
           "xaxis": {
            "backgroundcolor": "#E5ECF6",
            "gridcolor": "white",
            "gridwidth": 2,
            "linecolor": "white",
            "showbackground": true,
            "ticks": "",
            "zerolinecolor": "white"
           },
           "yaxis": {
            "backgroundcolor": "#E5ECF6",
            "gridcolor": "white",
            "gridwidth": 2,
            "linecolor": "white",
            "showbackground": true,
            "ticks": "",
            "zerolinecolor": "white"
           },
           "zaxis": {
            "backgroundcolor": "#E5ECF6",
            "gridcolor": "white",
            "gridwidth": 2,
            "linecolor": "white",
            "showbackground": true,
            "ticks": "",
            "zerolinecolor": "white"
           }
          },
          "shapedefaults": {
           "line": {
            "color": "#2a3f5f"
           }
          },
          "ternary": {
           "aaxis": {
            "gridcolor": "white",
            "linecolor": "white",
            "ticks": ""
           },
           "baxis": {
            "gridcolor": "white",
            "linecolor": "white",
            "ticks": ""
           },
           "bgcolor": "#E5ECF6",
           "caxis": {
            "gridcolor": "white",
            "linecolor": "white",
            "ticks": ""
           }
          },
          "title": {
           "x": 0.05
          },
          "xaxis": {
           "automargin": true,
           "gridcolor": "white",
           "linecolor": "white",
           "ticks": "",
           "title": {
            "standoff": 15
           },
           "zerolinecolor": "white",
           "zerolinewidth": 2
          },
          "yaxis": {
           "automargin": true,
           "gridcolor": "white",
           "linecolor": "white",
           "ticks": "",
           "title": {
            "standoff": 15
           },
           "zerolinecolor": "white",
           "zerolinewidth": 2
          }
         }
        },
        "title": {
         "text": "Scatterplot of Points in a Unit Circle"
        },
        "xaxis": {
         "anchor": "y",
         "domain": [
          0,
          1
         ],
         "title": {
          "text": "x"
         }
        },
        "yaxis": {
         "anchor": "x",
         "domain": [
          0,
          1
         ],
         "title": {
          "text": "y"
         }
        }
       }
      }
     },
     "metadata": {},
     "output_type": "display_data"
    }
   ],
   "source": [
    "import pandas as pd\n",
    "import numpy as np\n",
    "import plotly.express as px\n",
    "\n",
    "# Number of points\n",
    "num_points = 50\n",
    "\n",
    "# Generate points in a unit circle\n",
    "angles = np.linspace(0, 2 * np.pi, num_points, endpoint=False)\n",
    "x = np.cos(angles)\n",
    "y = np.sin(angles)\n",
    "\n",
    "# Create a DataFrame\n",
    "data = {\n",
    "    'factor_name': [f'Factor_{i+1}' for i in range(num_points)],\n",
    "    'asset_class': np.random.choice(['Equity', 'Fixed Income', 'Commodities', 'FX'], num_points),\n",
    "    'x': x,\n",
    "    'y': y\n",
    "}\n",
    "df = pd.DataFrame(data)\n",
    "\n",
    "# Create the scatterplot\n",
    "fig = px.scatter(\n",
    "    df, x='x', y='y',\n",
    "    color='asset_class',\n",
    "    hover_data=['factor_name'],\n",
    "    title='Scatterplot of Points in a Unit Circle'\n",
    ")\n",
    "\n",
    "# Show the plot\n",
    "fig.show()"
   ]
  },
  {
   "cell_type": "code",
   "execution_count": null,
   "metadata": {},
   "outputs": [
    {
     "data": {
      "application/vnd.plotly.v1+json": {
       "config": {
        "plotlyServerURL": "https://plot.ly"
       },
       "data": [
        {
         "customdata": [
          [
           "Factor_1"
          ],
          [
           "Factor_6"
          ],
          [
           "Factor_10"
          ],
          [
           "Factor_27"
          ],
          [
           "Factor_35"
          ],
          [
           "Factor_37"
          ],
          [
           "Factor_43"
          ],
          [
           "Factor_44"
          ],
          [
           "Factor_49"
          ]
         ],
         "hovertemplate": "asset_class=FX<br>x=%{x}<br>y=%{y}<br>factor_name=%{customdata[0]}<extra></extra>",
         "legendgroup": "FX",
         "marker": {
          "color": "#636efa",
          "symbol": "circle"
         },
         "mode": "markers+text",
         "name": "FX",
         "orientation": "v",
         "showlegend": true,
         "text": [
          "Factor_1",
          "Factor_6",
          "Factor_10",
          "Factor_27",
          "Factor_35",
          "Factor_37",
          "Factor_43",
          "Factor_44",
          "Factor_49"
         ],
         "textposition": "top center",
         "type": "scatter",
         "x": [
          1,
          0.8090169943749475,
          0.42577929156507266,
          -0.9921147013144779,
          -0.42577929156507216,
          -0.18738131458572463,
          0.5358267949789968,
          0.63742398974869,
          0.9685831611286312
         ],
         "xaxis": "x",
         "y": [
          0,
          0.5877852522924731,
          0.9048270524660196,
          -0.12533323356430429,
          -0.9048270524660198,
          -0.9822872507286887,
          -0.844327925502015,
          -0.770513242775789,
          -0.2486898871648545
         ],
         "yaxis": "y"
        },
        {
         "customdata": [
          [
           "Factor_2"
          ],
          [
           "Factor_8"
          ],
          [
           "Factor_14"
          ],
          [
           "Factor_16"
          ],
          [
           "Factor_19"
          ],
          [
           "Factor_21"
          ],
          [
           "Factor_26"
          ],
          [
           "Factor_28"
          ],
          [
           "Factor_34"
          ],
          [
           "Factor_38"
          ],
          [
           "Factor_41"
          ],
          [
           "Factor_42"
          ],
          [
           "Factor_47"
          ],
          [
           "Factor_50"
          ]
         ],
         "hovertemplate": "asset_class=Fixed Income<br>x=%{x}<br>y=%{y}<br>factor_name=%{customdata[0]}<extra></extra>",
         "legendgroup": "Fixed Income",
         "marker": {
          "color": "#EF553B",
          "symbol": "circle"
         },
         "mode": "markers+text",
         "name": "Fixed Income",
         "orientation": "v",
         "showlegend": true,
         "text": [
          "Factor_2",
          "Factor_8",
          "Factor_14",
          "Factor_16",
          "Factor_19",
          "Factor_21",
          "Factor_26",
          "Factor_28",
          "Factor_34",
          "Factor_38",
          "Factor_41",
          "Factor_42",
          "Factor_47",
          "Factor_50"
         ],
         "textposition": "top center",
         "type": "scatter",
         "x": [
          0.9921147013144779,
          0.6374239897486896,
          -0.0627905195293134,
          -0.30901699437494756,
          -0.6374239897486897,
          -0.8090169943749473,
          -1,
          -0.9685831611286311,
          -0.5358267949789963,
          -0.06279051952931321,
          0.30901699437494723,
          0.4257792915650726,
          0.8763066800438636,
          0.9921147013144779
         ],
         "xaxis": "x",
         "y": [
          0.12533323356430426,
          0.7705132427757893,
          0.9980267284282716,
          0.9510565162951535,
          0.7705132427757893,
          0.5877852522924732,
          -3.216245299353273e-16,
          -0.24868988716485502,
          -0.8443279255020153,
          -0.9980267284282716,
          -0.9510565162951536,
          -0.9048270524660196,
          -0.4817536741017153,
          -0.1253332335643038
         ],
         "yaxis": "y"
        },
        {
         "customdata": [
          [
           "Factor_3"
          ],
          [
           "Factor_4"
          ],
          [
           "Factor_5"
          ],
          [
           "Factor_9"
          ],
          [
           "Factor_12"
          ],
          [
           "Factor_13"
          ],
          [
           "Factor_22"
          ],
          [
           "Factor_23"
          ],
          [
           "Factor_24"
          ],
          [
           "Factor_30"
          ],
          [
           "Factor_31"
          ],
          [
           "Factor_33"
          ],
          [
           "Factor_36"
          ],
          [
           "Factor_40"
          ],
          [
           "Factor_45"
          ],
          [
           "Factor_46"
          ]
         ],
         "hovertemplate": "asset_class=Equity<br>x=%{x}<br>y=%{y}<br>factor_name=%{customdata[0]}<extra></extra>",
         "legendgroup": "Equity",
         "marker": {
          "color": "#00cc96",
          "symbol": "circle"
         },
         "mode": "markers+text",
         "name": "Equity",
         "orientation": "v",
         "showlegend": true,
         "text": [
          "Factor_3",
          "Factor_4",
          "Factor_5",
          "Factor_9",
          "Factor_12",
          "Factor_13",
          "Factor_22",
          "Factor_23",
          "Factor_24",
          "Factor_30",
          "Factor_31",
          "Factor_33",
          "Factor_36",
          "Factor_40",
          "Factor_45",
          "Factor_46"
         ],
         "textposition": "top center",
         "type": "scatter",
         "x": [
          0.9685831611286311,
          0.9297764858882513,
          0.8763066800438636,
          0.5358267949789965,
          0.18738131458572452,
          0.0627905195293133,
          -0.8763066800438636,
          -0.9297764858882515,
          -0.9685831611286311,
          -0.8763066800438636,
          -0.8090169943749472,
          -0.6374239897486895,
          -0.30901699437494756,
          0.18738131458572513,
          0.7289686274214119,
          0.8090169943749478
         ],
         "xaxis": "x",
         "y": [
          0.2486898871648548,
          0.368124552684678,
          0.4817536741017153,
          0.8443279255020151,
          0.9822872507286887,
          0.9980267284282716,
          0.4817536741017152,
          0.36812455268467775,
          0.24868988716485482,
          -0.4817536741017154,
          -0.5877852522924734,
          -0.7705132427757894,
          -0.9510565162951535,
          -0.9822872507286886,
          -0.6845471059286883,
          -0.5877852522924726
         ],
         "yaxis": "y"
        },
        {
         "customdata": [
          [
           "Factor_7"
          ],
          [
           "Factor_11"
          ],
          [
           "Factor_15"
          ],
          [
           "Factor_17"
          ],
          [
           "Factor_18"
          ],
          [
           "Factor_20"
          ],
          [
           "Factor_25"
          ],
          [
           "Factor_29"
          ],
          [
           "Factor_32"
          ],
          [
           "Factor_39"
          ],
          [
           "Factor_48"
          ]
         ],
         "hovertemplate": "asset_class=Commodities<br>x=%{x}<br>y=%{y}<br>factor_name=%{customdata[0]}<extra></extra>",
         "legendgroup": "Commodities",
         "marker": {
          "color": "#ab63fa",
          "symbol": "circle"
         },
         "mode": "markers+text",
         "name": "Commodities",
         "orientation": "v",
         "showlegend": true,
         "text": [
          "Factor_7",
          "Factor_11",
          "Factor_15",
          "Factor_17",
          "Factor_18",
          "Factor_20",
          "Factor_25",
          "Factor_29",
          "Factor_32",
          "Factor_39",
          "Factor_48"
         ],
         "textposition": "top center",
         "type": "scatter",
         "x": [
          0.7289686274214116,
          0.30901699437494745,
          -0.18738131458572482,
          -0.4257792915650727,
          -0.5358267949789969,
          -0.7289686274214117,
          -0.9921147013144779,
          -0.9297764858882512,
          -0.7289686274214116,
          0.06279051952931372,
          0.9297764858882515
         ],
         "xaxis": "x",
         "y": [
          0.6845471059286887,
          0.9510565162951535,
          0.9822872507286886,
          0.9048270524660195,
          0.844327925502015,
          0.6845471059286885,
          0.1253332335643041,
          -0.3681245526846783,
          -0.6845471059286887,
          -0.9980267284282716,
          -0.36812455268467786
         ],
         "yaxis": "y"
        }
       ],
       "layout": {
        "legend": {
         "title": {
          "text": "asset_class"
         },
         "tracegroupgap": 0
        },
        "template": {
         "data": {
          "bar": [
           {
            "error_x": {
             "color": "#2a3f5f"
            },
            "error_y": {
             "color": "#2a3f5f"
            },
            "marker": {
             "line": {
              "color": "#E5ECF6",
              "width": 0.5
             },
             "pattern": {
              "fillmode": "overlay",
              "size": 10,
              "solidity": 0.2
             }
            },
            "type": "bar"
           }
          ],
          "barpolar": [
           {
            "marker": {
             "line": {
              "color": "#E5ECF6",
              "width": 0.5
             },
             "pattern": {
              "fillmode": "overlay",
              "size": 10,
              "solidity": 0.2
             }
            },
            "type": "barpolar"
           }
          ],
          "carpet": [
           {
            "aaxis": {
             "endlinecolor": "#2a3f5f",
             "gridcolor": "white",
             "linecolor": "white",
             "minorgridcolor": "white",
             "startlinecolor": "#2a3f5f"
            },
            "baxis": {
             "endlinecolor": "#2a3f5f",
             "gridcolor": "white",
             "linecolor": "white",
             "minorgridcolor": "white",
             "startlinecolor": "#2a3f5f"
            },
            "type": "carpet"
           }
          ],
          "choropleth": [
           {
            "colorbar": {
             "outlinewidth": 0,
             "ticks": ""
            },
            "type": "choropleth"
           }
          ],
          "contour": [
           {
            "colorbar": {
             "outlinewidth": 0,
             "ticks": ""
            },
            "colorscale": [
             [
              0,
              "#0d0887"
             ],
             [
              0.1111111111111111,
              "#46039f"
             ],
             [
              0.2222222222222222,
              "#7201a8"
             ],
             [
              0.3333333333333333,
              "#9c179e"
             ],
             [
              0.4444444444444444,
              "#bd3786"
             ],
             [
              0.5555555555555556,
              "#d8576b"
             ],
             [
              0.6666666666666666,
              "#ed7953"
             ],
             [
              0.7777777777777778,
              "#fb9f3a"
             ],
             [
              0.8888888888888888,
              "#fdca26"
             ],
             [
              1,
              "#f0f921"
             ]
            ],
            "type": "contour"
           }
          ],
          "contourcarpet": [
           {
            "colorbar": {
             "outlinewidth": 0,
             "ticks": ""
            },
            "type": "contourcarpet"
           }
          ],
          "heatmap": [
           {
            "colorbar": {
             "outlinewidth": 0,
             "ticks": ""
            },
            "colorscale": [
             [
              0,
              "#0d0887"
             ],
             [
              0.1111111111111111,
              "#46039f"
             ],
             [
              0.2222222222222222,
              "#7201a8"
             ],
             [
              0.3333333333333333,
              "#9c179e"
             ],
             [
              0.4444444444444444,
              "#bd3786"
             ],
             [
              0.5555555555555556,
              "#d8576b"
             ],
             [
              0.6666666666666666,
              "#ed7953"
             ],
             [
              0.7777777777777778,
              "#fb9f3a"
             ],
             [
              0.8888888888888888,
              "#fdca26"
             ],
             [
              1,
              "#f0f921"
             ]
            ],
            "type": "heatmap"
           }
          ],
          "heatmapgl": [
           {
            "colorbar": {
             "outlinewidth": 0,
             "ticks": ""
            },
            "colorscale": [
             [
              0,
              "#0d0887"
             ],
             [
              0.1111111111111111,
              "#46039f"
             ],
             [
              0.2222222222222222,
              "#7201a8"
             ],
             [
              0.3333333333333333,
              "#9c179e"
             ],
             [
              0.4444444444444444,
              "#bd3786"
             ],
             [
              0.5555555555555556,
              "#d8576b"
             ],
             [
              0.6666666666666666,
              "#ed7953"
             ],
             [
              0.7777777777777778,
              "#fb9f3a"
             ],
             [
              0.8888888888888888,
              "#fdca26"
             ],
             [
              1,
              "#f0f921"
             ]
            ],
            "type": "heatmapgl"
           }
          ],
          "histogram": [
           {
            "marker": {
             "pattern": {
              "fillmode": "overlay",
              "size": 10,
              "solidity": 0.2
             }
            },
            "type": "histogram"
           }
          ],
          "histogram2d": [
           {
            "colorbar": {
             "outlinewidth": 0,
             "ticks": ""
            },
            "colorscale": [
             [
              0,
              "#0d0887"
             ],
             [
              0.1111111111111111,
              "#46039f"
             ],
             [
              0.2222222222222222,
              "#7201a8"
             ],
             [
              0.3333333333333333,
              "#9c179e"
             ],
             [
              0.4444444444444444,
              "#bd3786"
             ],
             [
              0.5555555555555556,
              "#d8576b"
             ],
             [
              0.6666666666666666,
              "#ed7953"
             ],
             [
              0.7777777777777778,
              "#fb9f3a"
             ],
             [
              0.8888888888888888,
              "#fdca26"
             ],
             [
              1,
              "#f0f921"
             ]
            ],
            "type": "histogram2d"
           }
          ],
          "histogram2dcontour": [
           {
            "colorbar": {
             "outlinewidth": 0,
             "ticks": ""
            },
            "colorscale": [
             [
              0,
              "#0d0887"
             ],
             [
              0.1111111111111111,
              "#46039f"
             ],
             [
              0.2222222222222222,
              "#7201a8"
             ],
             [
              0.3333333333333333,
              "#9c179e"
             ],
             [
              0.4444444444444444,
              "#bd3786"
             ],
             [
              0.5555555555555556,
              "#d8576b"
             ],
             [
              0.6666666666666666,
              "#ed7953"
             ],
             [
              0.7777777777777778,
              "#fb9f3a"
             ],
             [
              0.8888888888888888,
              "#fdca26"
             ],
             [
              1,
              "#f0f921"
             ]
            ],
            "type": "histogram2dcontour"
           }
          ],
          "mesh3d": [
           {
            "colorbar": {
             "outlinewidth": 0,
             "ticks": ""
            },
            "type": "mesh3d"
           }
          ],
          "parcoords": [
           {
            "line": {
             "colorbar": {
              "outlinewidth": 0,
              "ticks": ""
             }
            },
            "type": "parcoords"
           }
          ],
          "pie": [
           {
            "automargin": true,
            "type": "pie"
           }
          ],
          "scatter": [
           {
            "fillpattern": {
             "fillmode": "overlay",
             "size": 10,
             "solidity": 0.2
            },
            "type": "scatter"
           }
          ],
          "scatter3d": [
           {
            "line": {
             "colorbar": {
              "outlinewidth": 0,
              "ticks": ""
             }
            },
            "marker": {
             "colorbar": {
              "outlinewidth": 0,
              "ticks": ""
             }
            },
            "type": "scatter3d"
           }
          ],
          "scattercarpet": [
           {
            "marker": {
             "colorbar": {
              "outlinewidth": 0,
              "ticks": ""
             }
            },
            "type": "scattercarpet"
           }
          ],
          "scattergeo": [
           {
            "marker": {
             "colorbar": {
              "outlinewidth": 0,
              "ticks": ""
             }
            },
            "type": "scattergeo"
           }
          ],
          "scattergl": [
           {
            "marker": {
             "colorbar": {
              "outlinewidth": 0,
              "ticks": ""
             }
            },
            "type": "scattergl"
           }
          ],
          "scattermapbox": [
           {
            "marker": {
             "colorbar": {
              "outlinewidth": 0,
              "ticks": ""
             }
            },
            "type": "scattermapbox"
           }
          ],
          "scatterpolar": [
           {
            "marker": {
             "colorbar": {
              "outlinewidth": 0,
              "ticks": ""
             }
            },
            "type": "scatterpolar"
           }
          ],
          "scatterpolargl": [
           {
            "marker": {
             "colorbar": {
              "outlinewidth": 0,
              "ticks": ""
             }
            },
            "type": "scatterpolargl"
           }
          ],
          "scatterternary": [
           {
            "marker": {
             "colorbar": {
              "outlinewidth": 0,
              "ticks": ""
             }
            },
            "type": "scatterternary"
           }
          ],
          "surface": [
           {
            "colorbar": {
             "outlinewidth": 0,
             "ticks": ""
            },
            "colorscale": [
             [
              0,
              "#0d0887"
             ],
             [
              0.1111111111111111,
              "#46039f"
             ],
             [
              0.2222222222222222,
              "#7201a8"
             ],
             [
              0.3333333333333333,
              "#9c179e"
             ],
             [
              0.4444444444444444,
              "#bd3786"
             ],
             [
              0.5555555555555556,
              "#d8576b"
             ],
             [
              0.6666666666666666,
              "#ed7953"
             ],
             [
              0.7777777777777778,
              "#fb9f3a"
             ],
             [
              0.8888888888888888,
              "#fdca26"
             ],
             [
              1,
              "#f0f921"
             ]
            ],
            "type": "surface"
           }
          ],
          "table": [
           {
            "cells": {
             "fill": {
              "color": "#EBF0F8"
             },
             "line": {
              "color": "white"
             }
            },
            "header": {
             "fill": {
              "color": "#C8D4E3"
             },
             "line": {
              "color": "white"
             }
            },
            "type": "table"
           }
          ]
         },
         "layout": {
          "annotationdefaults": {
           "arrowcolor": "#2a3f5f",
           "arrowhead": 0,
           "arrowwidth": 1
          },
          "autotypenumbers": "strict",
          "coloraxis": {
           "colorbar": {
            "outlinewidth": 0,
            "ticks": ""
           }
          },
          "colorscale": {
           "diverging": [
            [
             0,
             "#8e0152"
            ],
            [
             0.1,
             "#c51b7d"
            ],
            [
             0.2,
             "#de77ae"
            ],
            [
             0.3,
             "#f1b6da"
            ],
            [
             0.4,
             "#fde0ef"
            ],
            [
             0.5,
             "#f7f7f7"
            ],
            [
             0.6,
             "#e6f5d0"
            ],
            [
             0.7,
             "#b8e186"
            ],
            [
             0.8,
             "#7fbc41"
            ],
            [
             0.9,
             "#4d9221"
            ],
            [
             1,
             "#276419"
            ]
           ],
           "sequential": [
            [
             0,
             "#0d0887"
            ],
            [
             0.1111111111111111,
             "#46039f"
            ],
            [
             0.2222222222222222,
             "#7201a8"
            ],
            [
             0.3333333333333333,
             "#9c179e"
            ],
            [
             0.4444444444444444,
             "#bd3786"
            ],
            [
             0.5555555555555556,
             "#d8576b"
            ],
            [
             0.6666666666666666,
             "#ed7953"
            ],
            [
             0.7777777777777778,
             "#fb9f3a"
            ],
            [
             0.8888888888888888,
             "#fdca26"
            ],
            [
             1,
             "#f0f921"
            ]
           ],
           "sequentialminus": [
            [
             0,
             "#0d0887"
            ],
            [
             0.1111111111111111,
             "#46039f"
            ],
            [
             0.2222222222222222,
             "#7201a8"
            ],
            [
             0.3333333333333333,
             "#9c179e"
            ],
            [
             0.4444444444444444,
             "#bd3786"
            ],
            [
             0.5555555555555556,
             "#d8576b"
            ],
            [
             0.6666666666666666,
             "#ed7953"
            ],
            [
             0.7777777777777778,
             "#fb9f3a"
            ],
            [
             0.8888888888888888,
             "#fdca26"
            ],
            [
             1,
             "#f0f921"
            ]
           ]
          },
          "colorway": [
           "#636efa",
           "#EF553B",
           "#00cc96",
           "#ab63fa",
           "#FFA15A",
           "#19d3f3",
           "#FF6692",
           "#B6E880",
           "#FF97FF",
           "#FECB52"
          ],
          "font": {
           "color": "#2a3f5f"
          },
          "geo": {
           "bgcolor": "white",
           "lakecolor": "white",
           "landcolor": "#E5ECF6",
           "showlakes": true,
           "showland": true,
           "subunitcolor": "white"
          },
          "hoverlabel": {
           "align": "left"
          },
          "hovermode": "closest",
          "mapbox": {
           "style": "light"
          },
          "paper_bgcolor": "white",
          "plot_bgcolor": "#E5ECF6",
          "polar": {
           "angularaxis": {
            "gridcolor": "white",
            "linecolor": "white",
            "ticks": ""
           },
           "bgcolor": "#E5ECF6",
           "radialaxis": {
            "gridcolor": "white",
            "linecolor": "white",
            "ticks": ""
           }
          },
          "scene": {
           "xaxis": {
            "backgroundcolor": "#E5ECF6",
            "gridcolor": "white",
            "gridwidth": 2,
            "linecolor": "white",
            "showbackground": true,
            "ticks": "",
            "zerolinecolor": "white"
           },
           "yaxis": {
            "backgroundcolor": "#E5ECF6",
            "gridcolor": "white",
            "gridwidth": 2,
            "linecolor": "white",
            "showbackground": true,
            "ticks": "",
            "zerolinecolor": "white"
           },
           "zaxis": {
            "backgroundcolor": "#E5ECF6",
            "gridcolor": "white",
            "gridwidth": 2,
            "linecolor": "white",
            "showbackground": true,
            "ticks": "",
            "zerolinecolor": "white"
           }
          },
          "shapedefaults": {
           "line": {
            "color": "#2a3f5f"
           }
          },
          "ternary": {
           "aaxis": {
            "gridcolor": "white",
            "linecolor": "white",
            "ticks": ""
           },
           "baxis": {
            "gridcolor": "white",
            "linecolor": "white",
            "ticks": ""
           },
           "bgcolor": "#E5ECF6",
           "caxis": {
            "gridcolor": "white",
            "linecolor": "white",
            "ticks": ""
           }
          },
          "title": {
           "x": 0.05
          },
          "xaxis": {
           "automargin": true,
           "gridcolor": "white",
           "linecolor": "white",
           "ticks": "",
           "title": {
            "standoff": 15
           },
           "zerolinecolor": "white",
           "zerolinewidth": 2
          },
          "yaxis": {
           "automargin": true,
           "gridcolor": "white",
           "linecolor": "white",
           "ticks": "",
           "title": {
            "standoff": 15
           },
           "zerolinecolor": "white",
           "zerolinewidth": 2
          }
         }
        },
        "title": {
         "text": "Scatterplot of Points in a Unit Circle"
        },
        "xaxis": {
         "anchor": "y",
         "domain": [
          0,
          1
         ],
         "title": {
          "text": "x"
         }
        },
        "yaxis": {
         "anchor": "x",
         "domain": [
          0,
          1
         ],
         "title": {
          "text": "y"
         }
        }
       }
      }
     },
     "metadata": {},
     "output_type": "display_data"
    }
   ],
   "source": [
    "import pandas as pd\n",
    "import numpy as np\n",
    "import plotly.express as px\n",
    "\n",
    "# Number of points\n",
    "num_points = 50\n",
    "\n",
    "# Generate points in a unit circle\n",
    "angles = np.linspace(0, 2 * np.pi, num_points, endpoint=False)\n",
    "x = np.cos(angles)\n",
    "y = np.sin(angles)\n",
    "\n",
    "# Create a DataFrame\n",
    "data = {\n",
    "    'factor_name': [f'Factor_{i+1}' for i in range(num_points)],\n",
    "    'asset_class': np.random.choice(['Equity', 'Fixed Income', 'Commodities', 'FX'], num_points),\n",
    "    'x': x,\n",
    "    'y': y\n",
    "}\n",
    "df = pd.DataFrame(data)\n",
    "\n",
    "# Create the scatterplot with labels\n",
    "fig = px.scatter(\n",
    "    df, x='x', y='y',\n",
    "    color='asset_class',\n",
    "    text='factor_name',  # Add labels\n",
    "    hover_data=['factor_name'],\n",
    "    title='Scatterplot of Points in a Unit Circle'\n",
    ")\n",
    "\n",
    "# Update layout to adjust text position\n",
    "fig.update_traces(textposition='top center')\n",
    "\n",
    "# Show the plot\n",
    "fig.show()\n"
   ]
  },
  {
   "cell_type": "code",
   "execution_count": 5,
   "metadata": {},
   "outputs": [
    {
     "data": {
      "application/vnd.plotly.v1+json": {
       "config": {
        "plotlyServerURL": "https://plot.ly"
       },
       "data": [
        {
         "customdata": [
          [
           "Factor_1"
          ],
          [
           "Factor_4"
          ],
          [
           "Factor_8"
          ],
          [
           "Factor_14"
          ],
          [
           "Factor_15"
          ],
          [
           "Factor_16"
          ],
          [
           "Factor_19"
          ],
          [
           "Factor_21"
          ],
          [
           "Factor_22"
          ],
          [
           "Factor_23"
          ],
          [
           "Factor_27"
          ],
          [
           "Factor_31"
          ],
          [
           "Factor_35"
          ],
          [
           "Factor_36"
          ],
          [
           "Factor_38"
          ],
          [
           "Factor_39"
          ],
          [
           "Factor_46"
          ],
          [
           "Factor_50"
          ]
         ],
         "hovertemplate": "asset_class=%{text}<br>x=%{x}<br>y=%{y}<br>factor_name=%{customdata[0]}<extra></extra>",
         "legendgroup": "Equity",
         "marker": {
          "color": "#636efa",
          "symbol": "circle"
         },
         "mode": "markers+text",
         "name": "Equity",
         "orientation": "v",
         "showlegend": true,
         "text": [
          "Equity",
          "Equity",
          "Equity",
          "Equity",
          "Equity",
          "Equity",
          "Equity",
          "Equity",
          "Equity",
          "Equity",
          "Equity",
          "Equity",
          "Equity",
          "Equity",
          "Equity",
          "Equity",
          "Equity",
          "Equity"
         ],
         "textfont": {
          "color": [
           "gray",
           "black",
           "gray",
           "gray",
           "gray",
           "gray",
           "gray",
           "gray",
           "black",
           "black",
           "black",
           "gray",
           "black",
           "gray",
           "gray",
           "gray",
           "gray",
           "gray",
           "gray",
           "gray",
           "gray",
           "gray",
           "gray",
           "gray",
           "gray",
           "gray",
           "gray",
           "gray",
           "gray",
           "gray",
           "gray",
           "gray",
           "gray",
           "gray",
           "gray",
           "gray",
           "gray",
           "gray",
           "gray",
           "black",
           "gray",
           "black",
           "black",
           "gray",
           "gray",
           "gray",
           "black",
           "gray",
           "gray",
           "gray"
          ]
         },
         "textposition": "top center",
         "type": "scatter",
         "x": [
          1,
          0.9297764858882513,
          0.6374239897486896,
          -0.0627905195293134,
          -0.18738131458572482,
          -0.30901699437494756,
          -0.6374239897486897,
          -0.8090169943749473,
          -0.8763066800438636,
          -0.9297764858882515,
          -0.9921147013144779,
          -0.8090169943749472,
          -0.42577929156507216,
          -0.30901699437494756,
          -0.06279051952931321,
          0.06279051952931372,
          0.8090169943749478,
          0.9921147013144779
         ],
         "xaxis": "x",
         "y": [
          0,
          0.368124552684678,
          0.7705132427757893,
          0.9980267284282716,
          0.9822872507286886,
          0.9510565162951535,
          0.7705132427757893,
          0.5877852522924732,
          0.4817536741017152,
          0.36812455268467775,
          -0.12533323356430429,
          -0.5877852522924734,
          -0.9048270524660198,
          -0.9510565162951535,
          -0.9980267284282716,
          -0.9980267284282716,
          -0.5877852522924726,
          -0.1253332335643038
         ],
         "yaxis": "y"
        },
        {
         "customdata": [
          [
           "Factor_2"
          ],
          [
           "Factor_9"
          ],
          [
           "Factor_10"
          ],
          [
           "Factor_11"
          ],
          [
           "Factor_13"
          ],
          [
           "Factor_40"
          ],
          [
           "Factor_42"
          ],
          [
           "Factor_43"
          ],
          [
           "Factor_47"
          ]
         ],
         "hovertemplate": "asset_class=%{text}<br>x=%{x}<br>y=%{y}<br>factor_name=%{customdata[0]}<extra></extra>",
         "legendgroup": "Commodities",
         "marker": {
          "color": "#EF553B",
          "symbol": "circle"
         },
         "mode": "markers+text",
         "name": "Commodities",
         "orientation": "v",
         "showlegend": true,
         "text": [
          "Commodities",
          "Commodities",
          "Commodities",
          "Commodities",
          "Commodities",
          "Commodities",
          "Commodities",
          "Commodities",
          "Commodities"
         ],
         "textfont": {
          "color": [
           "gray",
           "black",
           "gray",
           "gray",
           "gray",
           "gray",
           "gray",
           "gray",
           "black",
           "black",
           "black",
           "gray",
           "black",
           "gray",
           "gray",
           "gray",
           "gray",
           "gray",
           "gray",
           "gray",
           "gray",
           "gray",
           "gray",
           "gray",
           "gray",
           "gray",
           "gray",
           "gray",
           "gray",
           "gray",
           "gray",
           "gray",
           "gray",
           "gray",
           "gray",
           "gray",
           "gray",
           "gray",
           "gray",
           "black",
           "gray",
           "black",
           "black",
           "gray",
           "gray",
           "gray",
           "black",
           "gray",
           "gray",
           "gray"
          ]
         },
         "textposition": "top center",
         "type": "scatter",
         "x": [
          0.9921147013144779,
          0.5358267949789965,
          0.42577929156507266,
          0.30901699437494745,
          0.0627905195293133,
          0.18738131458572513,
          0.4257792915650726,
          0.5358267949789968,
          0.8763066800438636
         ],
         "xaxis": "x",
         "y": [
          0.12533323356430426,
          0.8443279255020151,
          0.9048270524660196,
          0.9510565162951535,
          0.9980267284282716,
          -0.9822872507286886,
          -0.9048270524660196,
          -0.844327925502015,
          -0.4817536741017153
         ],
         "yaxis": "y"
        },
        {
         "customdata": [
          [
           "Factor_3"
          ],
          [
           "Factor_5"
          ],
          [
           "Factor_6"
          ],
          [
           "Factor_18"
          ],
          [
           "Factor_24"
          ],
          [
           "Factor_26"
          ],
          [
           "Factor_29"
          ],
          [
           "Factor_30"
          ],
          [
           "Factor_33"
          ],
          [
           "Factor_34"
          ],
          [
           "Factor_45"
          ],
          [
           "Factor_48"
          ],
          [
           "Factor_49"
          ]
         ],
         "hovertemplate": "asset_class=%{text}<br>x=%{x}<br>y=%{y}<br>factor_name=%{customdata[0]}<extra></extra>",
         "legendgroup": "FX",
         "marker": {
          "color": "#00cc96",
          "symbol": "circle"
         },
         "mode": "markers+text",
         "name": "FX",
         "orientation": "v",
         "showlegend": true,
         "text": [
          "FX",
          "FX",
          "FX",
          "FX",
          "FX",
          "FX",
          "FX",
          "FX",
          "FX",
          "FX",
          "FX",
          "FX",
          "FX"
         ],
         "textfont": {
          "color": [
           "gray",
           "black",
           "gray",
           "gray",
           "gray",
           "gray",
           "gray",
           "gray",
           "black",
           "black",
           "black",
           "gray",
           "black",
           "gray",
           "gray",
           "gray",
           "gray",
           "gray",
           "gray",
           "gray",
           "gray",
           "gray",
           "gray",
           "gray",
           "gray",
           "gray",
           "gray",
           "gray",
           "gray",
           "gray",
           "gray",
           "gray",
           "gray",
           "gray",
           "gray",
           "gray",
           "gray",
           "gray",
           "gray",
           "black",
           "gray",
           "black",
           "black",
           "gray",
           "gray",
           "gray",
           "black",
           "gray",
           "gray",
           "gray"
          ]
         },
         "textposition": "top center",
         "type": "scatter",
         "x": [
          0.9685831611286311,
          0.8763066800438636,
          0.8090169943749475,
          -0.5358267949789969,
          -0.9685831611286311,
          -1,
          -0.9297764858882512,
          -0.8763066800438636,
          -0.6374239897486895,
          -0.5358267949789963,
          0.7289686274214119,
          0.9297764858882515,
          0.9685831611286312
         ],
         "xaxis": "x",
         "y": [
          0.2486898871648548,
          0.4817536741017153,
          0.5877852522924731,
          0.844327925502015,
          0.24868988716485482,
          -3.216245299353273e-16,
          -0.3681245526846783,
          -0.4817536741017154,
          -0.7705132427757894,
          -0.8443279255020153,
          -0.6845471059286883,
          -0.36812455268467786,
          -0.2486898871648545
         ],
         "yaxis": "y"
        },
        {
         "customdata": [
          [
           "Factor_7"
          ],
          [
           "Factor_12"
          ],
          [
           "Factor_17"
          ],
          [
           "Factor_20"
          ],
          [
           "Factor_25"
          ],
          [
           "Factor_28"
          ],
          [
           "Factor_32"
          ],
          [
           "Factor_37"
          ],
          [
           "Factor_41"
          ],
          [
           "Factor_44"
          ]
         ],
         "hovertemplate": "asset_class=%{text}<br>x=%{x}<br>y=%{y}<br>factor_name=%{customdata[0]}<extra></extra>",
         "legendgroup": "Fixed Income",
         "marker": {
          "color": "#ab63fa",
          "symbol": "circle"
         },
         "mode": "markers+text",
         "name": "Fixed Income",
         "orientation": "v",
         "showlegend": true,
         "text": [
          "Fixed Income",
          "Fixed Income",
          "Fixed Income",
          "Fixed Income",
          "Fixed Income",
          "Fixed Income",
          "Fixed Income",
          "Fixed Income",
          "Fixed Income",
          "Fixed Income"
         ],
         "textfont": {
          "color": [
           "gray",
           "black",
           "gray",
           "gray",
           "gray",
           "gray",
           "gray",
           "gray",
           "black",
           "black",
           "black",
           "gray",
           "black",
           "gray",
           "gray",
           "gray",
           "gray",
           "gray",
           "gray",
           "gray",
           "gray",
           "gray",
           "gray",
           "gray",
           "gray",
           "gray",
           "gray",
           "gray",
           "gray",
           "gray",
           "gray",
           "gray",
           "gray",
           "gray",
           "gray",
           "gray",
           "gray",
           "gray",
           "gray",
           "black",
           "gray",
           "black",
           "black",
           "gray",
           "gray",
           "gray",
           "black",
           "gray",
           "gray",
           "gray"
          ]
         },
         "textposition": "top center",
         "type": "scatter",
         "x": [
          0.7289686274214116,
          0.18738131458572452,
          -0.4257792915650727,
          -0.7289686274214117,
          -0.9921147013144779,
          -0.9685831611286311,
          -0.7289686274214116,
          -0.18738131458572463,
          0.30901699437494723,
          0.63742398974869
         ],
         "xaxis": "x",
         "y": [
          0.6845471059286887,
          0.9822872507286887,
          0.9048270524660195,
          0.6845471059286885,
          0.1253332335643041,
          -0.24868988716485502,
          -0.6845471059286887,
          -0.9822872507286887,
          -0.9510565162951536,
          -0.770513242775789
         ],
         "yaxis": "y"
        }
       ],
       "layout": {
        "legend": {
         "title": {
          "text": "asset_class"
         },
         "tracegroupgap": 0
        },
        "template": {
         "data": {
          "bar": [
           {
            "error_x": {
             "color": "#2a3f5f"
            },
            "error_y": {
             "color": "#2a3f5f"
            },
            "marker": {
             "line": {
              "color": "#E5ECF6",
              "width": 0.5
             },
             "pattern": {
              "fillmode": "overlay",
              "size": 10,
              "solidity": 0.2
             }
            },
            "type": "bar"
           }
          ],
          "barpolar": [
           {
            "marker": {
             "line": {
              "color": "#E5ECF6",
              "width": 0.5
             },
             "pattern": {
              "fillmode": "overlay",
              "size": 10,
              "solidity": 0.2
             }
            },
            "type": "barpolar"
           }
          ],
          "carpet": [
           {
            "aaxis": {
             "endlinecolor": "#2a3f5f",
             "gridcolor": "white",
             "linecolor": "white",
             "minorgridcolor": "white",
             "startlinecolor": "#2a3f5f"
            },
            "baxis": {
             "endlinecolor": "#2a3f5f",
             "gridcolor": "white",
             "linecolor": "white",
             "minorgridcolor": "white",
             "startlinecolor": "#2a3f5f"
            },
            "type": "carpet"
           }
          ],
          "choropleth": [
           {
            "colorbar": {
             "outlinewidth": 0,
             "ticks": ""
            },
            "type": "choropleth"
           }
          ],
          "contour": [
           {
            "colorbar": {
             "outlinewidth": 0,
             "ticks": ""
            },
            "colorscale": [
             [
              0,
              "#0d0887"
             ],
             [
              0.1111111111111111,
              "#46039f"
             ],
             [
              0.2222222222222222,
              "#7201a8"
             ],
             [
              0.3333333333333333,
              "#9c179e"
             ],
             [
              0.4444444444444444,
              "#bd3786"
             ],
             [
              0.5555555555555556,
              "#d8576b"
             ],
             [
              0.6666666666666666,
              "#ed7953"
             ],
             [
              0.7777777777777778,
              "#fb9f3a"
             ],
             [
              0.8888888888888888,
              "#fdca26"
             ],
             [
              1,
              "#f0f921"
             ]
            ],
            "type": "contour"
           }
          ],
          "contourcarpet": [
           {
            "colorbar": {
             "outlinewidth": 0,
             "ticks": ""
            },
            "type": "contourcarpet"
           }
          ],
          "heatmap": [
           {
            "colorbar": {
             "outlinewidth": 0,
             "ticks": ""
            },
            "colorscale": [
             [
              0,
              "#0d0887"
             ],
             [
              0.1111111111111111,
              "#46039f"
             ],
             [
              0.2222222222222222,
              "#7201a8"
             ],
             [
              0.3333333333333333,
              "#9c179e"
             ],
             [
              0.4444444444444444,
              "#bd3786"
             ],
             [
              0.5555555555555556,
              "#d8576b"
             ],
             [
              0.6666666666666666,
              "#ed7953"
             ],
             [
              0.7777777777777778,
              "#fb9f3a"
             ],
             [
              0.8888888888888888,
              "#fdca26"
             ],
             [
              1,
              "#f0f921"
             ]
            ],
            "type": "heatmap"
           }
          ],
          "heatmapgl": [
           {
            "colorbar": {
             "outlinewidth": 0,
             "ticks": ""
            },
            "colorscale": [
             [
              0,
              "#0d0887"
             ],
             [
              0.1111111111111111,
              "#46039f"
             ],
             [
              0.2222222222222222,
              "#7201a8"
             ],
             [
              0.3333333333333333,
              "#9c179e"
             ],
             [
              0.4444444444444444,
              "#bd3786"
             ],
             [
              0.5555555555555556,
              "#d8576b"
             ],
             [
              0.6666666666666666,
              "#ed7953"
             ],
             [
              0.7777777777777778,
              "#fb9f3a"
             ],
             [
              0.8888888888888888,
              "#fdca26"
             ],
             [
              1,
              "#f0f921"
             ]
            ],
            "type": "heatmapgl"
           }
          ],
          "histogram": [
           {
            "marker": {
             "pattern": {
              "fillmode": "overlay",
              "size": 10,
              "solidity": 0.2
             }
            },
            "type": "histogram"
           }
          ],
          "histogram2d": [
           {
            "colorbar": {
             "outlinewidth": 0,
             "ticks": ""
            },
            "colorscale": [
             [
              0,
              "#0d0887"
             ],
             [
              0.1111111111111111,
              "#46039f"
             ],
             [
              0.2222222222222222,
              "#7201a8"
             ],
             [
              0.3333333333333333,
              "#9c179e"
             ],
             [
              0.4444444444444444,
              "#bd3786"
             ],
             [
              0.5555555555555556,
              "#d8576b"
             ],
             [
              0.6666666666666666,
              "#ed7953"
             ],
             [
              0.7777777777777778,
              "#fb9f3a"
             ],
             [
              0.8888888888888888,
              "#fdca26"
             ],
             [
              1,
              "#f0f921"
             ]
            ],
            "type": "histogram2d"
           }
          ],
          "histogram2dcontour": [
           {
            "colorbar": {
             "outlinewidth": 0,
             "ticks": ""
            },
            "colorscale": [
             [
              0,
              "#0d0887"
             ],
             [
              0.1111111111111111,
              "#46039f"
             ],
             [
              0.2222222222222222,
              "#7201a8"
             ],
             [
              0.3333333333333333,
              "#9c179e"
             ],
             [
              0.4444444444444444,
              "#bd3786"
             ],
             [
              0.5555555555555556,
              "#d8576b"
             ],
             [
              0.6666666666666666,
              "#ed7953"
             ],
             [
              0.7777777777777778,
              "#fb9f3a"
             ],
             [
              0.8888888888888888,
              "#fdca26"
             ],
             [
              1,
              "#f0f921"
             ]
            ],
            "type": "histogram2dcontour"
           }
          ],
          "mesh3d": [
           {
            "colorbar": {
             "outlinewidth": 0,
             "ticks": ""
            },
            "type": "mesh3d"
           }
          ],
          "parcoords": [
           {
            "line": {
             "colorbar": {
              "outlinewidth": 0,
              "ticks": ""
             }
            },
            "type": "parcoords"
           }
          ],
          "pie": [
           {
            "automargin": true,
            "type": "pie"
           }
          ],
          "scatter": [
           {
            "fillpattern": {
             "fillmode": "overlay",
             "size": 10,
             "solidity": 0.2
            },
            "type": "scatter"
           }
          ],
          "scatter3d": [
           {
            "line": {
             "colorbar": {
              "outlinewidth": 0,
              "ticks": ""
             }
            },
            "marker": {
             "colorbar": {
              "outlinewidth": 0,
              "ticks": ""
             }
            },
            "type": "scatter3d"
           }
          ],
          "scattercarpet": [
           {
            "marker": {
             "colorbar": {
              "outlinewidth": 0,
              "ticks": ""
             }
            },
            "type": "scattercarpet"
           }
          ],
          "scattergeo": [
           {
            "marker": {
             "colorbar": {
              "outlinewidth": 0,
              "ticks": ""
             }
            },
            "type": "scattergeo"
           }
          ],
          "scattergl": [
           {
            "marker": {
             "colorbar": {
              "outlinewidth": 0,
              "ticks": ""
             }
            },
            "type": "scattergl"
           }
          ],
          "scattermapbox": [
           {
            "marker": {
             "colorbar": {
              "outlinewidth": 0,
              "ticks": ""
             }
            },
            "type": "scattermapbox"
           }
          ],
          "scatterpolar": [
           {
            "marker": {
             "colorbar": {
              "outlinewidth": 0,
              "ticks": ""
             }
            },
            "type": "scatterpolar"
           }
          ],
          "scatterpolargl": [
           {
            "marker": {
             "colorbar": {
              "outlinewidth": 0,
              "ticks": ""
             }
            },
            "type": "scatterpolargl"
           }
          ],
          "scatterternary": [
           {
            "marker": {
             "colorbar": {
              "outlinewidth": 0,
              "ticks": ""
             }
            },
            "type": "scatterternary"
           }
          ],
          "surface": [
           {
            "colorbar": {
             "outlinewidth": 0,
             "ticks": ""
            },
            "colorscale": [
             [
              0,
              "#0d0887"
             ],
             [
              0.1111111111111111,
              "#46039f"
             ],
             [
              0.2222222222222222,
              "#7201a8"
             ],
             [
              0.3333333333333333,
              "#9c179e"
             ],
             [
              0.4444444444444444,
              "#bd3786"
             ],
             [
              0.5555555555555556,
              "#d8576b"
             ],
             [
              0.6666666666666666,
              "#ed7953"
             ],
             [
              0.7777777777777778,
              "#fb9f3a"
             ],
             [
              0.8888888888888888,
              "#fdca26"
             ],
             [
              1,
              "#f0f921"
             ]
            ],
            "type": "surface"
           }
          ],
          "table": [
           {
            "cells": {
             "fill": {
              "color": "#EBF0F8"
             },
             "line": {
              "color": "white"
             }
            },
            "header": {
             "fill": {
              "color": "#C8D4E3"
             },
             "line": {
              "color": "white"
             }
            },
            "type": "table"
           }
          ]
         },
         "layout": {
          "annotationdefaults": {
           "arrowcolor": "#2a3f5f",
           "arrowhead": 0,
           "arrowwidth": 1
          },
          "autotypenumbers": "strict",
          "coloraxis": {
           "colorbar": {
            "outlinewidth": 0,
            "ticks": ""
           }
          },
          "colorscale": {
           "diverging": [
            [
             0,
             "#8e0152"
            ],
            [
             0.1,
             "#c51b7d"
            ],
            [
             0.2,
             "#de77ae"
            ],
            [
             0.3,
             "#f1b6da"
            ],
            [
             0.4,
             "#fde0ef"
            ],
            [
             0.5,
             "#f7f7f7"
            ],
            [
             0.6,
             "#e6f5d0"
            ],
            [
             0.7,
             "#b8e186"
            ],
            [
             0.8,
             "#7fbc41"
            ],
            [
             0.9,
             "#4d9221"
            ],
            [
             1,
             "#276419"
            ]
           ],
           "sequential": [
            [
             0,
             "#0d0887"
            ],
            [
             0.1111111111111111,
             "#46039f"
            ],
            [
             0.2222222222222222,
             "#7201a8"
            ],
            [
             0.3333333333333333,
             "#9c179e"
            ],
            [
             0.4444444444444444,
             "#bd3786"
            ],
            [
             0.5555555555555556,
             "#d8576b"
            ],
            [
             0.6666666666666666,
             "#ed7953"
            ],
            [
             0.7777777777777778,
             "#fb9f3a"
            ],
            [
             0.8888888888888888,
             "#fdca26"
            ],
            [
             1,
             "#f0f921"
            ]
           ],
           "sequentialminus": [
            [
             0,
             "#0d0887"
            ],
            [
             0.1111111111111111,
             "#46039f"
            ],
            [
             0.2222222222222222,
             "#7201a8"
            ],
            [
             0.3333333333333333,
             "#9c179e"
            ],
            [
             0.4444444444444444,
             "#bd3786"
            ],
            [
             0.5555555555555556,
             "#d8576b"
            ],
            [
             0.6666666666666666,
             "#ed7953"
            ],
            [
             0.7777777777777778,
             "#fb9f3a"
            ],
            [
             0.8888888888888888,
             "#fdca26"
            ],
            [
             1,
             "#f0f921"
            ]
           ]
          },
          "colorway": [
           "#636efa",
           "#EF553B",
           "#00cc96",
           "#ab63fa",
           "#FFA15A",
           "#19d3f3",
           "#FF6692",
           "#B6E880",
           "#FF97FF",
           "#FECB52"
          ],
          "font": {
           "color": "#2a3f5f"
          },
          "geo": {
           "bgcolor": "white",
           "lakecolor": "white",
           "landcolor": "#E5ECF6",
           "showlakes": true,
           "showland": true,
           "subunitcolor": "white"
          },
          "hoverlabel": {
           "align": "left"
          },
          "hovermode": "closest",
          "mapbox": {
           "style": "light"
          },
          "paper_bgcolor": "white",
          "plot_bgcolor": "#E5ECF6",
          "polar": {
           "angularaxis": {
            "gridcolor": "white",
            "linecolor": "white",
            "ticks": ""
           },
           "bgcolor": "#E5ECF6",
           "radialaxis": {
            "gridcolor": "white",
            "linecolor": "white",
            "ticks": ""
           }
          },
          "scene": {
           "xaxis": {
            "backgroundcolor": "#E5ECF6",
            "gridcolor": "white",
            "gridwidth": 2,
            "linecolor": "white",
            "showbackground": true,
            "ticks": "",
            "zerolinecolor": "white"
           },
           "yaxis": {
            "backgroundcolor": "#E5ECF6",
            "gridcolor": "white",
            "gridwidth": 2,
            "linecolor": "white",
            "showbackground": true,
            "ticks": "",
            "zerolinecolor": "white"
           },
           "zaxis": {
            "backgroundcolor": "#E5ECF6",
            "gridcolor": "white",
            "gridwidth": 2,
            "linecolor": "white",
            "showbackground": true,
            "ticks": "",
            "zerolinecolor": "white"
           }
          },
          "shapedefaults": {
           "line": {
            "color": "#2a3f5f"
           }
          },
          "ternary": {
           "aaxis": {
            "gridcolor": "white",
            "linecolor": "white",
            "ticks": ""
           },
           "baxis": {
            "gridcolor": "white",
            "linecolor": "white",
            "ticks": ""
           },
           "bgcolor": "#E5ECF6",
           "caxis": {
            "gridcolor": "white",
            "linecolor": "white",
            "ticks": ""
           }
          },
          "title": {
           "x": 0.05
          },
          "xaxis": {
           "automargin": true,
           "gridcolor": "white",
           "linecolor": "white",
           "ticks": "",
           "title": {
            "standoff": 15
           },
           "zerolinecolor": "white",
           "zerolinewidth": 2
          },
          "yaxis": {
           "automargin": true,
           "gridcolor": "white",
           "linecolor": "white",
           "ticks": "",
           "title": {
            "standoff": 15
           },
           "zerolinecolor": "white",
           "zerolinewidth": 2
          }
         }
        },
        "title": {
         "text": "Scatterplot of Points in a Unit Circle"
        },
        "xaxis": {
         "anchor": "y",
         "domain": [
          0,
          1
         ],
         "title": {
          "text": "x"
         }
        },
        "yaxis": {
         "anchor": "x",
         "domain": [
          0,
          1
         ],
         "title": {
          "text": "y"
         }
        }
       }
      }
     },
     "metadata": {},
     "output_type": "display_data"
    }
   ],
   "source": [
    "import pandas as pd\n",
    "import numpy as np\n",
    "import plotly.express as px\n",
    "\n",
    "# Number of points\n",
    "num_points = 50\n",
    "\n",
    "# Generate points in a unit circle\n",
    "angles = np.linspace(0, 2 * np.pi, num_points, endpoint=False)\n",
    "x = np.cos(angles)\n",
    "y = np.sin(angles)\n",
    "\n",
    "# Create a DataFrame\n",
    "data = {\n",
    "    'factor_name': [f'Factor_{i+1}' for i in range(num_points)],\n",
    "    'asset_class': np.random.choice(['Equity', 'Fixed Income', 'Commodities', 'FX'], num_points),\n",
    "    'x': x,\n",
    "    'y': y\n",
    "}\n",
    "df = pd.DataFrame(data)\n",
    "\n",
    "# Create the scatterplot\n",
    "fig = px.scatter(\n",
    "    df, x='x', y='y',\n",
    "    color='asset_class',\n",
    "    # text='factor_name',  # Add labels\n",
    "    text='asset_class',  # Add labels\n",
    "    hover_data=['factor_name'],\n",
    "    title='Scatterplot of Points in a Unit Circle'\n",
    ")\n",
    "\n",
    "# Customize text colors\n",
    "fig.update_traces(\n",
    "    textfont=dict(\n",
    "        color=df['asset_class'].apply(lambda ac: 'black' if ac == 'Commodities' else 'gray')\n",
    "    ),\n",
    "    textposition='top center'\n",
    ")\n",
    "\n",
    "# Show the plot\n",
    "fig.show()\n"
   ]
  }
 ],
 "metadata": {
  "kernelspec": {
   "display_name": "venv-python312",
   "language": "python",
   "name": "python3"
  },
  "language_info": {
   "codemirror_mode": {
    "name": "ipython",
    "version": 3
   },
   "file_extension": ".py",
   "mimetype": "text/x-python",
   "name": "python",
   "nbconvert_exporter": "python",
   "pygments_lexer": "ipython3",
   "version": "3.12.4"
  }
 },
 "nbformat": 4,
 "nbformat_minor": 2
}
