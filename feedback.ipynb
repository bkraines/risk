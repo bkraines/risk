{
 "cells": [
  {
   "cell_type": "code",
   "execution_count": null,
   "metadata": {},
   "outputs": [],
   "source": [
    "# TEST 9 - NO CACHE\n",
    "\n",
    "import streamlit as st\n",
    "from risk_lib.util import format_date\n",
    "from risk_lib.data import build_factor_data\n",
    "from market_feedback import draw_market_feedback_scatter\n"
   ]
  },
  {
   "cell_type": "code",
   "execution_count": null,
   "metadata": {},
   "outputs": [],
   "source": [
    "\n",
    "halflifes = [126] #, 126, 252]\n",
    "\n",
    "@st.cache_data\n",
    "def build_factor_data_with_cache(halflifes):\n",
    "    return build_factor_data(halflifes).sel(date=slice('2024', None))\n",
    "\n",
    "factor_data = build_factor_data_with_cache(halflifes)\n",
    "factor_list = factor_data['factor_name'].values\n",
    "\n",
    "col1, col2 = st.columns(2)\n",
    "\n",
    "with col1:\n",
    "    corr_asset   = st.selectbox('Correlation Asset', options=factor_list, index=1)\n",
    "    return_start = st.date_input('Start', value='2024-12-31') #, on_change)\n",
    "    return_end   = st.date_input('End', value='today')\n",
    "    # vol_type     = st.selectbox('Volatility Halflife', options=halflifes, index=1)\n",
    "    # corr_type    = st.selectbox('Correlation Halflife', options=halflifes, index=1)\n",
    "vol_type  = 126\n",
    "corr_type = 126\n",
    "\n",
    "return_title = f'Returns from {format_date(return_start)} to {format_date(return_end)} (std)'\n",
    "fig = draw_market_feedback_scatter(factor_data, return_start, return_end, vol_type, corr_type, corr_asset, return_title)\n",
    "\n",
    "with col2:\n",
    "    st.write(fig)\n"
   ]
  }
 ],
 "metadata": {
  "kernelspec": {
   "display_name": "venv-bklm",
   "language": "python",
   "name": "python3"
  },
  "language_info": {
   "codemirror_mode": {
    "name": "ipython",
    "version": 3
   },
   "file_extension": ".py",
   "mimetype": "text/x-python",
   "name": "python",
   "nbconvert_exporter": "python",
   "pygments_lexer": "ipython3",
   "version": "3.11.9"
  }
 },
 "nbformat": 4,
 "nbformat_minor": 2
}
