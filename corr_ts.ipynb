{
 "cells": [
  {
   "cell_type": "code",
   "execution_count": null,
   "metadata": {},
   "outputs": [],
   "source": [
    "import xarray as xr\n",
    "xr.set_options(keep_attrs=True,\n",
    "               display_expand_data=False)\n",
    "import pandas as pd\n",
    "\n",
    "import plotly.express as px\n",
    "import plotly.io as pio\n",
    "# pio.renderers.default='png'\n",
    "\n",
    "from stats import get_factor_data\n"
   ]
  },
  {
   "cell_type": "markdown",
   "metadata": {},
   "source": [
    "# MDS"
   ]
  },
  {
   "cell_type": "code",
   "execution_count": null,
   "metadata": {},
   "outputs": [],
   "source": [
    "from numpy import sqrt, cos, sin, arctan2, array\n",
    "\n",
    "def transform_coordinates(coordinates: pd.DataFrame, transformation_type=None, factor: str = 'SPY'):\n",
    "    \n",
    "    def get_rotation_matrix(theta):\n",
    "        return array([[cos(theta), -sin(theta)],\n",
    "                      [sin(theta), cos(theta)]])\n",
    "        \n",
    "    def rotate(coordinates, theta):\n",
    "        rotation_matrix = get_rotation_matrix(theta)\n",
    "        transformed_coordinates = (rotation_matrix @ coordinates.T).T\n",
    "        transformed_coordinates.columns = coordinates.columns\n",
    "        return transformed_coordinates #.rename(columns=dict(enumerate(df_t.columns)))\n",
    "    \n",
    "    if transformation_type is None:\n",
    "        return coordinates\n",
    "    \n",
    "    v = coordinates.loc[factor]\n",
    "    x, y = v\n",
    "        \n",
    "    if transformation_type == 'rotate':\n",
    "        theta = arctan2(y, x)\n",
    "        return coordinates.pipe(rotate, -theta)\n",
    "    \n",
    "    if transformation_type == 'normalize':\n",
    "        theta = arctan2(y, x)\n",
    "        length = sqrt(sum(v**2))\n",
    "        return coordinates.pipe(rotate, -theta).div(length)\n"
   ]
  },
  {
   "cell_type": "code",
   "execution_count": null,
   "metadata": {},
   "outputs": [],
   "source": [
    "from sklearn.manifold import MDS\n",
    "from numpy import sqrt\n",
    "\n",
    "def multidimensional_scaling(correlation_matrix: pd.DataFrame, init=None) -> pd.DataFrame:\n",
    "    \"\"\"\n",
    "    Perform multidimensional scaling on a correlation matrix.\n",
    "\n",
    "    Parameters\n",
    "    ----------\n",
    "    correlation_matrix : pd.DataFrame\n",
    "        The input correlation matrix as a pandas DataFrame.\n",
    "    init : np.ndarray, optional\n",
    "        Initial positions of the points in the embedding space. If None, random initialization is used.\n",
    "\n",
    "    Returns\n",
    "    -------\n",
    "    pd.DataFrame\n",
    "        A DataFrame containing the MDS results with dimensions 'dim1' and 'dim2'.\n",
    "    \"\"\"\n",
    "    \n",
    "    dissimilarity_matrix = sqrt(1 - correlation_matrix**2)\n",
    "\n",
    "    # Pass n_init explicitly to suppress warning when init is not None:\n",
    "    n_init = 4 if init is None else 1 \n",
    "    embedding = MDS(dissimilarity='precomputed', random_state=42, n_init=n_init)\n",
    "    coordinates = embedding.fit_transform(dissimilarity_matrix, init=init)\n",
    "    \n",
    "    return pd.DataFrame(coordinates, \n",
    "                        index=dissimilarity_matrix.index, \n",
    "                        columns=pd.Index(['dim1', 'dim2'], name='dimension'))\n",
    "\n",
    "\n",
    "def mds_ts_df(corr: xr.DataArray, start_date = None, transformation=None, factor='SPY') -> pd.DataFrame:\n",
    "    # TODO: Factor out corr_type\n",
    "    dates = data.corr.sel(date=slice(start_date, None)).date.values\n",
    "    coordinates = None\n",
    "    \n",
    "    mds_dict = {}\n",
    "    for date in dates:\n",
    "        df = corr.sel(date=date, corr_type=63).to_pandas()\n",
    "        coordinates = multidimensional_scaling(df, init=coordinates)\n",
    "        transformed = transform_coordinates(coordinates, transformation, factor=factor)\n",
    "        mds_dict[date] = transformed\n",
    "    return (pd.concat(mds_dict)\n",
    "            .rename_axis(index=['date', df.index.name])\n",
    "            # .stack()\n",
    "            # .rename('mds')\n",
    "            # .to_xarray()\n",
    "            )\n",
    "\n",
    "\n",
    "# def draw_mds(df: pd.DataFrame) -> px.scatter:\n",
    "#     # df.plot.scatter(x='dim1', y='dim2')\n",
    "#     fig_format = {'template': 'plotly_white', 'height': 750, 'width': 750}\n",
    "#     fig = (px.scatter(df.join(factor_master).reset_index(), \n",
    "#                       x='dim1', y='dim2', text='asset', color='asset_class',\n",
    "#                      **fig_format)\n",
    "#            .update_traces(textposition='middle right', textfont=dict(color='lightgray'))\n",
    "#            .update_xaxes(title=None)\n",
    "#            .update_yaxes(title=None))\n",
    "#     return fig\n",
    "\n",
    "\n",
    "def draw_mds_ts(df: pd.DataFrame) -> px.scatter:\n",
    "    # df.plot.scatter(x='dim1', y='dim2')\n",
    "    fig_format = {'template': 'plotly_white', 'height': 750, 'width': 750}\n",
    "    \n",
    "    fig = (px.scatter(df, \n",
    "                      x='dim1', y='dim2', text='asset', color='asset_class', \n",
    "                      animation_frame='date',\n",
    "                     **fig_format)\n",
    "           .update_traces(textposition='middle right', textfont=dict(color='lightgray'))\n",
    "           .update_xaxes(title=None)\n",
    "           .update_yaxes(title=None))\n",
    "    return fig"
   ]
  },
  {
   "cell_type": "code",
   "execution_count": null,
   "metadata": {},
   "outputs": [],
   "source": [
    "max_tick = max([abs(df1['dim1'].max()),\n",
    "                abs(df1['dim2'].max()),\n",
    "                abs(df1['dim1'].min()),\n",
    "                abs(df1['dim2'].min())\n",
    "                ])"
   ]
  },
  {
   "cell_type": "code",
   "execution_count": null,
   "metadata": {},
   "outputs": [],
   "source": [
    "def draw_mds_ts(df: pd.DataFrame) -> px.scatter:\n",
    "    # df.plot.scatter(x='dim1', y='dim2')\n",
    "    fig_format = {'template': 'plotly_white', 'height': 750, 'width': 750}\n",
    "    \n",
    "    # max_tick = df[['dim1', 'dim2']].abs().max().max()\n",
    "    # max_tick = 4\n",
    "    \n",
    "    fig = (px.scatter(df, \n",
    "                      x='dim1', y='dim2', text='asset', color='asset_class', \n",
    "                      animation_frame='date',\n",
    "                     **fig_format)\n",
    "           .update_traces(textposition='middle right', textfont=dict(color='lightgray'))\n",
    "           .update_xaxes(title=None) #, range=(-max_tick, max_tick))\n",
    "           .update_yaxes(title=None) #, range=(-max_tick, max_tick)))\n",
    "           )\n",
    "        #    .update_xaxes(min=-max_tick, max=max_tick)\n",
    "        #    .update_yaxes(min=-max_tick, max=max_tick)\n",
    "        \n",
    "    return fig\n"
   ]
  },
  {
   "cell_type": "markdown",
   "metadata": {},
   "source": [
    "# Collect data "
   ]
  },
  {
   "cell_type": "code",
   "execution_count": null,
   "metadata": {},
   "outputs": [],
   "source": [
    "factor_data = get_factor_data()\n",
    "data = factor_data\n",
    "factor_master = pd.DataFrame(data.asset.attrs).T\n"
   ]
  },
  {
   "cell_type": "markdown",
   "metadata": {},
   "source": [
    "# Run MDS"
   ]
  },
  {
   "cell_type": "code",
   "execution_count": null,
   "metadata": {},
   "outputs": [],
   "source": [
    "for transformation in [None, 'rotate', 'normalize']:\n",
    "    df = mds_ts_df(data.corr, transformation=transformation, start_date='2020')\n",
    "    df1 = df.reset_index().join(factor_master, on='asset')\n",
    "    df1['date'] = df1['date'].astype(str)\n",
    "    fig = draw_mds_ts(df1)\n",
    "    fig.show()"
   ]
  }
 ],
 "metadata": {
  "kernelspec": {
   "display_name": "venv-python312",
   "language": "python",
   "name": "python3"
  },
  "language_info": {
   "codemirror_mode": {
    "name": "ipython",
    "version": 3
   },
   "file_extension": ".py",
   "mimetype": "text/x-python",
   "name": "python",
   "nbconvert_exporter": "python",
   "pygments_lexer": "ipython3",
   "version": "3.12.4"
  }
 },
 "nbformat": 4,
 "nbformat_minor": 2
}
