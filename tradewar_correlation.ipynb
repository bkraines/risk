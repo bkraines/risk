{
 "cells": [
  {
   "cell_type": "code",
   "execution_count": null,
   "metadata": {},
   "outputs": [],
   "source": [
    "import pandas as pd\n",
    "import xarray as xr\n",
    "xr.set_options(keep_attrs=True,\n",
    "               display_expand_data=False)\n",
    "\n",
    "from data import get_factor_data"
   ]
  },
  {
   "cell_type": "code",
   "execution_count": null,
   "metadata": {},
   "outputs": [],
   "source": [
    "def sort_assets(corr: pd.DataFrame, sorting_factor: str, factor_master: pd.DataFrame) -> pd.Index:\n",
    "    df = (corr[[sorting_factor]]\n",
    "          .join(factor_master[['asset_class', 'hyper_factor']])\n",
    "          .assign(is_theme=lambda df: df['asset_class'] == 'Theme')\n",
    "          .assign(is_sorting_factor=lambda df: df.index == sorting_factor)\n",
    "          )\n",
    "    sorted_index = df.sort_values(by=['is_sorting_factor', 'hyper_factor', 'is_theme', sorting_factor], \n",
    "                                  ascending=[False, False, True, False], key=abs).index\n",
    "    return sorted_index\n"
   ]
  },
  {
   "cell_type": "code",
   "execution_count": null,
   "metadata": {},
   "outputs": [],
   "source": [
    "factor_data = get_factor_data()"
   ]
  },
  {
   "cell_type": "code",
   "execution_count": null,
   "metadata": {},
   "outputs": [],
   "source": [
    "get_factor_data()"
   ]
  },
  {
   "cell_type": "code",
   "execution_count": null,
   "metadata": {},
   "outputs": [],
   "source": [
    "def get_tradewar_corr(ret: xr.DataArray) -> xr.DataArray:\n",
    "    df = ret.to_pandas()\n",
    "    mask = df.index.year.isin([2008, 2018])\n",
    "    return df.loc[mask].dropna(axis=1, how='any').corr()\n"
   ]
  },
  {
   "cell_type": "code",
   "execution_count": null,
   "metadata": {},
   "outputs": [],
   "source": [
    "get_tradewar_corr(factor_data.ret)"
   ]
  },
  {
   "cell_type": "code",
   "execution_count": null,
   "metadata": {},
   "outputs": [],
   "source": [
    "factor_data.ret.to_pandas().info()"
   ]
  },
  {
   "cell_type": "code",
   "execution_count": null,
   "metadata": {},
   "outputs": [],
   "source": [
    "date_latest = factor_data.date.max().values\n",
    "corr = factor_data.corr.sel(corr_type=corr_type, date=date_latest).to_pandas()\n",
    "\n",
    "formatted_corr = format_corr_matrix(corr) #, factor_master['asset_class'])\n",
    "formatted_corr\n",
    "\n"
   ]
  }
 ],
 "metadata": {
  "kernelspec": {
   "display_name": "venv-bklm",
   "language": "python",
   "name": "python3"
  },
  "language_info": {
   "codemirror_mode": {
    "name": "ipython",
    "version": 3
   },
   "file_extension": ".py",
   "mimetype": "text/x-python",
   "name": "python",
   "nbconvert_exporter": "python",
   "pygments_lexer": "ipython3",
   "version": "3.11.9"
  }
 },
 "nbformat": 4,
 "nbformat_minor": 2
}
